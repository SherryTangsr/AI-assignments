{
 "cells": [
  {
   "cell_type": "code",
   "execution_count": 1,
   "metadata": {
    "id": "zLT_WMPuSMSL",
    "colab_type": "code",
    "colab": {}
   },
   "outputs": [],
   "source": [
    "#Below is a sample class for a node \n",
    "class Node():\n",
    "  def __init__(self,value=\"A\"):\n",
    "    self.value=value\n",
    "    self.l_child=None\n",
    "    self.r_child=None\n",
    "  def add_lchild(self,child):\n",
    "    self.l_child=child\n",
    "  def add_rchild(self,child):\n",
    "    self.r_child=child\n",
    "    \n",
    "\n",
    "\n",
    "def build_small_graph():\n",
    "  A=Node(5)\n",
    "  B=Node(4)\n",
    "  C=Node(7)\n",
    "  D=Node(-1)\n",
    "  E=Node(2)\n",
    "  G=Node(4)\n",
    "  F=Node(1)\n",
    "  H=Node(9)\n",
    "  I=Node(0)\n",
    "\n",
    "  \n",
    "  A.add_lchild(C)\n",
    "  A.add_rchild(B)\n",
    "  B.add_lchild(E)\n",
    "  B.add_rchild(D)\n",
    "  E.add_rchild(G)\n",
    "  C.add_lchild(F)\n",
    "  F.add_lchild(H)\n",
    "  F.add_rchild(I)\n",
    "  return A"
   ]
  },
  {
   "cell_type": "code",
   "execution_count": 2,
   "metadata": {
    "id": "hiFL6vj9UuJM",
    "colab_type": "code",
    "colab": {}
   },
   "outputs": [],
   "source": [
    "graph1=build_small_graph()\n"
   ]
  },
  {
   "cell_type": "code",
   "execution_count": 3,
   "metadata": {
    "id": "bL7CPIqRSyBT",
    "colab_type": "code",
    "colab": {}
   },
   "outputs": [],
   "source": [
    "#TODO print out the preorder,inorder, and postorder of the tree"
   ]
  },
  {
   "cell_type": "code",
   "execution_count": 4,
   "metadata": {
    "id": "cNt4fhWebuig",
    "colab_type": "code",
    "colab": {}
   },
   "outputs": [],
   "source": [
    "def preorder(root):\n",
    "    # return condition\n",
    "    if root is None:\n",
    "        return\n",
    "    print(root.value)\n",
    "    preorder(root.l_child)\n",
    "    preorder(root.r_child)\n",
    "    return \"return\"\n",
    "def inorder(root):\n",
    "    # return condition\n",
    "    if root is None:\n",
    "        return\n",
    "    inorder(root.l_child)\n",
    "    print(root.value)\n",
    "    inorder(root.r_child)\n",
    "    return \"return\"\n",
    "def postorder(root):\n",
    "    # return condition\n",
    "    if root is None:\n",
    "        return\n",
    "    postorder(root.l_child)\n",
    "    postorder(root.r_child)\n",
    "    print(root.value)\n",
    "    return \"return\"\n"
   ]
  },
  {
   "cell_type": "code",
   "execution_count": 5,
   "metadata": {
    "id": "TkmSSv68ZFbP",
    "colab_type": "code",
    "colab": {
     "base_uri": "https://localhost:8080/",
     "height": 69.0
    },
    "outputId": "4423281b-39d8-4696-999a-2d6aa0b0e958",
    "executionInfo": {
     "status": "ok",
     "timestamp": 1.564338435851E12,
     "user_tz": 240.0,
     "elapsed": 241.0,
     "user": {
      "displayName": "Joshua Durso-Finley",
      "photoUrl": "",
      "userId": "09608482811993479790"
     }
    }
   },
   "outputs": [
    {
     "name": "stdout",
     "output_type": "stream",
     "text": [
      "5\n7\n1\n9\n0\n4\n2\n4\n-1\nreturn\n9\n1\n0\n7\n5\n2\n4\n4\n-1\nreturn\n9\n0\n1\n7\n4\n2\n-1\n4\n5\nreturn\n"
     ]
    }
   ],
   "source": [
    "print(preorder(graph1))\n",
    "print(inorder(graph1))\n",
    "print(postorder(graph1))\n"
   ]
  },
  {
   "cell_type": "code",
   "execution_count": 6,
   "metadata": {
    "id": "CejbdVqi1I5d",
    "colab_type": "code",
    "colab": {}
   },
   "outputs": [],
   "source": [
    "#Which would you use to find the minimum value of all nodes in the graph?\n",
    "#Build an algorithm which takes in a tree and returns the smallest value in that tree\n",
    "def find_min_tree_val(root):\n",
    "  # return condition\n",
    "  if root is None:\n",
    "      return 100000000\n",
    "  # initialize minimum value\n",
    "  min = root.value\n",
    "  if min > find_min_tree_val(root.l_child):\n",
    "      min = find_min_tree_val(root.l_child)\n",
    "  if min > find_min_tree_val(root.r_child):\n",
    "      min = find_min_tree_val(root.r_child)\n",
    "  return min\n",
    "  "
   ]
  },
  {
   "cell_type": "code",
   "execution_count": 7,
   "metadata": {
    "id": "aSXBdWiD1Vg-",
    "colab_type": "code",
    "colab": {
     "base_uri": "https://localhost:8080/",
     "height": 34.0
    },
    "outputId": "c5df8cb9-4796-4cf7-9673-7cf29a71b829",
    "executionInfo": {
     "status": "ok",
     "timestamp": 1.564338437552E12,
     "user_tz": 240.0,
     "elapsed": 151.0,
     "user": {
      "displayName": "Joshua Durso-Finley",
      "photoUrl": "",
      "userId": "09608482811993479790"
     }
    }
   },
   "outputs": [
    {
     "name": "stdout",
     "output_type": "stream",
     "text": [
      "-1\n"
     ]
    }
   ],
   "source": [
    "print(find_min_tree_val(graph1))"
   ]
  },
  {
   "cell_type": "code",
   "execution_count": 8,
   "metadata": {
    "id": "5MTeSx7N1jyr",
    "colab_type": "code",
    "colab": {}
   },
   "outputs": [],
   "source": [
    ""
   ]
  },
  {
   "cell_type": "code",
   "execution_count": null,
   "metadata": {},
   "outputs": [],
   "source": []
  }
 ],
 "metadata": {
  "colab": {
   "name": "01Traversals.ipynb",
   "version": "0.3.2",
   "provenance": []
  },
  "kernelspec": {
   "name": "python3",
   "display_name": "Python 3"
  }
 },
 "nbformat": 4,
 "nbformat_minor": 0
}
