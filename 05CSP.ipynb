{
 "cells": [
  {
   "cell_type": "markdown",
   "metadata": {
    "colab_type": "text",
    "id": "6Lvf0MTlwoDP"
   },
   "source": [
    "# Assignment 5 - Constraint Satisifaction Problems \n",
    "\n",
    "In this assignment you will solve the n-Queens problem using a constructive method and a replacement method. The n-Queens board requires you to place n queens on a board such that none of them are attacking the other by being on the same horizontal,vertical, or diagonal line. The constructive method starts from an empty board and requires you to fill in the queens. The iterative method will start with a random arrangement and require you to move them to solve it. "
   ]
  },
  {
   "cell_type": "code",
   "execution_count": 2,
   "metadata": {
    "colab": {},
    "colab_type": "code",
    "id": "TdIIkRkrZ3Fh"
   },
   "outputs": [],
   "source": [
    "import numpy as np\n",
    "import random\n",
    "from itertools import permutations\n",
    "from itertools import combinations\n",
    "from collections import deque"
   ]
  },
  {
   "cell_type": "markdown",
   "metadata": {
    "colab_type": "text",
    "id": "imhA39R2yFqW"
   },
   "source": [
    "The following is the implementation of the N-Queens problem you will be using to solve the assignment. While you do not need to modify the implementation, it is important that you understand how the class functions."
   ]
  },
  {
   "cell_type": "code",
   "execution_count": 3,
   "metadata": {
    "colab": {},
    "colab_type": "code",
    "id": "BaHpSkNgZ7mV"
   },
   "outputs": [],
   "source": [
    "class Stack:\n",
    "    def __init__(self):\n",
    "         self.stack = deque([])\n",
    "\n",
    "    def isEmpty(self):\n",
    "        return len(self.stack) == 0\n",
    "\n",
    "    def push(self, item):\n",
    "        self.stack.append(item)\n",
    "\n",
    "    def pop(self):\n",
    "        return self.stack.pop()\n",
    "\n",
    "    def peek(self):\n",
    "        return self.stack[-1]\n",
    "\n",
    "    def size(self):\n",
    "        return len(self.stack)\n",
    "      \n",
    "class NQueensBoard:\n",
    "  \n",
    "    def __init__(self, size=8, iterative=True):\n",
    "        self.size = size\n",
    "        if iterative:\n",
    "            self.board = self.build_board(size)\n",
    "        else:\n",
    "            self.board = self.build_board_constructive(size)\n",
    "\n",
    "    def build_board(self, size):\n",
    "        \"\"\" \n",
    "        This method returns an empty board of size N.\n",
    "        \"\"\"\n",
    "        \n",
    "        board = np.zeros((size, size))\n",
    "        return board\n",
    "\n",
    "    def apply_placement(self, coord):\n",
    "        \"\"\" \n",
    "        This method marks a coordinate on the board as having a Queen.\n",
    "        \"\"\"\n",
    "        \n",
    "        self.board[coord[0], coord[1]] = 1\n",
    "        return self.board\n",
    "\n",
    "    def examine_placement(self, board, coord):\n",
    "        \"\"\" \n",
    "        This method marks a coordinate on a copy of the given board as \n",
    "        having a Queen. This is useful when you want to see what a board\n",
    "        would look like after having made a move.\n",
    "        \"\"\"\n",
    "        \n",
    "        board2 = board.copy()\n",
    "        board2[coord[0], coord[1]] = 1\n",
    "        return board2\n",
    "\n",
    "    def get_available_moves(self, board):\n",
    "        \"\"\" \n",
    "        This method returns a list of legal moves (i.e., coordinates) \n",
    "        on the given board.\n",
    "        \"\"\"\n",
    "        coords = np.asarray(board == 0).nonzero()\n",
    "        coords = np.stack((coords[0], coords[1]), 1)\n",
    "        coords = np.reshape(coords, (-1, 2))\n",
    "        moves = []\n",
    "        for coord in coords:\n",
    "            if self.is_legal(board, coord):\n",
    "                moves.append(coord)\n",
    "        return moves\n",
    "\n",
    "    def is_legal(self, board, coords):\n",
    "        \"\"\" \n",
    "        This method returns True if a Queen may be placed at a given\n",
    "        coordinate on a given board and False otherwise.\n",
    "        \"\"\"\n",
    "        \n",
    "        row, col = coords[0], coords[1]\n",
    "        if np.sum(board[row, :]) != 0:\n",
    "            return False\n",
    "        if np.sum(board[:, col]) != 0:\n",
    "            return False\n",
    "        if np.sum(np.diagonal(board, offset=col - row, axis1=0, axis2=1)) != 0:\n",
    "            return False\n",
    "        if np.sum(np.diagonal(np.fliplr(board), offset=self.size - col - row - 1, axis1=0, axis2=1)) != 0:\n",
    "            return False\n",
    "        return True\n",
    "\n",
    "    def build_board_constructive(self, n):\n",
    "        \"\"\" \n",
    "        This method returns a randomly populated board of given size N.\n",
    "        \"\"\"\n",
    "        \n",
    "        board = np.zeros((n, n))\n",
    "        cols = [i for i in range(n)]\n",
    "        random.shuffle(cols)\n",
    "        for i in range(n):\n",
    "            board[i, cols[i]] = 1\n",
    "        return board\n",
    "\n",
    "    def get_moves_constructed(self, board):\n",
    "        p1 = []\n",
    "        moves = []\n",
    "        for i in range(self.size):\n",
    "            cols = [j for j in range(i, self.size)]\n",
    "            a = np.where(board[i, :])\n",
    "            p1.append([i, a[0][0]])\n",
    "        return list(combinations(p1, 2))\n",
    "\n",
    "    def apply_move_constructed(self,  board,move):\n",
    "        board1 = board.copy()\n",
    "        loc1 = move[0]\n",
    "        loc2 = move[1]\n",
    "        board1[loc1[0], loc1[1]] = 0\n",
    "        board1[loc2[0], loc2[1]] = 0\n",
    "        board1[loc1[0], loc2[1]] = 1\n",
    "        board1[loc2[0], loc1[1]] = 1\n",
    "        return board1\n",
    "\n",
    "    def is_goal_state(self, board):\n",
    "        \"\"\" \n",
    "        Use this method to check if the problem is solved.\n",
    "        \"\"\"\n",
    "        \n",
    "        # Check that the correct number of Queens are on the board.\n",
    "        if np.sum(board) != self.size:\n",
    "            return False\n",
    "        # Check that each row and column contain at most one Queen.\n",
    "        for i in range(self.size):\n",
    "            if (np.sum(board[i, :]) > 1) or (np.sum(board[:, i] > 1)):\n",
    "                print(np.sum(board[i, :])) \n",
    "                print(np.sum(board[:, i]))\n",
    "                return False\n",
    "        # Check that the diagonal tiles (running top left -> bottom right) have at most 1 Queen.\n",
    "        for i in range(self.size):\n",
    "            row, col = np.unravel_index(i, shape=(self.size, self.size))\n",
    "            offset = abs(col - row)\n",
    "\n",
    "            # Get the diagonal tiles offset by 0, 1, -1, 2, -2, etc. from\n",
    "            # the center.\n",
    "            diag1 = np.diagonal(board, offset=offset, axis1=0, axis2=1)\n",
    "            diag2 = np.diagonal(board, offset=-offset, axis1=0, axis2=1)\n",
    "\n",
    "            if (diag1.sum() > 1) or (diag2.sum() > 1):\n",
    "                return False\n",
    "        # Check that the diagonal tiles (running bottom left -> top right) have at most 1 Queen.\n",
    "        for i in range(self.size):\n",
    "            row, col = np.unravel_index(i, shape=(self.size, self.size))\n",
    "            offset = abs(col - row)\n",
    "\n",
    "            # Get the diagonal tiles offset by 0, 1, -1, 2, -2, etc. from\n",
    "            # the center.\n",
    "            diag1 = np.diagonal(np.fliplr(board), offset=offset, axis1=0, axis2=1)\n",
    "            diag2 = np.diagonal(np.fliplr(board), offset=-offset, axis1=0, axis2=1)\n",
    "\n",
    "            if (diag1.sum() > 1) or (diag2.sum() > 1):\n",
    "                return False\n",
    "        return True"
   ]
  },
  {
   "cell_type": "code",
   "execution_count": 4,
   "metadata": {
    "colab": {
     "base_uri": "https://localhost:8080/",
     "height": 308.0
    },
    "colab_type": "code",
    "id": "BsNGci0Y-bYw",
    "outputId": "00ca3c20-742e-460b-bad1-aec1d1b6645f"
   },
   "outputs": [
    {
     "name": "stdout",
     "output_type": "stream",
     "text": [
      "[[0. 0. 0. 0. 0. 0. 0. 0.]\n [0. 0. 0. 0. 0. 0. 0. 0.]\n [0. 0. 0. 0. 0. 0. 0. 0.]\n [0. 0. 0. 0. 0. 0. 0. 0.]\n [0. 0. 0. 0. 0. 0. 0. 0.]\n [0. 0. 0. 0. 0. 0. 0. 0.]\n [0. 0. 0. 0. 0. 0. 0. 0.]\n [0. 0. 0. 0. 0. 0. 0. 0.]]\n"
     ]
    },
    {
     "data": {
      "text/plain": [
       "array([[0., 0., 0., 0., 0., 0., 0., 0.],\n       [0., 0., 0., 0., 0., 0., 0., 0.],\n       [0., 0., 0., 0., 0., 0., 0., 0.],\n       [0., 0., 0., 0., 0., 0., 0., 0.],\n       [0., 0., 0., 0., 0., 0., 0., 0.],\n       [0., 0., 0., 0., 0., 0., 0., 0.],\n       [0., 0., 0., 0., 0., 0., 0., 0.],\n       [0., 0., 0., 0., 0., 0., 0., 0.]])"
      ]
     },
     "execution_count": 4,
     "metadata": {},
     "output_type": "execute_result"
    }
   ],
   "source": [
    "# Create and visualize an empty 8x8 board.\n",
    "n_queens = NQueensBoard(8, iterative=True)\n",
    "print(n_queens.board)\n",
    "n_queens.board"
   ]
  },
  {
   "cell_type": "code",
   "execution_count": 19,
   "metadata": {
    "colab": {
     "base_uri": "https://localhost:8080/",
     "height": 316.0
    },
    "colab_type": "code",
    "id": "XsMfwfv9ByGk",
    "outputId": "67357da5-dc63-4edd-84a0-282b125a92de"
   },
   "outputs": [
    {
     "name": "stdout",
     "output_type": "stream",
     "text": [
      "(array([[0., 0., 0., 0., 1., 0., 0., 0.],\n       [0., 0., 0., 0., 0., 0., 1., 0.],\n       [0., 1., 0., 0., 0., 0., 0., 0.],\n       [0., 0., 0., 0., 0., 1., 0., 0.],\n       [0., 0., 1., 0., 0., 0., 0., 0.],\n       [1., 0., 0., 0., 0., 0., 0., 0.],\n       [0., 0., 0., 1., 0., 0., 0., 0.],\n       [0., 0., 0., 0., 0., 0., 0., 1.]]), 1969)\n"
     ]
    }
   ],
   "source": [
    "#TODO 1: Use a search algorithm to solve the problem for 1-2-3-4-8 Queens using get_available_moves() and examine_placement().\n",
    "\n",
    "def dfs(board):\n",
    "    ### TODO: START OF YOUR CODE ###\n",
    "    board_set = set()\n",
    "    search_stack = Stack()\n",
    "    search_stack.push(board)\n",
    "    while not search_stack.isEmpty():\n",
    "        # print(search_stack.size())\n",
    "        # print(len(board_set))\n",
    "        current_board = search_stack.pop()\n",
    "        if n_queens.is_goal_state(current_board):\n",
    "            return current_board,len(board_set)\n",
    "        elif str(list(current_board)) not in board_set:\n",
    "            for each in n_queens.get_available_moves(current_board):\n",
    "                next_board = n_queens.examine_placement(current_board,each)\n",
    "                if str(list(next_board)) not in board_set:\n",
    "                    search_stack.push(next_board)\n",
    "            board_set.add(str(list(current_board)))\n",
    "\n",
    "    # a node is said to have been 'expanded' when its\n",
    "    # children have been added to the frontier\n",
    "    ### TODO: END OF YOUR CODE ###\n",
    "    raise Exception(\"Unreachable\")\n",
    "# Create and visualize a randomly populated 8x8 board.\n",
    "print(dfs(n_queens.board))"
   ]
  },
  {
   "cell_type": "code",
   "execution_count": 21,
   "metadata": {
    "colab": {
     "base_uri": "https://localhost:8080/",
     "height": 163.0
    },
    "colab_type": "code",
    "id": "n92Vp0BZUONZ",
    "outputId": "50c5e68a-fd04-44bd-e9cb-4e91214c6cb7"
   },
   "outputs": [
    {
     "name": "stdout",
     "output_type": "stream",
     "text": [
      "[[0. 0. 0. 1. 0. 0. 0. 0.]\n [0. 1. 0. 0. 0. 0. 0. 0.]\n [1. 0. 0. 0. 0. 0. 0. 0.]\n [0. 0. 0. 0. 0. 0. 1. 0.]\n [0. 0. 0. 0. 1. 0. 0. 0.]\n [0. 0. 0. 0. 0. 1. 0. 0.]\n [0. 0. 1. 0. 0. 0. 0. 0.]\n [0. 0. 0. 0. 0. 0. 0. 1.]]\n"
     ]
    }
   ],
   "source": [
    "# Create and visualize a randomly populated 8x8 board.\n",
    "n_queens2 = NQueensBoard(8, iterative=False)\n",
    "print(n_queens2.board)"
   ]
  },
  {
   "cell_type": "code",
   "execution_count": 22,
   "metadata": {
    "colab": {
     "base_uri": "https://localhost:8080/",
     "height": 316.0
    },
    "colab_type": "code",
    "id": "6Fcpgthfyz-u",
    "outputId": "41c4cefc-eea0-4a3f-fe1c-6cc07f9a5b0a"
   },
   "outputs": [
    {
     "name": "stdout",
     "output_type": "stream",
     "text": [
      "(array([[0., 0., 0., 0., 1., 0., 0., 0.],\n       [0., 0., 1., 0., 0., 0., 0., 0.],\n       [1., 0., 0., 0., 0., 0., 0., 0.],\n       [0., 0., 0., 0., 0., 0., 1., 0.],\n       [0., 1., 0., 0., 0., 0., 0., 0.],\n       [0., 0., 0., 0., 0., 0., 0., 1.],\n       [0., 0., 0., 0., 0., 1., 0., 0.],\n       [0., 0., 0., 1., 0., 0., 0., 0.]]), 13)\n"
     ]
    }
   ],
   "source": [
    "#TODO: Use informed search to swap the queens using apply_moves_constructed() and get_moves_constructed().\n",
    "class Queue:\n",
    "    def __init__(self):\n",
    "        self.queue = deque([])\n",
    "\n",
    "    def isEmpty(self):\n",
    "        return len(self.queue) == 0\n",
    "\n",
    "    def push(self, item):\n",
    "        self.queue.append(item)\n",
    "\n",
    "    def pop(self):\n",
    "        return self.queue.popleft()\n",
    "\n",
    "    def peek(self):\n",
    "        return self.queue[0]\n",
    "\n",
    "    def size(self):\n",
    "        return len(self.queue)\n",
    "\n",
    "def heuristic(board):\n",
    "    horizontal_cost_heuristic = 0\n",
    "    diagonal_cost_heuristic = 0\n",
    "    return_value = 0\n",
    "    for i in range(0, n_queens2.size):\n",
    "        for j in range(0, n_queens2.size):\n",
    "            if board[i][j] == 1:\n",
    "                horizontal_cost_heuristic = horizontal_cost_heuristic - 2\n",
    "                for h in range(0, n_queens2.size):\n",
    "                    if board[i][h] == 1:\n",
    "                         horizontal_cost_heuristic = horizontal_cost_heuristic + 1\n",
    "                    #Did not understand below vertical check.\n",
    "                    if board[h][j] == 1:\n",
    "                         horizontal_cost_heuristic =  horizontal_cost_heuristic + 1\n",
    "                u = i + 1\n",
    "                c = j + 1\n",
    "                while u < n_queens2.size and c < n_queens2.size:\n",
    "                    if board[u][c] == 1:\n",
    "                         diagonal_cost_heuristic =  diagonal_cost_heuristic + 1\n",
    "                    u = u + 1\n",
    "                    c = c + 1\n",
    "                u = i - 1\n",
    "                c = j + 1\n",
    "                while u >= 0 and c < n_queens2.size:\n",
    "                    if board[u][c] == 1:\n",
    "                         diagonal_cost_heuristic =  diagonal_cost_heuristic + 1\n",
    "                    u = u - 1\n",
    "                    c = c + 1\n",
    "                u = i + 1\n",
    "                c = j - 1\n",
    "                while u < n_queens2.size and c >= 0:\n",
    "                    if board[u][c] == 1:\n",
    "                         diagonal_cost_heuristic =  diagonal_cost_heuristic + 1\n",
    "                    u = u + 1\n",
    "                    c = c - 1\n",
    "                u = i - 1\n",
    "                c = j - 1\n",
    "                while u >= 0 and c >= 0:\n",
    "                    if board[u][c] == 1:\n",
    "                        heu_diagonal_cost =  diagonal_cost_heuristic + 1\n",
    "                    u = u - 1\n",
    "                    c = c - 1\n",
    "    return_value = ( diagonal_cost_heuristic +  horizontal_cost_heuristic) / 2\n",
    "\n",
    "\n",
    "    return int(return_value)\n",
    "\n",
    "    # return 0\n",
    "from itertools import count\n",
    "\n",
    "unique = count()\n",
    "\n",
    "\n",
    "def astar(board):\n",
    "    ### TODO: START OF YOUR CODE ###\n",
    "\n",
    "    # a node is said to have been 'expanded' when its\n",
    "    # children have been added to the frontier\n",
    "\n",
    "    from queue import PriorityQueue\n",
    "\n",
    "    frontier = PriorityQueue()\n",
    "    frontier.put((0, next(unique), board))\n",
    "\n",
    "    expanded_set = set()\n",
    "\n",
    "    while not frontier.empty():\n",
    "        current_board = frontier.get()[2]\n",
    "        if n_queens2.is_goal_state(current_board):\n",
    "            return current_board, len(expanded_set)\n",
    "        elif str(list(current_board)) not in expanded_set:\n",
    "            # print(n_queens2.get_moves_constructed(current_board))\n",
    "            for each in n_queens2.get_moves_constructed(current_board):\n",
    "                next_board = n_queens2.apply_move_constructed(current_board, each)\n",
    "                if str(list(next_board)) not in expanded_set:\n",
    "                    frontier.put(( np.count_nonzero(next_board)+heuristic(\n",
    "                        next_board), next(unique), next_board))\n",
    "            expanded_set.add(str(list(current_board)))\n",
    "            ### TODO: END OF YOUR CODE ###\n",
    "    raise Exception(\"Unreachable\")\n",
    "\n",
    "\n",
    "end_board = astar(n_queens2.board)\n",
    "print(end_board)\n"
   ]
  },
  {
   "cell_type": "code",
   "execution_count": 0,
   "metadata": {
    "colab": {},
    "colab_type": "code",
    "id": "d2FxukqbDH6t"
   },
   "outputs": [],
   "source": []
  }
 ],
 "metadata": {
  "colab": {
   "collapsed_sections": [],
   "name": "05CSP.ipynb",
   "provenance": [],
   "version": "0.3.2"
  },
  "kernelspec": {
   "display_name": "Python 3",
   "language": "python",
   "name": "python3"
  },
  "language_info": {
   "codemirror_mode": {
    "name": "ipython",
    "version": 3
   },
   "file_extension": ".py",
   "mimetype": "text/x-python",
   "name": "python",
   "nbconvert_exporter": "python",
   "pygments_lexer": "ipython3",
   "version": "3.7.0"
  }
 },
 "nbformat": 4,
 "nbformat_minor": 1
}
