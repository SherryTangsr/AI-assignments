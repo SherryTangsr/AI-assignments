{
 "cells": [
  {
   "cell_type": "code",
   "execution_count": 2,
   "metadata": {
    "id": "4AnPAZuZqUFM",
    "colab_type": "code",
    "colab": {}
   },
   "outputs": [],
   "source": [
    "import numpy as np\n",
    "import heapq\n",
    "from itertools import count"
   ]
  },
  {
   "cell_type": "code",
   "execution_count": 3,
   "metadata": {
    "id": "NjRsHMH6qb0C",
    "colab_type": "code",
    "colab": {}
   },
   "outputs": [],
   "source": [
    "class Node():\n",
    "  def __init__(self,value=\"A\"):\n",
    "    self.value=value\n",
    "    self.children=[]\n",
    "  def add_child(self,child,edge_weight=0):\n",
    "    self.children.append((edge_weight,child))\n",
    "    \n",
    "class Stack:\n",
    "  def __init__(self):\n",
    "     self.items = []\n",
    "\n",
    "  def isEmpty(self):\n",
    "     return self.items == []\n",
    "\n",
    "  def push(self, item):\n",
    "     self.items.append(item)\n",
    "\n",
    "  def pop(self):\n",
    "    val=self.items[len(self.items)-1]\n",
    "    self.items=self.items[:-1]\n",
    "    return val\n",
    "\n",
    "  def peek(self):\n",
    "     return self.items[len(self.items)-1]\n",
    "\n",
    "  def size(self):\n",
    "     return len(self.items)\n",
    "    \n",
    "class Queue:\n",
    "  def __init__(self):\n",
    "     self.items = []\n",
    "\n",
    "  def isEmpty(self):\n",
    "     return self.items == []\n",
    "\n",
    "  def push(self, item):\n",
    "     self.items.append(item)\n",
    "\n",
    "  def pop(self):\n",
    "    val=self.items[0]\n",
    "    self.items=self.items[1:]\n",
    "    return val\n",
    "      \n",
    "  def peek(self):\n",
    "     return self.items[0]\n",
    "\n",
    "  def size(self):\n",
    "     return len(self.items)"
   ]
  },
  {
   "cell_type": "code",
   "execution_count": 4,
   "metadata": {
    "id": "sTBr1EQFqcIE",
    "colab_type": "code",
    "colab": {}
   },
   "outputs": [],
   "source": [
    "class tic_tac_toe_game():\n",
    "  def __init__(self,n=3,print=False):\n",
    "    self.size=n\n",
    "    self.printing=False\n",
    "    self.board=self.build_board(n)\n",
    "    self.turn_number=0\n",
    "    self.game_complete=0\n",
    "  def build_board(self,n):\n",
    "    board=np.zeros((n,n))\n",
    "    return board\n",
    "  def reset_board(self,n):\n",
    "    self.board=np.zeros((n,n))\n",
    "    self.turn_number=0\n",
    "\n",
    "  def get_available_moves(self,board):\n",
    "    coords=np.asarray(board==0).nonzero()\n",
    "    coords=np.stack((coords[0],coords[1]),1)\n",
    "    coords=np.reshape(coords,(-1,2))\n",
    "    if (self.is_goal_state(board)!=0):\n",
    "      return []\n",
    "    return coords\n",
    "      \n",
    "  def is_move_legal(self,move,board):\n",
    "    return board[move[0]][move[1]]==0\n",
    "  def apply_move(self,move):\n",
    "    #Move is legal\n",
    "    if(self.turn_number % 2 ==0):\n",
    "      self.board[move[0],move[1]]=1\n",
    "    else:\n",
    "      self.board[move[0],move[1]]=2\n",
    "    self.turn_number=self.turn_number+1\n",
    "  def examine_move(self,board,move,player):\n",
    "    board2=board.copy()\n",
    "    #Move is legal\n",
    "    if(1):\n",
    "      board2[move[0],move[1]]=player\n",
    "    return board2\n",
    "  def is_goal_state(self,board):\n",
    "    #Will do in a second\n",
    "   \n",
    "    for i in range(3):\n",
    "      if(np.all(board[i,:]==1) or np.all(board[:,i]==1) or np.all(np.diag(board)==1) or np.all(np.diag(np.fliplr(board))==1)):\n",
    "        return 1\n",
    "      if(np.all(board[i,:]==2) or np.all(board[:,i]==2)or np.all(np.diag(board)==2)or np.all(np.diag(np.fliplr(board))==2)):\n",
    "        return -1\n",
    "    if(np.sum(board)>5*1+4*2-1):\n",
    "      return 0.1\n",
    "    return 0\n",
    "      "
   ]
  },
  {
   "cell_type": "code",
   "execution_count": 5,
   "metadata": {
    "id": "1qUO6zAQtqJq",
    "colab_type": "code",
    "colab": {}
   },
   "outputs": [],
   "source": [
    "A=tic_tac_toe_game()"
   ]
  },
  {
   "cell_type": "code",
   "execution_count": 6,
   "metadata": {
    "id": "r-lO-VpPtwR3",
    "colab_type": "code",
    "outputId": "13e0a83c-0587-47d7-8389-b62031d92942",
    "executionInfo": {
     "status": "ok",
     "timestamp": 1.564967000048E12,
     "user_tz": 240.0,
     "elapsed": 332.0,
     "user": {
      "displayName": "Joshua Durso-Finley",
      "photoUrl": "",
      "userId": "09608482811993479790"
     }
    },
    "colab": {
     "base_uri": "https://localhost:8080/",
     "height": 69.0
    }
   },
   "outputs": [
    {
     "name": "stdout",
     "output_type": "stream",
     "text": [
      "[[0. 0. 0.]\n [0. 0. 0.]\n [0. 0. 0.]]\n"
     ]
    }
   ],
   "source": [
    "print(A.board)"
   ]
  },
  {
   "cell_type": "code",
   "execution_count": 7,
   "metadata": {
    "id": "acjj2B7Ot8aL",
    "colab_type": "code",
    "colab": {}
   },
   "outputs": [],
   "source": [
    "###TODO code the minimax algorithm and return the best move\n",
    "#You will get a board,if you are maximizing\n",
    "#def minimax_with_move(board,maximizing):\n",
    "#Call examine move with (board,move,2-maximizing)\n",
    "#I would recommend a helper function which returns the move while the main recursive call returns a move\n",
    "def minimax(board, maximizing):\n",
    "    origin_next_moves = list(A.get_available_moves(board))\n",
    "    next_moves = []\n",
    "    for each in origin_next_moves:\n",
    "        next_moves.append(list(each))\n",
    "    np.random.shuffle(next_moves)\n",
    "\n",
    "    # value_dic = {}\n",
    "    # for each in next_moves:\n",
    "    #     # print(\"each\",each)\n",
    "    #     value_dic[(each[0], each[1])] = 0\n",
    "    best_move =[[]]\n",
    "    final_value = minimax_inner(board, maximizing, best_move, origin_next_moves)\n",
    "    # print(\"final:\",final_value)\n",
    "    # print(best_move)\n",
    "    # for key, value in value_dic.items():\n",
    "    #     if value == final_value:\n",
    "    #         result.append(key)\n",
    "    # print(result)\n",
    "    # return np.asarray(list(result[0]))\n",
    "    return np.asarray(best_move[0])\n",
    "\n",
    "def minimax_inner(board, maximizing, best_move, origin):\n",
    "    if A.is_goal_state(board) != 0:  # means game over\n",
    "        return A.is_goal_state(board)\n",
    "    if maximizing == 1:  # it is the opponent's turn\n",
    "        value = float(\"-inf\")\n",
    "        move_set = A.get_available_moves(board)\n",
    "        np.random.shuffle(move_set)\n",
    "        for each in move_set:\n",
    "            # # print(next_moves)\n",
    "            # next_moves.remove(each)\n",
    "            next_board = A.examine_move(board,each,2-maximizing)\n",
    "            mm = minimax_inner(next_board, 0, best_move, origin)\n",
    "            if mm>value:\n",
    "                best_move[0] = each\n",
    "                # print(best_move)\n",
    "            value = max(value,mm)\n",
    "        return value\n",
    "    else:  # it is my turn\n",
    "        value = float(\"inf\")\n",
    "        move_set = A.get_available_moves(board)\n",
    "        np.random.shuffle(move_set)\n",
    "        for each in move_set:\n",
    "            next_board = A.examine_move(board,each,2-maximizing)\n",
    "            mm =  minimax_inner(next_board, 1,  best_move, origin)\n",
    "            if mm<value:\n",
    "                best_move[0] = each\n",
    "                # print(best_move)\n",
    "            value = min(value,mm)\n",
    "        return value\n"
   ]
  },
  {
   "cell_type": "code",
   "execution_count": 8,
   "metadata": {
    "id": "kX8-CAejxepz",
    "colab_type": "code",
    "outputId": "891641ce-0bbd-4ab6-c64c-9cc0947cad9e",
    "executionInfo": {
     "status": "ok",
     "timestamp": 1.564967636217E12,
     "user_tz": 240.0,
     "elapsed": 15868.0,
     "user": {
      "displayName": "Joshua Durso-Finley",
      "photoUrl": "",
      "userId": "09608482811993479790"
     }
    },
    "colab": {
     "base_uri": "https://localhost:8080/",
     "height": 694.0
    }
   },
   "outputs": [
    {
     "name": "stdout",
     "output_type": "stream",
     "text": [
      "[[0. 0. 0.]\n [0. 0. 0.]\n [0. 0. 0.]]\n[[0. 0. 0.]\n [0. 0. 0.]\n [0. 1. 0.]]\n"
     ]
    },
    {
     "name": "stdout",
     "output_type": "stream",
     "text": [
      "[[0. 0. 2.]\n [0. 0. 0.]\n [0. 1. 0.]]\n[[1. 0. 2.]\n [0. 0. 0.]\n [0. 1. 0.]]\n"
     ]
    },
    {
     "name": "stdout",
     "output_type": "stream",
     "text": [
      "[[1. 0. 2.]\n [0. 0. 2.]\n [0. 1. 0.]]\n[[1. 1. 2.]\n [0. 0. 2.]\n [0. 1. 0.]]\n[[1. 1. 2.]\n [0. 0. 2.]\n [0. 1. 2.]]\n"
     ]
    }
   ],
   "source": [
    "A.reset_board(3)\n",
    "print(A.board)\n",
    "\n",
    "maximizing=1\n",
    "#while(A.is_goal_state(A.board)==0):\n",
    "#  val,move=minimax_with_move(A.board,maximizing)\n",
    "#  A.apply_move(move)\n",
    "#  print(A.board)\n",
    "\n",
    "#  if(A.is_goal_state(A.board)==0):\n",
    "#    val,move=minimax_with_move(A.board,1-maximizing)\n",
    "#    A.apply_move(move)\n",
    "#    print(A.board)\n",
    "\n",
    "    \n",
    "A.reset_board(3)\n",
    "while(A.is_goal_state(A.board)==0):    \n",
    "  moveset=A.get_available_moves(A.board)\n",
    "  np.random.shuffle(moveset)   \n",
    "  A.apply_move(moveset[0])\n",
    "  print(A.board)\n",
    "  if(A.is_goal_state(A.board)==0):\n",
    "    move=minimax(A.board,1-maximizing)\n",
    "    A.apply_move(move)\n",
    "    print(A.board)   \n",
    "   \n"
   ]
  },
  {
   "cell_type": "code",
   "execution_count": 26,
   "metadata": {
    "id": "YMDxEIBT3ejt",
    "colab_type": "code",
    "colab": {}
   },
   "outputs": [
    {
     "name": "stdout",
     "output_type": "stream",
     "text": [
      "[[0. 1. 0.]\n [0. 0. 0.]\n [0. 0. 0.]]\n"
     ]
    },
    {
     "name": "stdout",
     "output_type": "stream",
     "text": [
      "[[2. 1. 0.]\n [0. 0. 0.]\n [0. 0. 0.]]\n[[2. 1. 0.]\n [0. 0. 1.]\n [0. 0. 0.]]\n[[2. 1. 0.]\n [0. 0. 1.]\n [0. 2. 0.]]\n[[2. 1. 0.]\n [0. 0. 1.]\n [1. 2. 0.]]\n[[2. 1. 0.]\n [0. 2. 1.]\n [1. 2. 0.]]\n[[2. 1. 1.]\n [0. 2. 1.]\n [1. 2. 0.]]\n[[2. 1. 1.]\n [0. 2. 1.]\n [1. 2. 2.]]\n"
     ]
    }
   ],
   "source": [
    "# To do: Convert minimax code to code with alpha beta pruning\n",
    "def alpha_beta_pruning(board, maximizing):\n",
    "    origin_next_moves = list(A.get_available_moves(board))\n",
    "    next_moves = []\n",
    "    for each in origin_next_moves:\n",
    "        next_moves.append(list(each))\n",
    "    np.random.shuffle(next_moves)\n",
    "\n",
    "    # value_dic = {}\n",
    "    # for each in next_moves:\n",
    "    #     # print(\"each\",each)\n",
    "    #     value_dic[(each[0], each[1])] = 0\n",
    "\n",
    "    alpha = float(\"-inf\")\n",
    "    beta = float(\"inf\")\n",
    "    best_move = [[]]\n",
    "    final_value = alpha_beta_pruning_inner(board, alpha, beta, maximizing, best_move, origin_next_moves)\n",
    "    # print(\"final:\", final_value)\n",
    "    # print(best_move[0])\n",
    "    return best_move[0]\n",
    "\n",
    "\n",
    "def alpha_beta_pruning_inner(board, alpha, beta, maximizing, best_move, origin):\n",
    "    if A.is_goal_state(board) != 0:  # means game over\n",
    "        return A.is_goal_state(board)\n",
    "    if maximizing == 1:  # it is the opponent's turn\n",
    "        value = float(\"-inf\")\n",
    "        next_moves = A.get_available_moves(board)\n",
    "        np.random.shuffle(next_moves)\n",
    "        for each in next_moves:\n",
    "            # print(next_moves)\n",
    "            next_board = A.examine_move(board, each, 2 - maximizing)\n",
    "            ab = alpha_beta_pruning_inner(next_board, alpha, beta, 0, best_move, origin)\n",
    "            if ab > value:\n",
    "                best_move[0] = each\n",
    "            value = max(value, ab)\n",
    "            if value >= beta:\n",
    "                return value\n",
    "            alpha = max(alpha,value)\n",
    "        return value\n",
    "    else:  # it is my turn\n",
    "        value = float(\"inf\")\n",
    "        next_moves = A.get_available_moves(board)\n",
    "        np.random.shuffle(next_moves)\n",
    "        for each in next_moves:\n",
    "            # print(next_moves)\n",
    "            next_board = A.examine_move(board, each, 2 - maximizing)\n",
    "            ab = alpha_beta_pruning_inner(next_board, alpha, beta, 1, best_move, origin)\n",
    "            if ab < value:\n",
    "                best_move[0] = each\n",
    "            value = min(value, ab)\n",
    "            if value <= alpha:\n",
    "                return value\n",
    "            beta = min(value,beta)\n",
    "        return value\n",
    "\n",
    "# start game   \n",
    "A.reset_board(3)\n",
    "\n",
    "while (A.is_goal_state(A.board) == 0):\n",
    "    maximizing = 1\n",
    "    moveset = A.get_available_moves(A.board)\n",
    "    np.random.shuffle(moveset)\n",
    "    A.apply_move(moveset[0])\n",
    "    print(A.board)\n",
    "\n",
    "    if (A.is_goal_state(A.board) == 0):\n",
    "        move = alpha_beta_pruning(A.board, 1 - maximizing)\n",
    "        A.apply_move(move)\n",
    "        print(A.board)\n"
   ]
  },
  {
   "cell_type": "code",
   "execution_count": 23,
   "metadata": {},
   "outputs": [],
   "source": []
  },
  {
   "cell_type": "code",
   "execution_count": null,
   "metadata": {},
   "outputs": [],
   "source": []
  }
 ],
 "metadata": {
  "colab": {
   "name": "06tictactoe.ipynb",
   "version": "0.3.2",
   "provenance": [],
   "collapsed_sections": []
  },
  "kernelspec": {
   "name": "python3",
   "display_name": "Python 3"
  }
 },
 "nbformat": 4,
 "nbformat_minor": 0
}
