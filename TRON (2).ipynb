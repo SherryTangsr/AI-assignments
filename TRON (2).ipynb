{
 "cells": [
  {
   "cell_type": "markdown",
   "metadata": {
    "id": "9k8VzY7l15EA",
    "colab_type": "text"
   },
   "source": [
    "# Final Project - TRON Tournament"
   ]
  },
  {
   "cell_type": "markdown",
   "metadata": {
    "id": "kp1DaXSa2Pgv",
    "colab_type": "text"
   },
   "source": [
    "## 1. Set-up"
   ]
  },
  {
   "cell_type": "code",
   "execution_count": 1,
   "metadata": {
    "id": "kcJlUeqplOWs",
    "colab_type": "code",
    "colab": {}
   },
   "outputs": [],
   "source": [
    "# Import any libraries you might need to develop our agent.\n",
    "import numpy as np\n",
    "import matplotlib\n",
    "import time\n",
    "import signal\n",
    "import matplotlib.pyplot as plt\n",
    "from matplotlib.animation import FuncAnimation\n",
    "from matplotlib import animation, rc\n",
    "from IPython.display import HTML, clear_output\n",
    "import copy"
   ]
  },
  {
   "cell_type": "markdown",
   "metadata": {
    "id": "bzhgO2_m2Klx",
    "colab_type": "text"
   },
   "source": [
    "## 2. Agent\n",
    "\n",
    "The task is to implement an agent using a technique discussed during the class. Your agent should be able to beat random player ~99% of the time, and must comply with a  time limit of 5 seconds per move. Furthermore, you cannot modify the game board directly; any projects that do so that will be disqualified."
   ]
  },
  {
   "cell_type": "code",
   "execution_count": 34,
   "metadata": {
    "id": "AXJgzLvdCzCp",
    "colab_type": "code",
    "colab": {}
   },
   "outputs": [],
   "source": [
    "# TODO: Implement your agent here by modifying the 'choose_move' function.\n",
    "# Do not change the instantiation function or any of the function signatures.\n",
    "# TODO: Implement your agent here.\n",
    "import math\n",
    "import threading\n",
    "class PlayerAgent:\n",
    "    def __init__(self, player_id):\n",
    "        self.player_id = player_id  # play turn\n",
    "        self.calculation_time = 4  # maximum calculation time\n",
    "        self.max_actions = 1000  # max simulated actions\n",
    "        self.confident = 1.96\n",
    "        self.equivalence = 1000 # calc beta\n",
    "        self.plays = {}\n",
    "        self.wins = {}\n",
    "        self.max_depth = 1\n",
    "        self.count = 1\n",
    "        self.simulations = 0\n",
    "    def choose_move(self, game):\n",
    "        print(self.count)\n",
    "        self.count += 1\n",
    "        self.simulations = 0\n",
    "        # Get an array of legal moves from your current position.\n",
    "        legal_moves = game.get_legal_moves(self.player_id)\n",
    "\n",
    "        my_board = game.board\n",
    "        # if there is only one place to move\n",
    "        if len(legal_moves) == 1:\n",
    "            # print(legal_moves)\n",
    "            return legal_moves[0]\n",
    "        self.plays = {}\n",
    "        self.wins = {}\n",
    "\n",
    "        threads = []\n",
    "        nloops = 20\n",
    "        board_copy = copy.deepcopy(my_board)\n",
    "\n",
    "        for i in range(nloops):\n",
    "            t = threading.Thread(target=self.start_thread, args=(board_copy,self.player_id,game))\n",
    "            threads.append(t)\n",
    "\n",
    "        for i in range(nloops):\n",
    "            threads[i].start()\n",
    "\n",
    "        for i in range(nloops):\n",
    "            threads[i].join()\n",
    "\n",
    "        # print(\"total simulations:\", self.simulations)\n",
    "        move = self.select_one_move(my_board,game)\n",
    "        # print(\"maximum depth searched:\", self.max_depth)\n",
    "        # print(\"I choose:\",move)\n",
    "\n",
    "        return move\n",
    "    def start_thread(self,board_copy,current_player,game):\n",
    "        begin = time.time()\n",
    "        # simulation = 0\n",
    "        while time.time() - begin < self.calculation_time:\n",
    "\n",
    "            self.start_simulation(board_copy, current_player, game)\n",
    "            # simulation+=1\n",
    "        # self.simulations +=simulation\n",
    "    def start_simulation(self, board_copy, current_player, game):\n",
    "\n",
    "        available_moves = game.get_legal_moves(current_player, board_copy)\n",
    "        move = available_moves[0]\n",
    "        visited_states = set()\n",
    "        winner = -1\n",
    "        expand = True\n",
    "        for turn in range(1, self.max_actions + 1):\n",
    "            if len(available_moves)>0:\n",
    "                if all(self.plays.get((current_player, str(move))) for move in available_moves):\n",
    "                    log_total = math.log(sum(self.plays[(current_player, str(move))] for move in available_moves))\n",
    "\n",
    "                    value, move = max(((self.wins[(current_player, str(move))] / self.plays[(current_player, str(move))]) + np.sqrt(\n",
    "                        self.confident * log_total / self.plays[(current_player,str(move))]), move) for move in available_moves)\n",
    "\n",
    "                    board_copy = game.examine_move(current_player, move, board_copy)\n",
    "                else:\n",
    "                    adjacents = []\n",
    "                    move = available_moves[0]\n",
    "\n",
    "                    board_copy = game.examine_move(current_player, move, board_copy)\n",
    "\n",
    "                if expand and (current_player, str(move)) not in self.plays:\n",
    "                    expand = False\n",
    "                    self.plays[(current_player, str(move))] = 0\n",
    "                    self.wins[(current_player, str(move))] = 0\n",
    "\n",
    "                    if turn > self.max_depth:\n",
    "                        self.max_depth = turn\n",
    "\n",
    "                visited_states.add((current_player,str(move)))\n",
    "                win, winner = self.has_a_winner(board_copy, current_player, game)\n",
    "                if win:\n",
    "                    break\n",
    "                current_player = 3 if current_player == 1 else 1\n",
    "                available_moves = game.get_legal_moves(current_player, board_copy)\n",
    "            else:\n",
    "                winner = 3 if current_player == 1 else 1\n",
    "        for player,move in visited_states:\n",
    "            if (player,move) in self.plays:\n",
    "                self.plays[(player,move)]+=1\n",
    "                if player==winner:\n",
    "                    self.wins[(player,move)]+=1\n",
    "\n",
    "\n",
    "    def select_one_move(self,board,game):\n",
    "        percent_wins, move = max((self.wins.get((self.player_id,str(move)),0)/self.plays.get((self.player_id,str(move)),1),move) for move in game.get_legal_moves(self.player_id,board))\n",
    "        return move\n",
    "\n",
    "    def has_a_winner(self, board, current_player, game):\n",
    "        legal_moves = game.get_legal_moves(current_player, board)\n",
    "        if len(legal_moves) == 0:\n",
    "            if current_player == 1:\n",
    "                return True, 3\n",
    "            else:\n",
    "                return True, 1\n",
    "        else:\n",
    "            return False, -1\n",
    "            # Choose an action to take based on the algorithm you\n",
    "            # decide to implement. This method should return\n",
    "            # one of the items in the 'legal_moves' array.\n",
    "\n",
    "\n",
    "\n",
    "# This is an example of an agent which simply picks a move at random.\n",
    "class RandomAgent:\n",
    "\n",
    "    def __init__(self, player_id):\n",
    "        self.player_id = player_id\n",
    "\n",
    "    def choose_move(self, game):\n",
    "        # Get an array of legal moves from your current position.\n",
    "        legal_moves = game.get_legal_moves(self.player_id)\n",
    "        \n",
    "        # Shuffle the legal moves and pick the first one. This is equivalent\n",
    "        # to choosing a move randomly with no logic.\n",
    "        np.random.shuffle(legal_moves)\n",
    "        return legal_moves[0]"
   ]
  },
  {
   "cell_type": "markdown",
   "metadata": {
    "id": "6NUESKXu2WQr",
    "colab_type": "text"
   },
   "source": [
    "## 3. Environment\n",
    "\n",
    "This is the game environment. It will probably be helpful to have an understanding of how the game works,\n",
    "so we reccomend reading through the implementation.\n",
    "\n",
    "**!!!!! Do not modify the game's implementation !!!!!**\n"
   ]
  },
  {
   "cell_type": "code",
   "execution_count": 35,
   "metadata": {
    "id": "G22Bi6uSu0M7",
    "colab_type": "code",
    "colab": {}
   },
   "outputs": [],
   "source": [
    "# This handler will be used to time-out actions/games which take too long to compute.\n",
    "# Note that this handler does not function on Windows based systems.\n",
    "# def signal_handler(signum, frame):\n",
    "#     raise TimeoutError(\"Timed out!\")\n",
    "#signal.signal(signal.SIGALRM, signal_handler)\n",
    "\n",
    "\n",
    "class TronGame:\n",
    "\n",
    "    def __init__(self, agent1_class, agent2_class, board_size, board_type):\n",
    "        # Default board.\n",
    "        if board_type == 'default':\n",
    "            self.size = board_size\n",
    "        # Board with obstacles and a fixed size of 10x10.\n",
    "        elif board_type == 'obstacles':\n",
    "            self.size = 10\n",
    "        elif board_type == 'rocky':\n",
    "            self.size = board_size            \n",
    "        else:\n",
    "            raise ValueError('Invalid board type.')\n",
    "\n",
    "        # Build the game board.\n",
    "        self.board_type = board_type\n",
    "        self.board = self.build_board(board_type)\n",
    "\n",
    "        # Initialize the game state variables and set the values using the \n",
    "        # 'reset_game()' method.\n",
    "        self.reset_game()\n",
    "\n",
    "        # Initialize our agents.\n",
    "        self.agent1 = agent1_class(1)\n",
    "        self.agent2 = agent2_class(3)\n",
    "\n",
    "    def build_board(self, board_type):\n",
    "        \"\"\"\n",
    "        This method takes a board_type: ['default', 'obstacles'] and returns a \n",
    "        new board (NumPy matrix).\n",
    "        \"\"\"\n",
    "\n",
    "        # Default board.\n",
    "        if board_type == 'default':\n",
    "            board = np.zeros((self.size, self.size))\n",
    "            board[0, 0] = 1\n",
    "            board[self.size - 1, self.size - 1] = 3\n",
    "\n",
    "        # Board with obstacles and a fixed size of 10x10.\n",
    "        elif board_type == 'obstacles':\n",
    "            board = np.zeros((10, 10))\n",
    "            board[1, 4] = 1\n",
    "            board[8, 4] = 3\n",
    "            board[3:7, 0:4] = 4\n",
    "            board[3:7, 6:] = 4\n",
    "        # Board with obstacles and a fixed size of 10x10.\n",
    "        elif board_type == 'rocky':\n",
    "            board = np.zeros((self.size, self.size))\n",
    "            a=np.random.randint(2,size=(self.size,self.size))\n",
    "            b=np.random.randint(2,size=(self.size,self.size))\n",
    "            c=np.random.randint(2,size=(self.size,self.size))\n",
    "            d=np.random.randint(2,size=(self.size,self.size))\n",
    "\n",
    "            board=board+(a*b*c*d)*4\n",
    "            board[0, 0] = 1\n",
    "            board[self.size-1, self.size-1] = 3\n",
    "                      \n",
    "\n",
    "        else:\n",
    "            raise ValueError('Invalid board type.')\n",
    "\n",
    "        return board\n",
    "\n",
    "    def reset_game(self):\n",
    "        \"\"\" \n",
    "        Helper method which re-initializes the game state.\n",
    "        \"\"\"\n",
    "        \n",
    "        self.board = self.build_board(self.board_type)\n",
    "\n",
    "    def get_player_position(self, player_id, board=None):\n",
    "        \"\"\"\n",
    "        Helper method which finds the coordinate of the specified player ID\n",
    "        on the board.\n",
    "        \"\"\"\n",
    "        \n",
    "        if board is None:\n",
    "            board = self.board\n",
    "        coords = np.asarray(board == player_id).nonzero()\n",
    "        coords = np.stack((coords[0], coords[1]), 1)\n",
    "        coords = np.reshape(coords, (-1, 2))\n",
    "        return coords[0]\n",
    "\n",
    "    def get_legal_moves(self, player, board=None):\n",
    "        \"\"\"\n",
    "        This method returns a list of legal moves for a given player ID and\n",
    "        board.\n",
    "        \"\"\"\n",
    "        \n",
    "        if board is None:\n",
    "            board = self.board\n",
    "\n",
    "        # Get the current player position and then check for all possible\n",
    "        # legal moves.\n",
    "        prev = self.get_player_position(player,board)\n",
    "        moves = []\n",
    "        \n",
    "        # Up\n",
    "        if (prev[0] != 0) and (board[prev[0] - 1, prev[1]] == 0):\n",
    "            moves.append([prev[0] - 1, prev[1]])\n",
    "        # Down\n",
    "        if (prev[0] != self.size - 1) and (board[prev[0] + 1, prev[1]] == 0):\n",
    "            moves.append([prev[0] + 1, prev[1]])\n",
    "        # Left\n",
    "        if (prev[1] != 0) and (board[prev[0], prev[1] - 1] == 0):\n",
    "            moves.append([prev[0], prev[1] - 1])\n",
    "        # Right\n",
    "        if (prev[1] != self.size - 1) and (board[prev[0], prev[1] + 1] == 0):\n",
    "            moves.append([prev[0], prev[1] + 1])\n",
    "            \n",
    "        return moves\n",
    "\n",
    "    def examine_move(self, player, coordinate, board):\n",
    "        board_clone = board.copy()\n",
    "        prev = self.get_player_position(player, board_clone)\n",
    "        board_clone[prev[0], prev[1]] = 4\n",
    "        board_clone[coordinate[0], coordinate[1]] = player\n",
    "        return board_clone\n",
    "\n",
    "    @staticmethod\n",
    "    def view_game(board_history):\n",
    "        \"\"\"\n",
    "        This is a helper function which takes a board history \n",
    "        (i.e., a list of board states) and creates an animation of the game \n",
    "        as it progresses.\n",
    "        \"\"\"\n",
    "\n",
    "        fig, ax = plt.subplots()\n",
    "        colors = ['black', 'blue', 'pink', 'white', 'red', 'yellow']\n",
    "        cmap = matplotlib.colors.ListedColormap(colors)\n",
    "        bounds = np.linspace(0, 5, 6)\n",
    "        norm = matplotlib.colors.BoundaryNorm(bounds, cmap.N)\n",
    "        matrix = ax.matshow(board_history[0], cmap=cmap, norm=norm)\n",
    "\n",
    "        def update(i):\n",
    "            matrix.set_array(board_history[i])\n",
    "            return matrix\n",
    "\n",
    "        ani = FuncAnimation(fig, update, frames=len(board_history), interval=100)\n",
    "        plt.show()\n",
    "        return HTML(ani.to_html5_video())\n",
    "\n",
    "    def play_series(self, num_games, debug=True):\n",
    "        \"\"\"\n",
    "        This method plays a series of games between the two agents.\n",
    "\n",
    "        It returns two objects: (i) a tuple which indicates the number of \n",
    "        wins per player, and (ii) a history of the board state as the game \n",
    "        progresses.\n",
    "        \"\"\"\n",
    "\n",
    "        wins_player_1 = 0\n",
    "        wins_player_2 = 0\n",
    "        games = []\n",
    "        for i in range(num_games):\n",
    "            winning_player_id, board_history = self.__play_game(debug=debug)\n",
    "            games.append(board_history)\n",
    "\n",
    "            if winning_player_id == 1:\n",
    "                wins_player_1 += 1\n",
    "            elif winning_player_id == 2:\n",
    "                wins_player_2 += 1\n",
    "            else:\n",
    "                raise ValueError('Invalid winning player ID.')\n",
    "\n",
    "        print(f'Finished playing [{num_games}] games.')\n",
    "        print(f'Player 1 won [{wins_player_1}] games and has a win-rate of [{wins_player_1 / num_games * 100}%].')\n",
    "        print(f'Player 2 won [{wins_player_2}] games and has a win-rate of [{wins_player_2 / num_games * 100}%].')\n",
    "        return (wins_player_1, wins_player_2), games\n",
    "\n",
    "    def __apply_move(self, player, coordinate):\n",
    "        \"\"\"\n",
    "        This private method moves a player ID to a new coordinate and obstructs\n",
    "        the previously occupied tile.\n",
    "        \"\"\"\n",
    "        \n",
    "        prev_coord = self.get_player_position(player)\n",
    "\n",
    "        self.board[prev_coord[0], prev_coord[1]] = 4\n",
    "        self.board[coordinate[0], coordinate[1]] = player\n",
    "\n",
    "    def __play_game(self, debug=True):\n",
    "        \"\"\"\n",
    "        This private method plays a single game between the two agents. It\n",
    "        returns the winning player ID as well as the history of the board\n",
    "        as the game progresses.\n",
    "        \"\"\"\n",
    "        \n",
    "        # Reset the game.\n",
    "        self.reset_game()\n",
    "        board_history = []\n",
    "\n",
    "        # Play the game until it's conclusion.\n",
    "        while True:\n",
    "            # ---------------------------------------\n",
    "            # PLAYER 1's TURN\n",
    "            # ---------------------------------------\n",
    "            # Check legal moves.\n",
    "            poss_moves = self.get_legal_moves(1)\n",
    "            if not len(poss_moves):\n",
    "                if debug:\n",
    "                    print(\"Player 2 wins\")\n",
    "                winning_player_id = 2\n",
    "                break\n",
    "\n",
    "            # Compute and apply the chosen move.\n",
    "            # signal.alarm(3)\n",
    "            try:\n",
    "                move = self.agent1.choose_move(self)\n",
    "            except Exception:\n",
    "                print(\"There was an error while choosing a move.\")\n",
    "                print(\"Player 2 wins\")\n",
    "                winning_player_id = 2\n",
    "                break\n",
    "            self.__apply_move(1, move)\n",
    "            \n",
    "            # Record keeping.\n",
    "            board_history.append(np.array(self.board.copy()))\n",
    "            if debug:\n",
    "                print(self.board)\n",
    "                time.sleep(.5)\n",
    "                clear_output()\n",
    "\n",
    "            # ---------------------------------------\n",
    "            # PLAYER 2's TURN\n",
    "            # ---------------------------------------\n",
    "            # Check legal moves.\n",
    "            poss_moves = self.get_legal_moves(3)\n",
    "            if not len(poss_moves):\n",
    "                if debug:\n",
    "                    print(\"Player 1 wins\")\n",
    "                winning_player_id = 1\n",
    "                break\n",
    "                \n",
    "            # Compute and apply the chosen move.\n",
    "            # signal.alarm(3)\n",
    "            try:\n",
    "                move = self.agent2.choose_move(self)\n",
    "            except Exception:\n",
    "                print(\"There was an error while choosing a move.\")\n",
    "                print(\"Player 1 wins\")\n",
    "                winning_player_id = 1\n",
    "                break\n",
    "            self.__apply_move(3, move)\n",
    "\n",
    "            # Record keeping.\n",
    "            board_history.append(np.array(self.board.copy()))\n",
    "            if debug:\n",
    "                print(self.board)\n",
    "                time.sleep(.5)\n",
    "                clear_output()\n",
    "        # signal.alarm(0)\n",
    "\n",
    "        return winning_player_id, board_history"
   ]
  },
  {
   "cell_type": "markdown",
   "metadata": {
    "id": "12TDhvJO2Z-t",
    "colab_type": "text"
   },
   "source": [
    "## 4. Development"
   ]
  },
  {
   "cell_type": "code",
   "execution_count": 38,
   "metadata": {
    "id": "fEgq3_sGyK1V",
    "colab_type": "code",
    "outputId": "ebf47252-33a1-4390-801e-493eee82f66c",
    "colab": {
     "base_uri": "https://localhost:8080/",
     "height": 72.0
    }
   },
   "outputs": [
    {
     "name": "stdout",
     "output_type": "stream",
     "text": [
      "1\n"
     ]
    },
    {
     "name": "stdout",
     "output_type": "stream",
     "text": [
      "2\n"
     ]
    },
    {
     "name": "stdout",
     "output_type": "stream",
     "text": [
      "3\n"
     ]
    },
    {
     "name": "stdout",
     "output_type": "stream",
     "text": [
      "4\n"
     ]
    },
    {
     "name": "stdout",
     "output_type": "stream",
     "text": [
      "5\n"
     ]
    },
    {
     "name": "stdout",
     "output_type": "stream",
     "text": [
      "6\n"
     ]
    },
    {
     "name": "stdout",
     "output_type": "stream",
     "text": [
      "7\n"
     ]
    },
    {
     "name": "stdout",
     "output_type": "stream",
     "text": [
      "8\n"
     ]
    },
    {
     "name": "stdout",
     "output_type": "stream",
     "text": [
      "9\n"
     ]
    },
    {
     "name": "stdout",
     "output_type": "stream",
     "text": [
      "10\n"
     ]
    },
    {
     "name": "stdout",
     "output_type": "stream",
     "text": [
      "11\n"
     ]
    },
    {
     "name": "stdout",
     "output_type": "stream",
     "text": [
      "12\n"
     ]
    },
    {
     "name": "stdout",
     "output_type": "stream",
     "text": [
      "13\n"
     ]
    },
    {
     "name": "stdout",
     "output_type": "stream",
     "text": [
      "14\n"
     ]
    },
    {
     "name": "stdout",
     "output_type": "stream",
     "text": [
      "15\n"
     ]
    },
    {
     "name": "stdout",
     "output_type": "stream",
     "text": [
      "16\n"
     ]
    },
    {
     "name": "stdout",
     "output_type": "stream",
     "text": [
      "17\n"
     ]
    },
    {
     "name": "stdout",
     "output_type": "stream",
     "text": [
      "18\n"
     ]
    },
    {
     "name": "stdout",
     "output_type": "stream",
     "text": [
      "19\n"
     ]
    },
    {
     "name": "stdout",
     "output_type": "stream",
     "text": [
      "20\n"
     ]
    },
    {
     "name": "stdout",
     "output_type": "stream",
     "text": [
      "21\n"
     ]
    },
    {
     "name": "stdout",
     "output_type": "stream",
     "text": [
      "22\n"
     ]
    },
    {
     "name": "stdout",
     "output_type": "stream",
     "text": [
      "23\n"
     ]
    },
    {
     "name": "stdout",
     "output_type": "stream",
     "text": [
      "24\n"
     ]
    },
    {
     "name": "stdout",
     "output_type": "stream",
     "text": [
      "25\n"
     ]
    },
    {
     "name": "stdout",
     "output_type": "stream",
     "text": [
      "26\n"
     ]
    },
    {
     "name": "stdout",
     "output_type": "stream",
     "text": [
      "27\n"
     ]
    },
    {
     "name": "stdout",
     "output_type": "stream",
     "text": [
      "28\n"
     ]
    },
    {
     "name": "stdout",
     "output_type": "stream",
     "text": [
      "29\n"
     ]
    },
    {
     "name": "stdout",
     "output_type": "stream",
     "text": [
      "30\n"
     ]
    },
    {
     "name": "stdout",
     "output_type": "stream",
     "text": [
      "31\n"
     ]
    },
    {
     "name": "stdout",
     "output_type": "stream",
     "text": [
      "32\n"
     ]
    },
    {
     "name": "stdout",
     "output_type": "stream",
     "text": [
      "33\n"
     ]
    },
    {
     "name": "stdout",
     "output_type": "stream",
     "text": [
      "34\n"
     ]
    },
    {
     "name": "stdout",
     "output_type": "stream",
     "text": [
      "35\n"
     ]
    },
    {
     "name": "stdout",
     "output_type": "stream",
     "text": [
      "36\n"
     ]
    },
    {
     "name": "stdout",
     "output_type": "stream",
     "text": [
      "37\n"
     ]
    },
    {
     "name": "stdout",
     "output_type": "stream",
     "text": [
      "38\n"
     ]
    },
    {
     "name": "stdout",
     "output_type": "stream",
     "text": [
      "39\n"
     ]
    },
    {
     "name": "stdout",
     "output_type": "stream",
     "text": [
      "40\n"
     ]
    },
    {
     "name": "stdout",
     "output_type": "stream",
     "text": [
      "41\n"
     ]
    },
    {
     "name": "stdout",
     "output_type": "stream",
     "text": [
      "42\n"
     ]
    },
    {
     "name": "stdout",
     "output_type": "stream",
     "text": [
      "43\n"
     ]
    },
    {
     "name": "stdout",
     "output_type": "stream",
     "text": [
      "44\n"
     ]
    },
    {
     "name": "stdout",
     "output_type": "stream",
     "text": [
      "45\n"
     ]
    },
    {
     "name": "stdout",
     "output_type": "stream",
     "text": [
      "46\n"
     ]
    },
    {
     "name": "stdout",
     "output_type": "stream",
     "text": [
      "47\n"
     ]
    },
    {
     "name": "stdout",
     "output_type": "stream",
     "text": [
      "48\n"
     ]
    },
    {
     "name": "stdout",
     "output_type": "stream",
     "text": [
      "49\n"
     ]
    },
    {
     "name": "stdout",
     "output_type": "stream",
     "text": [
      "50\n"
     ]
    },
    {
     "name": "stdout",
     "output_type": "stream",
     "text": [
      "51\n"
     ]
    },
    {
     "name": "stdout",
     "output_type": "stream",
     "text": [
      "52\n"
     ]
    },
    {
     "name": "stdout",
     "output_type": "stream",
     "text": [
      "53\n"
     ]
    },
    {
     "name": "stdout",
     "output_type": "stream",
     "text": [
      "54\n"
     ]
    },
    {
     "name": "stdout",
     "output_type": "stream",
     "text": [
      "55\n"
     ]
    },
    {
     "name": "stdout",
     "output_type": "stream",
     "text": [
      "56\n"
     ]
    },
    {
     "name": "stdout",
     "output_type": "stream",
     "text": [
      "57\n"
     ]
    },
    {
     "name": "stdout",
     "output_type": "stream",
     "text": [
      "58\n"
     ]
    },
    {
     "name": "stdout",
     "output_type": "stream",
     "text": [
      "59\n"
     ]
    },
    {
     "name": "stdout",
     "output_type": "stream",
     "text": [
      "60\n"
     ]
    },
    {
     "name": "stdout",
     "output_type": "stream",
     "text": [
      "61\n"
     ]
    },
    {
     "name": "stdout",
     "output_type": "stream",
     "text": [
      "62\n"
     ]
    },
    {
     "name": "stdout",
     "output_type": "stream",
     "text": [
      "63\n"
     ]
    },
    {
     "name": "stdout",
     "output_type": "stream",
     "text": [
      "64\n"
     ]
    },
    {
     "name": "stdout",
     "output_type": "stream",
     "text": [
      "65\n"
     ]
    },
    {
     "name": "stdout",
     "output_type": "stream",
     "text": [
      "66\n"
     ]
    },
    {
     "name": "stdout",
     "output_type": "stream",
     "text": [
      "67\n"
     ]
    },
    {
     "name": "stdout",
     "output_type": "stream",
     "text": [
      "68\n"
     ]
    },
    {
     "name": "stdout",
     "output_type": "stream",
     "text": [
      "69\n"
     ]
    },
    {
     "name": "stdout",
     "output_type": "stream",
     "text": [
      "70\n"
     ]
    },
    {
     "name": "stdout",
     "output_type": "stream",
     "text": [
      "71\n"
     ]
    },
    {
     "name": "stdout",
     "output_type": "stream",
     "text": [
      "72\n"
     ]
    },
    {
     "name": "stdout",
     "output_type": "stream",
     "text": [
      "73\n"
     ]
    },
    {
     "name": "stdout",
     "output_type": "stream",
     "text": [
      "74\n"
     ]
    },
    {
     "name": "stdout",
     "output_type": "stream",
     "text": [
      "75\n"
     ]
    },
    {
     "name": "stdout",
     "output_type": "stream",
     "text": [
      "76\n"
     ]
    },
    {
     "name": "stdout",
     "output_type": "stream",
     "text": [
      "77\n"
     ]
    },
    {
     "name": "stdout",
     "output_type": "stream",
     "text": [
      "78\n"
     ]
    },
    {
     "name": "stdout",
     "output_type": "stream",
     "text": [
      "79\n"
     ]
    },
    {
     "name": "stdout",
     "output_type": "stream",
     "text": [
      "80\n"
     ]
    },
    {
     "name": "stdout",
     "output_type": "stream",
     "text": [
      "81\n"
     ]
    },
    {
     "name": "stdout",
     "output_type": "stream",
     "text": [
      "Finished playing [3] games.\nPlayer 1 won [0] games and has a win-rate of [0.0%].\nPlayer 2 won [3] games and has a win-rate of [100.0%].\n"
     ]
    }
   ],
   "source": [
    "my_tron_game = TronGame(board_size=20,\n",
    "                        agent1_class=RandomAgent,\n",
    "                        agent2_class=PlayerAgent,\n",
    "                        board_type=\"default\")\n",
    "\n",
    "(player1_wins, player2_wins), game_histories = my_tron_game.play_series(num_games=3, debug=False)"
   ]
  },
  {
   "cell_type": "code",
   "execution_count": 24,
   "metadata": {
    "id": "PlPcOK68-j9n",
    "colab_type": "code",
    "outputId": "cb3b0877-ea1a-44eb-efaf-6cdb4ec83cff",
    "colab": {
     "base_uri": "https://localhost:8080/",
     "height": 560.0
    }
   },
   "outputs": [
    {
     "data": {
      "image/png": "[encoded data removed]",
      "text/plain": [
       "<Figure size 432x288 with 1 Axes>"
      ]
     },
     "metadata": {},
     "output_type": "display_data"
    },
    {
     "data": {
      "text/html": [
       "<video width=\"432\" height=\"288\" controls autoplay loop>\n",
       "  <source type=\"video/mp4\" src=\"data:video/mp4;base64,AAAAHGZ0eXBNNFYgAAACAGlzb21pc28yYXZjMQAAAAhmcmVlAAA83G1kYXQAAAKuBgX//6rcRem9\n",
       "5tlIt5Ys2CDZI+7veDI2NCAtIGNvcmUgMTU4IHIyOTg0IDM3NTlmY2IgLSBILjI2NC9NUEVHLTQg\n",
       "QVZDIGNvZGVjIC0gQ29weWxlZnQgMjAwMy0yMDE5IC0gaHR0cDovL3d3dy52aWRlb2xhbi5vcmcv\n",
       "eDI2NC5odG1sIC0gb3B0aW9uczogY2FiYWM9MSByZWY9MyBkZWJsb2NrPTE6MDowIGFuYWx5c2U9\n",
       "MHgzOjB4MTEzIG1lPWhleCBzdWJtZT03IHBzeT0xIHBzeV9yZD0xLjAwOjAuMDAgbWl4ZWRfcmVm\n",
       "PTEgbWVfcmFuZ2U9MTYgY2hyb21hX21lPTEgdHJlbGxpcz0xIDh4OGRjdD0xIGNxbT0wIGRlYWR6\n",
       "b25lPTIxLDExIGZhc3RfcHNraXA9MSBjaHJvbWFfcXBfb2Zmc2V0PS0yIHRocmVhZHM9NiBsb29r\n",
       "YWhlYWRfdGhyZWFkcz0xIHNsaWNlZF90aHJlYWRzPTAgbnI9MCBkZWNpbWF0ZT0xIGludGVybGFj\n",
       "ZWQ9MCBibHVyYXlfY29tcGF0PTAgY29uc3RyYWluZWRfaW50cmE9MCBiZnJhbWVzPTMgYl9weXJh\n",
       "bWlkPTIgYl9hZGFwdD0xIGJfYmlhcz0wIGRpcmVjdD0xIHdlaWdodGI9MSBvcGVuX2dvcD0wIHdl\n",
       "aWdodHA9MiBrZXlpbnQ9MjUwIGtleWludF9taW49MTAgc2NlbmVjdXQ9NDAgaW50cmFfcmVmcmVz\n",
       "aD0wIHJjX2xvb2thaGVhZD00MCByYz1jcmYgbWJ0cmVlPTEgY3JmPTIzLjAgcWNvbXA9MC42MCBx\n",
       "cG1pbj0wIHFwbWF4PTY5IHFwc3RlcD00IGlwX3JhdGlvPTEuNDAgYXE9MToxLjAwAIAAAA9GZYiE\n",
       "ABH//veIHzLLafk613IR560urR9Q7kZxXqS9/iAAAAMAFpyZQ/tiefQszNTuABLgE1W7LoUQ4qkD\n",
       "/LdbXJlRyyFxZjQqJViR/kOg4RNNI56Xh1SKLVpGoBGPvlhcGUw3xpQe2yx4P0mg6CaVf4XXX/10\n",
       "GEYy4Ai5YoKgctsp9vk6dR8W7Cnbdoq1kQ7R+AY9O2TG1AyoCKvx0TEDyj4CVEbTldFcxbJQ4jaF\n",
       "T+Rt5DYlQ1eNHxME2E/pu1TTrxXJ1aR2aBFpzdZSnq1Cudm8kr+6zJnvMRwAxZ0OlKz1jLvHy+3s\n",
       "tNaClu42VysCRXwjUVR3ZneA2Hps3NIME97pXTkjTBECbdEUM4QzxejPWKgb2JkQnIDMt53Mdaly\n",
       "YpQk8Svk0XLKGBO6zHa7U4+vXOshlb9KmgaQ2ijEjnAClf8sYmkmxCJJengEhP1XgMDYfWR/6z7P\n",
       "wa7+Q+jr4Iv2fZ+05RDTiY4UuxmlItNaaZfF0/Ehd+niVzlgeg75yiDumbI9jtg9jc9oZ9RTBsAA\n",
       "0YS8jxDNatzZs6mhxksFiOrEecLKS8DUmIR8bQaCu3lLIHxuJWZ8ohb0KUwrH/RfW21Iug95WxjG\n",
       "LwSZdD14dMkqGORAewFQVuBjbDPCtteS2MXmeCZM8df5CW5HztEU/rd0f/8ydqF3TrWOrE7Z3usy\n",
       "//JQ0JGLACZ2h8l3vh4ddp9zBJyWUowmsRKnIbV6ZgnUHSr0k6uPkDg0jmYfXXF2b0k3CasvJgbC\n",
       "h9TKxH//He0DP3WpL7bvDKQpAbI/M9B5mj9dTEhkXOiEu//8Qjypx7hh1HaxlrpyVexUyRxZ42DZ\n",
       "5Bg8BKEbaoJMRloZ+nNF7IdDXfgzT4uhOpXF+zv5VXI3/RIBhbF5opybWqS/8P5nnGPK+2KVf1tq\n",
       "kWMuC7U05HAn/MIsmyGuhE1T3b7Ca6wR/xSniL1HckMAjuZ3wtYLRvk8hP3J1Q/a8B3yZKNeACta\n",
       "t1mg5Byq474cX1pKcAD6QVCE38ZYKOdq3M23EgwU80YoUKb6H4IeKtDiXmQTW8kWsFIatKaxeU9r\n",
       "/wV2B92aR0Q3heHVOPLqQr2KUPG71KBqGf1g74TGrXdnzfin8uGyyk2WfkkeMEstfuXBYa+fNxnI\n",
       "m0XpHV1b1YSn/Ov+Z+iFzL9/iB7z4diL1OAV+ZrnWeOTZQotahv5iE2V6qBTU6cw0YHYoYCiUp15\n",
       "5jyRcXgB+/rRpvZkNZ0SXnX/3l0ONiF/8Me0O9k0tFmhBYb6esSOpmX5hMpvS/9muObl/nwSYlWY\n",
       "cnjsrWQWxHgkk/SARpjXRgIYc+Ix88JLZ06hZPZC9Avb/qCMu96paRbXeFlt14FYjWVPJLpY2pya\n",
       "ixntHu7nX7dwb25m9zTWXNIwNL9KTgy4m5ssagwqJ8uGob1U3XhWvfMuQ2Au/dDypHRofq0fqf50\n",
       "pBAfpIVB48z6hpW1ES7Ys4TtNdVokeMjgwKiEx+//cyVxkEk7sVeefHFiiOMdapDs5Q/y9xkH82F\n",
       "PaoQWGLQ3Qeib/VS7VA91chFm5q/XWEsNhRC9tRpjmOlnl6JBrWH/kv4Y1On8hjSs2TeDwo5a8pA\n",
       "mPcX8l4s7f7OY6bq0jERZy4A8UrL0+DBIc3GrKFVsLKsYYEFRFaTpkfegIccDBHA/VgZXTgkzaob\n",
       "X+6j3mGAuQOpuUFDPZDgUiF1XZCjLJ1vXvACEuerBvU4RH1UBF0vdXJOFuVX0i8qxJn05rD3RszL\n",
       "fUcXPyHrnZpPflHCGqCYX5Z8obdw92XPmPdJ9zET60aSXOv5QyoCyac9lvHn1S0DqOzaGJa7Fv8S\n",
       "uwHx7HRTV0UBk7wAph/lAS+cxlLx0RdlKgkSe7ZYZ1rB1zphX/c7qC2A5ZZZk+JKnks/YCoBuW2s\n",
       "ucqBaI5wS6LGwvXz/Cf39RQKYEINDG/4INOrc8adgIqM0gK5CbNUf8gSbRph66oekdEr6tLyGFFR\n",
       "6J/pmMZT/dH+ONr5qXWOdz43IKoPdWA1mk3nzwSt1wus/oOAp4w6J2ldP8JZkbicvaqUyR5Hd/fc\n",
       "XTekxheL6+e6TU+7goj4U8ZiuoFA59xqzsDakrjYqCRtssSkT2iUGFJv1j9FtufTFylBf94U7GE4\n",
       "1tL1V5Es4wqFz7cKqLee9U6/4eunT11WvPGG5FdGqRxTFdH/db9sj61nnC+mggFQtSEocta0TrY5\n",
       "WxNpA5BrzgNFbdQbbOWmfdxg4qtkynAXlB14m6bNMxwEY2mm9T4hx2dzl47Pr/TSG2mXwIwFrzc7\n",
       "Y2Vk4/p4eAfkTCFoFpmwiCxd2C5hzZ+F3V0VEqXsz2887bL3HEnueBkyojsBdkA3yN/r1Kj3eMN/\n",
       "mhX6mbSjpM/EfNImjkFxCVSJbDfjDDgWAoQ2Nle9T4m81u7KD6QwY3VOOk5eDizNzMwdHwWUlws3\n",
       "JXIsfnUluK8NHz9FaUVNmrPfL5tJp25B+plYocBz9cSpuD/h378GxmL/dzddpgIa1OGQBORKQjAC\n",
       "mnDkGFf+h03utcMBNifvSYobX7vO29/yYaHkczuuJzkGYnO9/W1AYiCAcwAmHvT9WbYbfX9K3H5F\n",
       "XSqu2O7/EVgyktj67vn+ckLkaOwWzBUZb8Zyay7ETa+mcxivWIhDoUIYw11hi3WirHMtyVAAKBCh\n",
       "4tQSX1hBVDRCuhWaSaldlmGCChIm+du2TCJ6YjlYo0AZ3h4+ISQ59kzpBqs/ri5F3tSS5HjpzdXN\n",
       "6fxn5XAQlkx+/7UEUs0f+9G9Is7uXeKOXn5gDHJZmCFRNoevKiAuhh7ObJxSJsNcJwhtcYrBaZ7e\n",
       "XeiLKZOgGi3dcPCTYQQ9/Jz+KaqamzK9ui9GyZBT9Fl59e1lHwndV087zlcfGVGeacQ0nCYMmPjm\n",
       "sD38LZLTCbHfK/1kERMGkrwJvm8zPHhbz4PAZ7d5/nmwF5nlJNryqjpr648rkpp+Vj5/HNQv3QeZ\n",
       "O5e2V2bVjaTedyjKoSQOHDlfN4ltr0iBaIZYvVHYU7wXoN1VeIRZ366Urr6wYGrvCQohWetG6/f8\n",
       "lMgKtQSEj11HZEvyGXodVsILeMZ6qKbiztKtlFXNUJWU5G8YVuhYIFsxYx2OLeU/NApqrf0xtwD3\n",
       "g+PJQ5nm84wszhIfLD7EG0sxZ6Dy7/gSdHCsV6C7gnQcmaQw+Puc47YqxJL5g5zxBwypYhWZ4Uqy\n",
       "WjrOKtVyNhEZ426PlyMOoSBLZqcRN68rMVESnOYPlINzh/DTOY2xnVKKRSV6bbhmi9lvMNfyvPw7\n",
       "ZT9xPVCa7VeNytsXUJW2Oj6v8F3YzVu6RKv+pW4CWEPxA14no/TuV7SuCD6pS2ztdOaHvrrQWuBW\n",
       "XfvdlbFrFh38bKym2neGfUiA2v9JQtNkn1JIThIIfvVrc6JxD/M6VP0abzDuf3UyZqV251SZkZMM\n",
       "TAo2h8/uF0FfvOY0qiNWqx1EdX6qyz7y9jaDmd/CPZ4vLSQ5lKjg+i6NlkTjZXl6MoEJVEIl5HUZ\n",
       "hACVuPIT8KSQAl3f07/3LYhTXC1Xi51yT5P0OdJLqeFPLp8hGBTMqO5bz134BKzpmQ385FVI5Jt3\n",
       "LVVMIbllk+949Rv4yXkPzeIH8aJ2sFsR4zfIohT7JS4ygOWlly3qFemtJ6AewDXtnwlIi284jgIr\n",
       "pEX4j9ZRetDpkdqXWu+HnzMEWNC8CbNYZz5ktqtSXbXZaY5CMqIxP7fCNKI5d5vcHKRaO38GmmVR\n",
       "H9R4MD33WKFHNP5dLPG6CYKxHZJuLD6Xi0JKzyrcz1cwfYam29DAuROeqIg7azDYk429SOYeCaFK\n",
       "JEm21GTjg3M9GaFY8gc8FVERi8ZiH0eNhL2i7aBIb/PRtUwhHbXkn+8sHMkSxM8+VcZRABIZbLg5\n",
       "u+6ijYSgxv9LGAbDDwUeHj8jW3rvAmuKoYVAIJmoVlYdUvwiBmLjJHn9/Oy8KDjK4FoH9okCuSSZ\n",
       "fkDYUoMjEvYa2p8iQPV0KZCQT+gPRDlidVbeqEMHnlo3zNeERnZ/HaQoBcOrFELr3G07FwvHiGMN\n",
       "qU9JxQFNrEp9j8wnJPUXBanNFKT6Gp3MiWk0LxoQZ2YIlsSIdqPAWts9hVkdii6nd2IMlOaZtS2v\n",
       "sP2itd0n4ktkQCi8EvEExOymOXrOUZ4R5zMd9BAkFceVXXgOS1CkczSocivGZFE79vZq6X9LYW8o\n",
       "8txj86AJ/qciStPqYtsqLd7Vlk2LqUhl0syIJyo3iKU49GnEEou3rLHSyQRW+xR3B7Lq0LbZPVhR\n",
       "q8ebGXhs+7as6qk13DxKP2hfxYWTtoo3B4BGaYQZrdBRyAP9CnZ56HFTPrV+vQVCukxAx+20glnb\n",
       "8pKgix/tUXGZYgc26H6EbU0yakjfoNdqvznaBCZWCRHq0Y2Ad85bGT9wHqFitLKW+Eo4Ej9lZgN/\n",
       "7YCknowcF/v1eDaDkfSG4sL9064q+QEdoJxEPbUUA+6mhB8IAQdMiYGXlXpqDW5VfDTeJ79QbGAt\n",
       "5A0I5gD3+LtRS4seo0fV+8ClwbCL7pLvitUOe/sMrcRjLVaABh7R8GeVmlqnuWTftz/gdAQYYVfp\n",
       "uFw+0m+qo8amU9Fve7EmcSbXBN/aExRghEXhFyXJHSgrQVh7W25FnTpYdhOuZAqCyfXVRJT035Kz\n",
       "Mb7Zz3Kefj+/i3nfNslzHsSX0KU0NpajBphuRVzLFsjABqZ/8kxcjB/ubtro8xYfIshg3QpvuxVf\n",
       "1IH36yZhtdTSkD4ddka9V1tP5p95DqY1UVJUhnouX7PDw0ANTU10I7gJ0tFiwShZHemc5sBnQpwb\n",
       "zDreijWTApGYRIhSdyogO+fs0Cnhmy8UD7Rg0TKSqiWBaBr3i5NZO77oTYlEyvHm7lS7BzGsBMBF\n",
       "4neA0vsDBU6F7htc4OuFfwUI2jwXXbFzt+sj+xk3sGvhXFoFitwvHO6Z9dv4gon4MOeWGDTinnf2\n",
       "k7cB0ZfOrmuDlKO3Ld1BRki0XYtSJfXJIslLhpBpcWhoPwInePJ+pJxPmxrwshwmKryEoPaXSa2q\n",
       "iE3AYylLh5WmNNgYKoKKOS0WHBZ7DwRaa6f89cXj2kE24/6VB6JKmxUbltZmueD71M86EA3onclj\n",
       "mz1qU+7/PuacrsCGNgAEGjOra188gENg0KA9Js/9j+gIiTG8WQLIboAk6p1T/2xyN/TEApBJW9wV\n",
       "ywWOSGhUdhskREkPO0zzeY6/6vblYFCT4wAAAwAZsQAAAwJBmiNsQQ/+qlUAOYNPNYAIiDxt/RIg\n",
       "4Tsl0NwLp6bZW/xfs21rtkMy39rfEcJbPi90rHRXMb90km/Z4wNIapYeWsA5H/gzt764vUgwKhop\n",
       "SYcvIXkz3gVPMUJioiH/9ofaAbqRYSiNXNnvc3FvTzgwF6BIMHbxC2pcRZQ5lngf7hBga6t8+Lf2\n",
       "7qORZV5OOdFqhvYdjK2oWk2eR9R7v8jnIYrMj3RMvY70TZHn6r4HPT9x25NS+RfougBeHSfb2hhO\n",
       "KlpfXC+ttmJtcul4wXrgYCQB5mciVGFl6hp2Ap1HZNUoKB5q3F6UeYCBhkMWzEgl/PYufqklkMVn\n",
       "5HArHIlY4EyPLWqWEAVBIgiAhxxWbWW8HNrNPToPxfbxn4XqiD+1zyRqd0pe+/0Lz82TdGPmeccM\n",
       "ZBeZRBZH7WXiw6xLOLklTdDYsD0cGPYpsOGDbejXW//4ISfw4EKmwZPM+MpRTX3gKaFuD+J+CtT3\n",
       "5Eld/Oj3J+G71PUe1RLhBww3o5Pps7bulqQhV/zJbvXfoAzeL+aTNs7n029SBwA80S3JC0+mGccw\n",
       "aLD9mlBBwYs9WFQwFqVZIy4Fiig+DTIdx6kiVmjAoYQH5KGdk/oo1I7TT/JrlpRYOckZAdIbfieM\n",
       "BntVLmVKLSrVFNnZVgN3lIdYjWkYMRE/pKItXX1SFLX4QsRL8Np65Lvh5O+GYDmmkVeTKZCnGKHn\n",
       "25pZtJFiafKeBQ5ocjree6NTbkdBWHa6hdP21enmFJ8/UdUQTKKQcLlL928ttPoixQXd1yZ+RDVO\n",
       "BtNpN7T0P7bx9X08B88cPjCuH1f4sHx9LC53/IhzUi7nQcR799pajcVPLAbOqTTt4Z3yf2Slmq3D\n",
       "wpZDdAsCHj4aZtEQhIaFT0w99eIzQEz2U6PltI/sA4eY1sKW8utKap5bRFtZ8KzxbGsqkUKlTNPv\n",
       "57QL3o/zRDPLYGDsJ6lJ7wZl+g8I8vAOo1BqsEHzlIgTZV1FdMUADtHAgjUyIQjA9k8FSfXICjf2\n",
       "HG4/3uDUMAAAAFhBnkF4hv8AjvrUqKExHWP/ad5rIbr+Oy6G6BPNbyFHADLMHJqAATt/8+iW9eiN\n",
       "+JnG0VH19No74DDRfkOpL8+15xAf8/0ZysWqhkavq9xxz9SYtF3ZNrXzAAAAKQGeYmpDfwCPRkpo\n",
       "FFcTnS4wgA5x159Et69A75lfzEPv32s8evGLLSLQAAABAkGaZUmoQWiZTBTwR//+tSqAHHP5uIav\n",
       "ADjyBb/+CVgSIJSZIZ8h7pI9yYznhKUmY9UKqx3RKwKKfzsebuBJIv/9uaiZUcPOt0Jk+Kd2je/a\n",
       "nw3dqp7lH8QnNCaNlw4NuKJNU9t2pkMMq7Q6zg2og/9Px8tTpVUsDLy88D/3sBM3kCUAwzQo7pN+\n",
       "PRVXfjkt3hFX0lhAZqL0eEYvYAQFmnpBpvuNC1BM36a3Mr7UclFbbSAiyZIHFoduAtprhf/ma3ZN\n",
       "A4Hl2/Jj0UTKQX+nMfuvkvfmJAC7nVcunZEantuLxDUpgGnFJyJOn4qSZEavBpQh8b0HKFLAKvDJ\n",
       "97qXTUV2gQAAACwBnoRqQ38Aj0ZMHtAAdldD4D8AhEqCCDxiw+f8+iW9egd8yv5iFaRKrPwyOQAA\n",
       "AOBBmodJ4QpSZTBSwR/+tSqAHH9rKAG0jQE0Q2/9hbDvG81sNLygrggHm+Y7etf/TLJxzKhWs8yS\n",
       "D2VCPvt2ABhyZ2n//81UDgUW3jlTkLKQ7/jneBxUo9Us6WxbaMa9cGsEjSbe5a7pkAigfIhy1Aon\n",
       "HSGWzpRNJkLx1Clb3Xp/9QP3zre5sH475FDp0zy2/TfzTxcoB/cekjZhGLUfcs88En+RbtkhcCC2\n",
       "+PwDxcIS7v241DeiHhUZ3M8wWsKIEJOV8gOFoWItaW3TEHWFbN0BZrKrr1iUMInpt8j3gWE5EQAA\n",
       "AC8BnqZqQ38Ai7cJABzV0PgPx7oEYvcbJQrUy0od8/59Et69A75lfzEIVtk+6YoDwQAAAOhBmqtJ\n",
       "4Q6JlMCCP/61KoAbTUMGAFgUNv/v7P7Kt5rrTbAAAnEyBV/ZijPaol5/wBKginsXgJATOve0B2v0\n",
       "IZ1IqsbQXWW0nFtEx+E8VUMxbZXIo8rlX9MAuMNsFQvoCNl6cM5LTsYKlbhG8wQg0T4UfpZ59eoa\n",
       "nyZcrdiL2TXPMb2XOPptTKfe41KaQT9nxva2/bECy6GIdJrapbqhsK3eHcgLzEhrpWr4IPf5FUEh\n",
       "+0WeJCdayhme2wSZlG1iqqtFKCTzsaWbNHbJsb4qQmZBRnEJg6ZLjkPAV2Wq1hj2XnSdd1CaVQUm\n",
       "AAAAWkGeyUUVPDv/AGK2srsDJDJp4gBCmzbxdx7GQMFAkyEWsKnng+D09j7KujRjNu37bMt562xy\n",
       "bYvUEQNKQ5YgwRKf+L9kVfg7uU3/vMSBR1FoW83OpJLvWUNiwAAAACcBnuh0Q38Aiz7KgR0N1tcO\n",
       "oGXGEAHOOvPolvXoHe4/IN5/LDFN2GEAAAAoAZ7qakN/ACOxkpoFFTIYnt16MYQAc468+iW9egd7\n",
       "j8g3oahYHDxK5AAAAOlBmu5JqEFomUwII//+tSqAAz0J5ZgtnUAR80owzs5GoaoTflr28azkK6tf\n",
       "8N5fSizVxcJ/+CVgUPJ5wKL7lX2BEbAPSn8iWg3SZMgkDSyFG/Qzb+S0DfYp/E2+1SFFRIHfTc/m\n",
       "stGqV6dOHKCDBIJc9+CNq1+uUpxzeae+CJpDPa+qUm0hwkPoGDxr0v/6AhK6EtkSlihmbYhNyZLE\n",
       "RK/ZU5p5Ou4fOtkFhYIOgtChXGR8CaNgasTJ5I7tdY6dsN2bk82mOU9bzEzFM/75NR+QZx/Ebj7T\n",
       "uRSYdET6F3RK9eLm/W0JvFpffAAAAGpBnwxFESw3/wAR2MlNMkuAEpzd/nBxm5N6v5Xpn4LYtyIb\n",
       "rwAqGd9F85XmaK/sPH1VzAUpGCdm79lKCyr0t+mnVjawFINqpXsr7jSii9fsutSesKwOn1AY1X0w\n",
       "zqJmqvcZD6n1p3K27+uBAAAAJwGfLWpDfwAI7XlgPNbxE4DmfIwgA5x159Et69A75lfzEUF5BtLr\n",
       "gQAAAQZBmzJJqEFsmUwII//+tSqAAZSNHXjcbugHiNsloAmvuYtas0bypTc4zUi96zO9FYgb3AtJ\n",
       "jVKLF1FPxrX1Yvn3G1nC42EV2jZiHPUI98Uw7amYeSBRNFnrFRh/Bu4yIPxmyTg5unz9kbdzuHRQ\n",
       "U2eRHeQIAKMdjr06g8z/G4FDGUmNy9nO+WFzLy9xC8Ez3Ky91xQX9vEuBo/u8tyM9PQh7FnVIZbm\n",
       "xfIbUIdWjbNuuHFMvoYhqvjN3IdbzciSGm3mD/TPbF52s5AefdjFbN9k8MX8toRmD9uiW7ahMb4h\n",
       "JgWYZ0RVKTidyYD8rNOOcE3uNzhLm2Od04lbXrFmd2VzZmxwyLDBAAAAUUGfUEUVLDv/AAYXG8yD\n",
       "as3eIRpZwAmrLMGUPPQ+y0/EH8/rU6mHSt/8meJHmPC+FJJpYrEWVFY7Nee3jOp/+fObrrcbzbKT\n",
       "xm0eR7dLuD6ISAAAACcBn290Q38ACK3iLjCoY/5xRvikAA7P/1/aei9A73H5BvSUDT/Cg7gAAAAo\n",
       "AZ9xakN/AAitegIi0lpl26+ZGkAAdo68+iW9egd7j8g3rTVp/hKEgQAAAONBm3VJqEFsmUwII//+\n",
       "tSqAAZWxYQQDRd7xy0YuSRfTXAof/1hT8CnaoHzcHHCn/VMD6BN+klb8FaP5yQF0Z+A5gETkYDrr\n",
       "dDQkIBMMh8p7b6Ll0pRSLXNJwnUqgdwg2GVUUUSgRGxanBjY8pXNuJ1Mn+igNcQ4G+gXzBdDRSA1\n",
       "FQJ4pepfOLvh7t5B+mnB5UAG0Cx3SXKwSGOvwwQYLTDQFLCXzuR0UgDrFTUJ3f8B5zDd5uvnkul+\n",
       "ozCIMvRnD3dmo/CPQqF9ArKxBClU4R9qvpBDXY1TFX3hTTvl1a+N53tUwAAAADNBn5NFFSw3/wAE\n",
       "dr0A51XBYEWwHg5ezQmEAJq/+fRLevRG/EzjaPeoaZsfnlkOJxiFitgAAAAmAZ+0akN/AAR2MlIy\n",
       "mBwmqWahy+oAA7R159Et69A73H5BvSFombkAAADjQZu3SahBbJlMFEwR//61KoABlNavQCoezvDq\n",
       "+4KxhWKgWHKt3lTOtk///4DwFsBd+0Zge5kohEMdVSpeh/qqOo4WpUpaC4I4h45MDhtM0fkpGCcv\n",
       "ggorYTD2ctabfyuPu/mZJHV2rqgshEVr5m8alglKQmxvdywonIQP/cahP1lDXvd6YYNbb2RPlgp4\n",
       "2trM7XtH2QjPP3bYy745/M5XG0OagCWf4rOCogRbVmgVSCa0Wx6mn9UcvY24khHdEGR1FxoMxPD+\n",
       "qRRBfjZbEgbdWmqL9s6W7eS63blNY7+n3gUltVAAAAAlAZ/WakN/AAR2MlOu4eSfZxqlPzCADnHX\n",
       "n0S3r0DvmV/MQ0RiJwAAAS9Bm9tJ4QpSZTAgj//+tSqAATD0eMcOQ74AJb8P6z62B/ZFBckKsp7S\n",
       "Pcwwcsq80YnX/XwBgfGbECT9vOIK1OEg1vMP1bu0LBlNDoMJtyp80XFX4zK1+inuH+BMiwWiTDdi\n",
       "pW/w0h5TtnUOaSqoECL67iuWUM2Cv35OB6hnV3Wxf5d839nd/O4+n6cesEuexs7zRAjCZjVJE+rn\n",
       "z873sH6XJ6/4IsqLsIbmfb9oGKKwgAsoj62e+5NyMcgFvFb21LuI788tcxH+rxldFNHZFVSVL3kH\n",
       "6VIbszkMSCTQNbQe6NMh8bdPu39D8f8C+ioio96SUJxx1/IxMjFfyLV0hAQE3CRbzxWYGNeBTlvM\n",
       "ohsezc8KMz6tozmwqoH8O1z/y+uvzV/QS2ByqkxPeIB9+XEAAABkQZ/5RTRMO/8ABJ+/xb77YAQp\n",
       "6cZOCyJiizlbcE+IH8TiKb4m2BwhxW+dSgm5rj+hc5daXiPf4rO/cfjS1LvuWOPoiHHRZFTob/BF\n",
       "MV/NJ07U3UF4frmYujnMdY/Mgqz1TPn9UAAAACUBnhh0Q38ABpkLA/jEMcrW8e0aMIAOcdefRLev\n",
       "QO9x+Qb024XBAAAAIwGeGmpDfwAGmLsI28QkSNdwGoAA7R159Et69A73H5BvR09+AAABJkGaHUmo\n",
       "QWiZTBTwR//+tSqAAmHsBwZz5AALWsJSnMKH/8z3uzeMS9ioZ6iT+BR9W5acvd4tWFH4iaCs6BWW\n",
       "Lj3LynhmdKSxKABidfxI9oeLrBFyWSdXe7JJ0VjWhtTNt4F8uZQAI2pUwodef04U93t6XVm+hkKc\n",
       "ao4zE07BZnbiJDLPtg8VnBX4ci2NYXQRmTWf/O92zgTfiBj/vE3qvyD91bO7gJaGOEmpwFIsnevt\n",
       "/wxInBSPH7MxyNfLJlBpIjlqluszxwfDizJpc/FjobH+cGLXrpGa8sOK2iP/dd5CJOwxDx4zA21y\n",
       "vvm+tsOFayfMndn+KFhmi/q15S2YRuXikVGoLMdkmAWUsUiLT6fp9r9n1HHh/AjWY9s5MD1ZvEJH\n",
       "q/iDgQAAACYBnjxqQ38ADTF2EbFR2myfiQb9N1IAA7R159Et69A75lfzERR9UQAAAVhBmiBJ4QpS\n",
       "ZTAgj//+tSqABMD3RAAJfXEvlIVE0q7yyuAByv/FUIsYjpq69nFLid0u81QTVhGge2y+ZcwdOW/g\n",
       "WaAKKgd7mTlDIDgQyYz+vytkvVM+Zw///T+BQxWVOYoFh8JwoeXjyXfJXTxLCm9DtljuqRqmupu6\n",
       "9Swcpu97r9JGAen4EoSQfa6nh/4UbQAycGd+AZvxehdmm9IQoJBGLf0TN2ibvbYKKAlDiQId49Nc\n",
       "9mQSnRNmHwnijsNuELYnDiS+3MYbPfsx3sEmsdR4RbV+bweJDhnFXohD8NxQGuXCUQbvAUEHqbek\n",
       "qF20fdosIH6yzTDfn+klO1qyGTwp3uAo9U7WhbShR77yu+xnGArW/3Oo8dn4MDzq6KJWCtAZJiKN\n",
       "kAqfncpVrMXV8Em8OcJJCyGls0E7Nccl1D+A7LrAyDoqophGWAYfS14hjh0dVRunXEwJeAAAAF9B\n",
       "nl5FNEw3/wAaYuwjY1BJSTvCEAE7e8zlcWAyIUddQCbgVG8ZgTQ3d/gs4YRSmatpecBq5NI66kyE\n",
       "6kCGFSbRvvl/DmxI1QqvbkTEFo//n03AmXrgDavFaGZPBQtm4AAAACgBnn9qQ38AGmAMLyAhShYr\n",
       "7b7qAZhABzjrz6Jb16B3uPyDegATK9TBAAABN0GaZEmoQWiZTAgj//61KoAJjzN9sM/7mABQg+2p\n",
       "X5fm3aloiPk9qE4ltY0rblE0qcUdSg3kv/gLwCVwyvyQQY5u71r9f7Pz7kU8nHmLiKfn4nxJdpUe\n",
       "IQ0J9oXZCemekzEE3n5MUzu2BxNgSJhBR/B1SFNmjUUGNx3LwtpBqweSCNugZB5I7HTPko/F2bBB\n",
       "9otGlWc6N9LLMcfAzStQjx+jSM5WV+vSbJdNVqkboWLrJzKw62RSZtFwqmk1oB+j2Lfq6Q4ZFg1V\n",
       "/7DCApocVo66jqld3tqX+2BMiNNXlZHQm6qZjvz0wfW203d9nu5Uiw0QqzPOISej8bzgJI6BOwGH\n",
       "O/OvPyCcdqPDwTrDdlRavqBYf5Svrmt4NKHZcegEIhPqSkiP0WgpkesniJdylc1kiOAExiOXAAAA\n",
       "a0GegkURLDv/ACUR/0VX+u2U3nH8IV8ADmy8eGjrqZ9SAAijb1pHFKY+tSbnAIyDr/KgXfO9qXzn\n",
       "Ir41kK0GvK6klvzrY1ob43elKC/KJOeao044tTu7z8hP/IQZlXfHc6MTXZt0zYG/3599AAAAGQGe\n",
       "oXRDfwAaXq/ccrkhf+PTssd5pRGDnLgAAAAqAZ6jakN/ADTAGHS8sAF0OHgp/mxDleDySOac1rVU\n",
       "RFNbKh0l4tYSWuXBAAABHUGaqEmoQWyZTAgj//61KoATHgC48uIG+4AJOuoTl7M/8hcbDT7AQx/N\n",
       "ddwlNhqHPQFIG8ocQl/dfOvahcezAYFaRHUQ0H7EqkVh3VXrSyup/UI1k00aG5skfS3m19b80qXp\n",
       "cb5UKd05DDY75PrhVvtrwZJZ3d1+4ByK4tBvdO3c9BwaP6fHkKoGg1bjCjaa5ViI5iedTHbQA+3/\n",
       "JLUORxzbWaYUSI5s7l1cun3voA/nt+BBx7MTPwB+nYpPBcppXmB6aStls66Vryxr6AWrb7+Gaf1Q\n",
       "u0x9URRN94MP6UbzrgzomdIP1I23ZwvWnH8ZN/Wnv7SMmAWxK/Rf16LqOkcb8k/EL6LsHl/JmzTX\n",
       "d08R1c/Mb3g5O6EjnRlSSQAAAJ1BnsZFFSw7/wCWgksh//hDTgAEQfDSuMU4jyjbXyFeLus2yPIt\n",
       "JPAh+KDdLhYiFig37AQ3fD7P8kyBhBkSj6LunR9R24mDH+L5sfumlnMpw+jO8cPbQay9XpIDXyBF\n",
       "mLr9N0fBbrzzIK5MUztESMqaquNrXXJmtXL6ohzwilAcc6R7TkJlMZR7a7HTgYQeEZ88BtjtHH6w\n",
       "fBmWYLJBAAAAJgGe5XRDfwBpF+3yADnKYyKrf76p83K+bzIIzsAfytl6CtZrbTjRAAAAHQGe52pD\n",
       "fwDX312hp2AC61bsr61k/blpEZmW0ZOAAAABOEGa7EmoQWyZTAgh//6qVQAnO+nnYahgwANxkHpd\n",
       "mP73A8j//5+BME1AHDLHAZkaqBtRvjgGGR52SVyhtBVy5eghf/8SvT24mespqgVYOGSQp4zQijSp\n",
       "rBu6IJygTcK9ouPnG0wlheB6+KLmt/+SAjc3+FsjiRc+9lQHlBqHAOpmLTZWreif2jyH8zTAFq9f\n",
       "Tc1vjjl+YO/4UBdj6MDSXi0FMTBh2Yo4kKxs1Pfnf+M022xNh+d9gWdjfRmVF6lWreSuuzexCQsS\n",
       "5Bv4AEXmKKUzdLcSPSGXt3zmK+xZ2CL5wM64PNhDmhSCOOoxO9Qn2rBK+6u5/ZdyZ4jv8Vu9pcjv\n",
       "pP53+HMEAtKZVHCIZfxwuiU7r+VFqPaSkr2lvWuZJE6Z+qrdCl7avr0NAjYg69o1EYQcVy0XgAAA\n",
       "AIlBnwpFFSw7/wCWbWaJWbHZYAL5s+vP+LodCDlO4/M9Ovu07iCDPMTOwPI/9nWwUDR3rXf8WNlq\n",
       "kHVWSq0khvwsR6eFdqc7RlwbQha97qTWrNmeEPT2LazSvdo13o+IXm/mNU41xu/4CHrf3IGe5wBn\n",
       "eO2J/bINhYJcDlLhiskBBoikeAFgKDSCOQAAABYBnyl0Q38A3zkLt236sErvcq8qgENJAAAAGQGf\n",
       "K2pDfwDe/vyVMAF+7momLrCQB4W1CHgAAADKQZsuSahBbJlMFEwR//61KoAUHYdQAFqkaxcJfHHA\n",
       "VfO//UT/O79t1qz/i9rlHnTxsDQFmEHx2Z/eYXyRG69tJYORSCV2nm3dZVs02BdmslR1JdSdwqGv\n",
       "Dy6uQxYMoL7Lv3L9LU5PSD8dTycZnnUun1Xhelp93IBKVFInwnya9VOf8zHFQP/o8DrgJVyvzqdA\n",
       "Q3RdVzTiFAl5uD1JP+8EHFwI73a9VCnB3ZScIRSAbgCnasJC1t/9ZruQnFchqAhs6eUvSE8y0kUh\n",
       "gQAAABgBn01qQ38AbkAUNb0YEfjmyHH7vQrl/D0AAADzQZtQSeEKUmUwUsEf/rUqgBQYZBDvVb4g\n",
       "ASBqfjYvExhUNMR9oslfBbJlTRvCD5PkACjOqQ+7V//9/gS9tu1WEeATmT9hBAuQ+CTW/1XYr8UA\n",
       "VZDIK/vsa/Xs0aSvZLwA1fwjbIMaaH/aOpfdvZIXZRTqQ3ZdQYMVAeVCihsLqaTvYroLLv8KrVJt\n",
       "MKL80152TTdLFgTtL1N3csqdozcDRRWBas+aI97m/pVerVM1jiJsjxkzm3qz0XvnITFXKZ6cOTer\n",
       "laBgMNngWzz3dtg9uHHoylMjtutx/z8L/1mc5sHG11IAnNpmIf6/Plf6C3fNkdyRAAAAGAGfb2pD\n",
       "fwBtAhn1ulmKRIKLK1/TIh6d6QAAAMpBm3RJ4Q6JlMCCH/6qVQAq2K8sQAbfPM4Z3MidPiG7D4D+\n",
       "A4Twag9L++B3/4ODgTIMWLbdtFeayixPu5KjcI6teIklN8JzFx3EbavvRNqPth/+J+G0t95gE+QM\n",
       "4LCvAbZR3iH/BAZ5xja/97P85Jqi8T3vefKPHtHSFem8GNI3f+qntFHKS2qQcs12Q0VmJ0msOmN0\n",
       "/eoMjvcT282oH4E0is+RM4I+OPNv/x+jyEZafBuXMugSyPH2hkgxdWsTgMfQ5Pcelmz4D4mwAAAA\n",
       "e0GfkkUVPDv/AFKVYz1le2srgOl6WwAAQF1JrDZiVD+gz4yP6/sD+6WUjQcUcONcARjp/nQzH6+6\n",
       "dv/1+Y6Zef/LwJ1QRj4pievaCVOn4X/cleCoQA9dfVhQGInuYNxJuyKllypID4z16xebnLElxXVJ\n",
       "DTUnnbfQ4sHKnQAAABUBn7F0Q38AcPTaX6HbcRXDqOJRTekAAAAiAZ+zakN/AHOVJ/+tVHw/KHe3\n",
       "/u6AGRKgVjV7bgfwUJ0lYAAAALFBm7ZJqEFomUwU8Ef//rUqgBV88bAMAFTig//cYqjqfLmPg3iR\n",
       "fA3Tw783yJoMuqIKv02OJ0bxvUo5wgx7GCT3MywbsNx+ANxYq5/LICKquec8UMeKrsYGx2iz5MTL\n",
       "yEFt98HjizGT9UeZNkZk8yfsbWHY55QG3opgJOfZIfMyMZpeeteXW0BCPUzIjUgV4cqYPfOzUT3P\n",
       "faWlLvCBNeC0m+/f7jvYZT7gvSKhKG6Co0EAAAAcAZ/VakN/AHO7WX1gAvrP0J3hTr/sDjr1xnye\n",
       "gAAAAKRBm9hJ4QpSZTBSwR/+tSqAFWIkkHBoB0uqSTABspeg/pDtwJlvI126E5OdSppgO/wppIYW\n",
       "OCymCFzR1PoHZ14xGTIdwE+T4ya3Bq4H//4MCLsjXnSdLci7Hvtxeq99HQa75AiOHmPYpYR9m1uR\n",
       "ZG/+i0Xh8K5bvMrmzn+T1Sg0O3nUExi1VrpAZ29V6A/Ek0kK1n5iQbyG4Gp78Lsgy/J+bbIzkwAA\n",
       "ABIBn/dqQ38Ac7tYbBsdo8rMotkAAAE0QZv8SeEOiZTAgj/+tSqAFuq3dvAZu1bABbKoxw7CltPM\n",
       "Wv00iX09nmp7df1tQHJJDshG0yRpiCBSK+EHtvChk0HMB5Fu4fsaZmzzJzTFPwPsjTwMLrPnU7oD\n",
       "TlWdbcjDLOWvbfEnRsf//BjuEz6IPgACCVcDizClw4uoosga9lIDsupKMdmPq/+cNvyJtQ32fmB+\n",
       "dAEG51pG+xRHK4mIdtMMPa9k/+a1dE2tLzUp3kkZWDdwXewdcQ9ekXfQ/jpYb/9ccyeXrK79MmD8\n",
       "ekHEUnV1OZhxuXfBjtdkjGZudMDdHxfsVBKIIT/nRGDpfOfsavLFRYSxNPP6eAFOnL/upHhFI+Kd\n",
       "juAE9zxoLiME91BsMS77r5b9jZphuq3f8j7cCryGzPWQMJk/UiTK0NsliNuCQWAAAABSQZ4aRRU8\n",
       "O/8AVxViT/JW6AfsPwAOZQD4p5Bt+N4e6tMavx+hnTH9stiykPKbwgz97ZkiZK88O6jsL4Re3rpW\n",
       "srVXPIB9ZpHgV7ppYFYzN4UzgQAAABQBnjl0Q38AdnTaX94nzEF1AZwkWAAAACsBnjtqQ38AeTrS\n",
       "nfZP5MY7ABegSCVXROg1FwFAUYOF3kwPK/G+1fq21qs5AAABX0GaIEmoQWiZTAgj//61KoAW563W\n",
       "MQA49B2+5liQR/0SHDy7zAvWUnAfp0hsUXiLuoEH/0EWf/iJj2UJ929UfD+XWW8MfKdMOzmg1MC+\n",
       "N65NRVx/UChz/fxKPDBq40EWL8TFYJP5NAhiBvvWKi5IQfXNSeHj+ljW43vYrTDVO451lLRFvrs7\n",
       "xwbvv6TDqoXhvL8jd2zo1rtV/D/ywyR8ED6xzQpGNqC9tagSchfeY+/q6h7RFxesE9tusN261rlj\n",
       "JXBLu834PuxyjCMGgPFrOCMP0Olt8WGZhEGuojPYSIOAX6J24wkX3vM4qey+qq0Nrv7iM6FR2m9m\n",
       "nGWxbL/rLVeDMg3Cqb1KMS33GIg2luMn6YgL+EWc6gySYLRRYDNu2GPp8hPYFrJZgmwJG0ReNeHK\n",
       "r0SrbfxciBpTPavxAtGN6/QPpFWCmPa2hn1eoqEVZ7tiqNRO1fyVmv6KlliiwQAAAE9Bnl5FESw7\n",
       "/wBXDJ9AA2q6y31SseaAQj9pbSFCUIVTkH7ZbtYSQduHktHcnw1ML81CKpalWDifpM8h3jN4B1RZ\n",
       "Hojh0DcvSE6xLj1C4RBAAAAAFwGefXRDfwB5NNpfodtxEwfoHG5L5ZnlAAAAJgGef2pDfwB5O1l9\n",
       "YANpPVBpfcC3+n6CZbUOp3yJ8FAJ+3bguRCBAAAAoEGaYkmoQWyZTBRMEf/+tSqAFhfUkAFatsB2\n",
       "aQnnh9C8T/nzvxGs0f25Gve5izSAeTtTcO9IGlK7QkYPKivrvJkn9tg/QyJqnGeXmvYjAjDZ/5zW\n",
       "SolYrDCiJo2sexl44nHR5hdBlDPNdJEcJpqTGBKi415VCaTykSxMnhdhAwgl953pdjlKkTcGS98n\n",
       "IticK8oSj+rzabziT9idgcYXQYAAAAAVAZ6BakN/AHZ7hbfhYR8QIWvt3taZAAAA70GahknhClJl\n",
       "MCCP//61KoAFm+X17dsJdh3CmwmXUALJL9W+MyVmwVq5JAZVQfAs1fxxP03N4n4sfvnsRJT7FjVW\n",
       "H2u61HeEVAGnChQj+cH0MYLXSl7Av+uHi/sbKBxz2M1RxZJb2C8JOLNPYUxa05jwLHrXmvHi/hx0\n",
       "cEPdRyeseBxMxrXLpL/TCOOui4v0dEUZAuVRXZEuZv/5AKJWXi0wBCt/DNGCzepuXmge1E3s6GdJ\n",
       "X8nf1HTVus11FgozpfWbsFlKWiXu9gERrh5jyMW+/Ckif3EAKaF0vmiPbTr8SsRsD8MK2ktLXbPG\n",
       "EG6gAAAAUUGepEU0TDv/ABW3i89VwAEqa6XYIEVAx7Pp/dx9ibUOS2SWuBU3F+dW2G7404POUIhf\n",
       "uch1RhPYXrP2RXGCteVuS1U+aaN2pireZB17HyTtuQAAABQBnsN0Q38AHl02l+h23EmEA4mR4QAA\n",
       "ABUBnsVqQ38AHl7WGgUVNAOiS4+7UE0AAADBQZrISahBaJlMFPBH//61KoACyk/SABwbV0zdvqBY\n",
       "7cP4c9azne0n/+/zQIBgS+W2aa6u/MAWlih8M3svkw6BKGdcQZuhgBUx8ARs8W99XIU/Z19u76U/\n",
       "W81u3dpCpcsBUZh81CE/T2b0bkMRm/xabuonJqGKeVGPbC6BWxIpU/7njfvYx+iHPO8ArSdEN32J\n",
       "am9khiPbghRbUXOagjrxaWV8oCr8Z5kYeHT51vrC1pQVOcmhRrQCqTMF3b7+oB6dQQAAACIBnudq\n",
       "Q38ADy9rDQKWBoADfL/bkT7wFs4NZ+jKDP26fJaTAAABTUGa7EnhClJlMCCP//61KoABZiRMb18A\n",
       "LSpGkNXmSYu3D0U5FToVp7jg78Pbc/zgCmSmmT4UJPrW+F3sUdz00gF3H99z3zJZkM8HHpHnTQwo\n",
       "UZNvrFa2xxUQpk7yBDNc8qsXOpJhUAx1GZ8T1uclhh+v7HiOoQhG5K2MTXympQSRaQXdDuOSXlN2\n",
       "PQ0JEKbtBBVzLvyUFS2zBRTZ3ve9ZIKy7jCMMi+Nb8lNDLDRxFNTe21BRrgYRWetRYXMeymZe7WC\n",
       "FsTPASHUhg2MIjwLjSV+BjlJlN81SgRv/gINWRnDu55NbElhkK0eqoAENHOlz4VfzIMRnKTOP09x\n",
       "ip1cYsO4k3p69csKCw3IdtuhEjdwHvFGX946eo4QTftQWcEAU9eHP1vA8twIjwhM6yVfYpjx8ZL6\n",
       "6yQHRJvMa2JYIzgxYDQnAWtTPacOiA4J9AAAAKRBnwpFNEw7/wAFcMn0AD+jxEvlKx5pQHTeLsBy\n",
       "u63nvAGyX0PlASY2/wJKqcSegkHrRiTWzCGu2gixTrJT8O6yrGKuP8QCMejbdd+0WkBCPflMDuLL\n",
       "/GD3ee6vJMhiUnfksOg+/2EoInBDr1fbcb5uDYq4BkYKmYSAR4Lda7B47u9Q4PPCVQi8gNr1+uRp\n",
       "/8r9nLSyjnfLQ3HBNZU6uo74zj+FpQAAABcBnyl0Q38AB5dNphK4vh1Xm7ejfiLaQAAAABkBnytq\n",
       "Q38AB5e1htTM4LV/WU+Wx3MMQJrQAAAA8UGbMEmoQWiZTAgh//6qVQABZuGuS2E2EBOdu3pI1Suu\n",
       "4bVsYcj8nTTR9de3ILFMKXATbMU2TIIbRo+geOY4Xh3/z+BfY94r+2/nJSkBleV658tBERKiEuVS\n",
       "rR162sIWXSVWDnyLyjP/nKZX7TeL9K4TtYkWt9lFKJobuBFJ6y/3RadtWPwJ9aQWNagrOjlzJ6qQ\n",
       "0wa2MhWcwWz0T1NaV9XWXXLDtfzro9vgqTdBPMJUlzz0v1KOcOEpuwHKOwbsDIgx1JpvsDVP1vAT\n",
       "dxdmQUmzrKUFO7eLGHvPMYFLZTZgrYFXXQRKfr703oVO4XFGPmUAAABPQZ9ORREsO/8AArhinA1+\n",
       "rzqdLszSt2p63gA2j1z3Nf6Q23aMfkF61cJ+JDrZqQDBcuyf2vgPz+zJz2w2lGGAG5I4OAY7ECGR\n",
       "epB4/odV/QAAABQBn210Q38AA8um0v0O240E9FRt4QAAABQBn29qQ38AAeXtYaBRXODKQ4an4AAA\n",
       "AOtBm3RJqEFsmUwIf//+qZYABW+39oFNDtX/ZhIEcnOA6SRRO5Un8KTLwMMEnRHNZLiFVHWtm624\n",
       "oK9xWNROXKJTkMc04fEe+1bIVH8VDgSwo6roc8hj3LEMXm3yjdaFG5rCOmFJlbmZBS+7NxEJ6DFf\n",
       "vRE4NEt/Ow2oYi6ydRC8D7i0GW/mDkzn5GKy3TKaT+JWls6dgip2ubuAFCwNJI7x5Ty4X7n/fUgf\n",
       "/JAxroy8l1e0OBZ1gOiqtMYxSex46mjEl9blUfKMv0LsyqbZOohhTYgAphMDkhtNveVUF5/tNeO4\n",
       "FC4vISVHUnyYAAAArEGfkkUVLDv/AAFcMU4GCa8lIwACAbsS91fijHsUBM3RVYuHrKqvWX3ad/7A\n",
       "6IuM1urz7s97JAPvfpfNDF9FCVaY0Q17zQpQ2Zx0gYtFd5sXDZtCP4nHPRFm1yF9tjqoKkPbHnm4\n",
       "Z0b8ypgohyZ3Nn7FgxVM2plEC/ZNI4zmixf+xEmDFIr7aBbYT3vEHdcg2hD888LoWa5imBbz9C6y\n",
       "EGt2/Le3GBBjiPaTBYMAAAAVAZ+xdEN/AAHa08tsrxDt98w71DM8AAAAHgGfs2pDfwAA8pn+tjf5\n",
       "4NMPS5kCzgZBnaa2PEOmCAAAAJFBm7dJqEFsmUwIb//+p4QABWt+fm0jPNp7AAXy2I/0ZRoXYBjD\n",
       "edeaju+dNEMbbKGTzVcGKWl7H2euXgclTrI9y5SlDIDh4XNLdbvXSFNYs0fXmlXlcPar3W+gIUun\n",
       "WJuwFEQ99vasEn/TBnoGxx1hVD+AWgZVuUk9AuOjFDrFnqn5AzL0OE7g/eAdn5Ua9vaBAAAAWUGf\n",
       "1UUVLDf/AAHlTDC5/cJQBQAmlUn8+xwnXU57lCe/GmMGZ7WX8PycoO2nILgi/1u/Jrgwovys8K6i\n",
       "pz/7KA9gOpX4SEVVTQ8YhVEpzJXSgSz/+gVztanmAAAAFQGf9mpDfwAB5ih+ONegz4MwIr3dcQAA\n",
       "ByZtb292AAAAbG12aGQAAAAAAAAAAAAAAAAAAAPoAAAiYAABAAABAAAAAAAAAAAAAAAAAQAAAAAA\n",
       "AAAAAAAAAAAAAAEAAAAAAAAAAAAAAAAAAEAAAAAAAAAAAAAAAAAAAAAAAAAAAAAAAAAAAAAAAAAC\n",
       "AAAGUHRyYWsAAABcdGtoZAAAAAMAAAAAAAAAAAAAAAEAAAAAAAAiYAAAAAAAAAAAAAAAAAAAAAAA\n",
       "AQAAAAAAAAAAAAAAAAAAAAEAAAAAAAAAAAAAAAAAAEAAAAABsAAAASAAAAAAACRlZHRzAAAAHGVs\n",
       "c3QAAAAAAAAAAQAAImAAAAgAAAEAAAAABchtZGlhAAAAIG1kaGQAAAAAAAAAAAAAAAAAACgAAAFg\n",
       "AFXEAAAAAAAtaGRscgAAAAAAAAAAdmlkZQAAAAAAAAAAAAAAAFZpZGVvSGFuZGxlcgAAAAVzbWlu\n",
       "ZgAAABR2bWhkAAAAAQAAAAAAAAAAAAAAJGRpbmYAAAAcZHJlZgAAAAAAAAABAAAADHVybCAAAAAB\n",
       "AAAFM3N0YmwAAACzc3RzZAAAAAAAAAABAAAAo2F2YzEAAAAAAAAAAQAAAAAAAAAAAAAAAAAAAAAB\n",
       "sAEgAEgAAABIAAAAAAAAAAEAAAAAAAAAAAAAAAAAAAAAAAAAAAAAAAAAAAAAAAAAAAAY//8AAAAx\n",
       "YXZjQwFkABX/4QAYZ2QAFazZQbCWhAAAAwAEAAADAFA8WLZYAQAGaOvjyyLAAAAAHHV1aWRraEDy\n",
       "XyRPxbo5pRvPAyPzAAAAAAAAABhzdHRzAAAAAAAAAAEAAABYAAAEAAAAABRzdHNzAAAAAAAAAAEA\n",
       "AAABAAACqGN0dHMAAAAAAAAAUwAAAAEAAAgAAAAAAQAAEAAAAAACAAAEAAAAAAEAAAwAAAAAAQAA\n",
       "BAAAAAABAAAMAAAAAAEAAAQAAAAAAQAAFAAAAAABAAAIAAAAAAEAAAAAAAAAAQAABAAAAAABAAAQ\n",
       "AAAAAAIAAAQAAAAAAQAAFAAAAAABAAAIAAAAAAEAAAAAAAAAAQAABAAAAAABAAAQAAAAAAIAAAQA\n",
       "AAAAAQAADAAAAAABAAAEAAAAAAEAABQAAAAAAQAACAAAAAABAAAAAAAAAAEAAAQAAAAAAQAADAAA\n",
       "AAABAAAEAAAAAAEAABAAAAAAAgAABAAAAAABAAAUAAAAAAEAAAgAAAAAAQAAAAAAAAABAAAEAAAA\n",
       "AAEAABQAAAAAAQAACAAAAAABAAAAAAAAAAEAAAQAAAAAAQAAFAAAAAABAAAIAAAAAAEAAAAAAAAA\n",
       "AQAABAAAAAABAAAMAAAAAAEAAAQAAAAAAQAADAAAAAABAAAEAAAAAAEAABQAAAAAAQAACAAAAAAB\n",
       "AAAAAAAAAAEAAAQAAAAAAQAADAAAAAABAAAEAAAAAAEAAAwAAAAAAQAABAAAAAABAAAUAAAAAAEA\n",
       "AAgAAAAAAQAAAAAAAAABAAAEAAAAAAEAABQAAAAAAQAACAAAAAABAAAAAAAAAAEAAAQAAAAAAQAA\n",
       "DAAAAAABAAAEAAAAAAEAABQAAAAAAQAACAAAAAABAAAAAAAAAAEAAAQAAAAAAQAADAAAAAABAAAE\n",
       "AAAAAAEAABQAAAAAAQAACAAAAAABAAAAAAAAAAEAAAQAAAAAAQAAFAAAAAABAAAIAAAAAAEAAAAA\n",
       "AAAAAQAABAAAAAABAAAUAAAAAAEAAAgAAAAAAQAAAAAAAAABAAAEAAAAAAEAABAAAAAAAgAABAAA\n",
       "AAAcc3RzYwAAAAAAAAABAAAAAQAAAFgAAAABAAABdHN0c3oAAAAAAAAAAAAAAFgAABH8AAADBgAA\n",
       "AFwAAAAtAAABBgAAADAAAADkAAAAMwAAAOwAAABeAAAAKwAAACwAAADtAAAAbgAAACsAAAEKAAAA\n",
       "VQAAACsAAAAsAAAA5wAAADcAAAAqAAAA5wAAACkAAAEzAAAAaAAAACkAAAAnAAABKgAAACoAAAFc\n",
       "AAAAYwAAACwAAAE7AAAAbwAAAB0AAAAuAAABIQAAAKEAAAAqAAAAIQAAATwAAACNAAAAGgAAAB0A\n",
       "AADOAAAAHAAAAPcAAAAcAAAAzgAAAH8AAAAZAAAAJgAAALUAAAAgAAAAqAAAABYAAAE4AAAAVgAA\n",
       "ABgAAAAvAAABYwAAAFMAAAAbAAAAKgAAAKQAAAAZAAAA8wAAAFUAAAAYAAAAGQAAAMUAAAAmAAAB\n",
       "UQAAAKgAAAAbAAAAHQAAAPUAAABTAAAAGAAAABgAAADvAAAAsAAAABkAAAAiAAAAlQAAAF0AAAAZ\n",
       "AAAAFHN0Y28AAAAAAAAAAQAAACwAAABidWR0YQAAAFptZXRhAAAAAAAAACFoZGxyAAAAAAAAAABt\n",
       "ZGlyYXBwbAAAAAAAAAAAAAAAAC1pbHN0AAAAJal0b28AAAAdZGF0YQAAAAEAAAAATGF2ZjU4LjMw\n",
       "LjEwMA==\n",
       "\">\n",
       "  Your browser does not support the video tag.\n",
       "</video>"
      ],
      "text/plain": [
       "<video width=\"432\" height=\"288\" controls autoplay loop>\n",
       "  <source type=\"video/mp4\" src=\"data:video/mp4;base64,AAAAHGZ0eXBNNFYgAAACAGlzb21pc28yYXZjMQAAAAhmcmVlAAA83G1kYXQAAAKuBgX//6rcRem9\n",
       "5tlIt5Ys2CDZI+7veDI2NCAtIGNvcmUgMTU4IHIyOTg0IDM3NTlmY2IgLSBILjI2NC9NUEVHLTQg\n",
       "QVZDIGNvZGVjIC0gQ29weWxlZnQgMjAwMy0yMDE5IC0gaHR0cDovL3d3dy52aWRlb2xhbi5vcmcv\n",
       "eDI2NC5odG1sIC0gb3B0aW9uczogY2FiYWM9MSByZWY9MyBkZWJsb2NrPTE6MDowIGFuYWx5c2U9\n",
       "MHgzOjB4MTEzIG1lPWhleCBzdWJtZT03IHBzeT0xIHBzeV9yZD0xLjAwOjAuMDAgbWl4ZWRfcmVm\n",
       "PTEgbWVfcmFuZ2U9MTYgY2hyb21hX21lPTEgdHJlbGxpcz0xIDh4OGRjdD0xIGNxbT0wIGRlYWR6\n",
       "b25lPTIxLDExIGZhc3RfcHNraXA9MSBjaHJvbWFfcXBfb2Zmc2V0PS0yIHRocmVhZHM9NiBsb29r\n",
       "YWhlYWRfdGhyZWFkcz0xIHNsaWNlZF90aHJlYWRzPTAgbnI9MCBkZWNpbWF0ZT0xIGludGVybGFj\n",
       "ZWQ9MCBibHVyYXlfY29tcGF0PTAgY29uc3RyYWluZWRfaW50cmE9MCBiZnJhbWVzPTMgYl9weXJh\n",
       "bWlkPTIgYl9hZGFwdD0xIGJfYmlhcz0wIGRpcmVjdD0xIHdlaWdodGI9MSBvcGVuX2dvcD0wIHdl\n",
       "aWdodHA9MiBrZXlpbnQ9MjUwIGtleWludF9taW49MTAgc2NlbmVjdXQ9NDAgaW50cmFfcmVmcmVz\n",
       "aD0wIHJjX2xvb2thaGVhZD00MCByYz1jcmYgbWJ0cmVlPTEgY3JmPTIzLjAgcWNvbXA9MC42MCBx\n",
       "cG1pbj0wIHFwbWF4PTY5IHFwc3RlcD00IGlwX3JhdGlvPTEuNDAgYXE9MToxLjAwAIAAAA9GZYiE\n",
       "ABH//veIHzLLafk613IR560urR9Q7kZxXqS9/iAAAAMAFpyZQ/tiefQszNTuABLgE1W7LoUQ4qkD\n",
       "/LdbXJlRyyFxZjQqJViR/kOg4RNNI56Xh1SKLVpGoBGPvlhcGUw3xpQe2yx4P0mg6CaVf4XXX/10\n",
       "GEYy4Ai5YoKgctsp9vk6dR8W7Cnbdoq1kQ7R+AY9O2TG1AyoCKvx0TEDyj4CVEbTldFcxbJQ4jaF\n",
       "T+Rt5DYlQ1eNHxME2E/pu1TTrxXJ1aR2aBFpzdZSnq1Cudm8kr+6zJnvMRwAxZ0OlKz1jLvHy+3s\n",
       "tNaClu42VysCRXwjUVR3ZneA2Hps3NIME97pXTkjTBECbdEUM4QzxejPWKgb2JkQnIDMt53Mdaly\n",
       "YpQk8Svk0XLKGBO6zHa7U4+vXOshlb9KmgaQ2ijEjnAClf8sYmkmxCJJengEhP1XgMDYfWR/6z7P\n",
       "wa7+Q+jr4Iv2fZ+05RDTiY4UuxmlItNaaZfF0/Ehd+niVzlgeg75yiDumbI9jtg9jc9oZ9RTBsAA\n",
       "0YS8jxDNatzZs6mhxksFiOrEecLKS8DUmIR8bQaCu3lLIHxuJWZ8ohb0KUwrH/RfW21Iug95WxjG\n",
       "LwSZdD14dMkqGORAewFQVuBjbDPCtteS2MXmeCZM8df5CW5HztEU/rd0f/8ydqF3TrWOrE7Z3usy\n",
       "//JQ0JGLACZ2h8l3vh4ddp9zBJyWUowmsRKnIbV6ZgnUHSr0k6uPkDg0jmYfXXF2b0k3CasvJgbC\n",
       "h9TKxH//He0DP3WpL7bvDKQpAbI/M9B5mj9dTEhkXOiEu//8Qjypx7hh1HaxlrpyVexUyRxZ42DZ\n",
       "5Bg8BKEbaoJMRloZ+nNF7IdDXfgzT4uhOpXF+zv5VXI3/RIBhbF5opybWqS/8P5nnGPK+2KVf1tq\n",
       "kWMuC7U05HAn/MIsmyGuhE1T3b7Ca6wR/xSniL1HckMAjuZ3wtYLRvk8hP3J1Q/a8B3yZKNeACta\n",
       "t1mg5Byq474cX1pKcAD6QVCE38ZYKOdq3M23EgwU80YoUKb6H4IeKtDiXmQTW8kWsFIatKaxeU9r\n",
       "/wV2B92aR0Q3heHVOPLqQr2KUPG71KBqGf1g74TGrXdnzfin8uGyyk2WfkkeMEstfuXBYa+fNxnI\n",
       "m0XpHV1b1YSn/Ov+Z+iFzL9/iB7z4diL1OAV+ZrnWeOTZQotahv5iE2V6qBTU6cw0YHYoYCiUp15\n",
       "5jyRcXgB+/rRpvZkNZ0SXnX/3l0ONiF/8Me0O9k0tFmhBYb6esSOpmX5hMpvS/9muObl/nwSYlWY\n",
       "cnjsrWQWxHgkk/SARpjXRgIYc+Ix88JLZ06hZPZC9Avb/qCMu96paRbXeFlt14FYjWVPJLpY2pya\n",
       "ixntHu7nX7dwb25m9zTWXNIwNL9KTgy4m5ssagwqJ8uGob1U3XhWvfMuQ2Au/dDypHRofq0fqf50\n",
       "pBAfpIVB48z6hpW1ES7Ys4TtNdVokeMjgwKiEx+//cyVxkEk7sVeefHFiiOMdapDs5Q/y9xkH82F\n",
       "PaoQWGLQ3Qeib/VS7VA91chFm5q/XWEsNhRC9tRpjmOlnl6JBrWH/kv4Y1On8hjSs2TeDwo5a8pA\n",
       "mPcX8l4s7f7OY6bq0jERZy4A8UrL0+DBIc3GrKFVsLKsYYEFRFaTpkfegIccDBHA/VgZXTgkzaob\n",
       "X+6j3mGAuQOpuUFDPZDgUiF1XZCjLJ1vXvACEuerBvU4RH1UBF0vdXJOFuVX0i8qxJn05rD3RszL\n",
       "fUcXPyHrnZpPflHCGqCYX5Z8obdw92XPmPdJ9zET60aSXOv5QyoCyac9lvHn1S0DqOzaGJa7Fv8S\n",
       "uwHx7HRTV0UBk7wAph/lAS+cxlLx0RdlKgkSe7ZYZ1rB1zphX/c7qC2A5ZZZk+JKnks/YCoBuW2s\n",
       "ucqBaI5wS6LGwvXz/Cf39RQKYEINDG/4INOrc8adgIqM0gK5CbNUf8gSbRph66oekdEr6tLyGFFR\n",
       "6J/pmMZT/dH+ONr5qXWOdz43IKoPdWA1mk3nzwSt1wus/oOAp4w6J2ldP8JZkbicvaqUyR5Hd/fc\n",
       "XTekxheL6+e6TU+7goj4U8ZiuoFA59xqzsDakrjYqCRtssSkT2iUGFJv1j9FtufTFylBf94U7GE4\n",
       "1tL1V5Es4wqFz7cKqLee9U6/4eunT11WvPGG5FdGqRxTFdH/db9sj61nnC+mggFQtSEocta0TrY5\n",
       "WxNpA5BrzgNFbdQbbOWmfdxg4qtkynAXlB14m6bNMxwEY2mm9T4hx2dzl47Pr/TSG2mXwIwFrzc7\n",
       "Y2Vk4/p4eAfkTCFoFpmwiCxd2C5hzZ+F3V0VEqXsz2887bL3HEnueBkyojsBdkA3yN/r1Kj3eMN/\n",
       "mhX6mbSjpM/EfNImjkFxCVSJbDfjDDgWAoQ2Nle9T4m81u7KD6QwY3VOOk5eDizNzMwdHwWUlws3\n",
       "JXIsfnUluK8NHz9FaUVNmrPfL5tJp25B+plYocBz9cSpuD/h378GxmL/dzddpgIa1OGQBORKQjAC\n",
       "mnDkGFf+h03utcMBNifvSYobX7vO29/yYaHkczuuJzkGYnO9/W1AYiCAcwAmHvT9WbYbfX9K3H5F\n",
       "XSqu2O7/EVgyktj67vn+ckLkaOwWzBUZb8Zyay7ETa+mcxivWIhDoUIYw11hi3WirHMtyVAAKBCh\n",
       "4tQSX1hBVDRCuhWaSaldlmGCChIm+du2TCJ6YjlYo0AZ3h4+ISQ59kzpBqs/ri5F3tSS5HjpzdXN\n",
       "6fxn5XAQlkx+/7UEUs0f+9G9Is7uXeKOXn5gDHJZmCFRNoevKiAuhh7ObJxSJsNcJwhtcYrBaZ7e\n",
       "XeiLKZOgGi3dcPCTYQQ9/Jz+KaqamzK9ui9GyZBT9Fl59e1lHwndV087zlcfGVGeacQ0nCYMmPjm\n",
       "sD38LZLTCbHfK/1kERMGkrwJvm8zPHhbz4PAZ7d5/nmwF5nlJNryqjpr648rkpp+Vj5/HNQv3QeZ\n",
       "O5e2V2bVjaTedyjKoSQOHDlfN4ltr0iBaIZYvVHYU7wXoN1VeIRZ366Urr6wYGrvCQohWetG6/f8\n",
       "lMgKtQSEj11HZEvyGXodVsILeMZ6qKbiztKtlFXNUJWU5G8YVuhYIFsxYx2OLeU/NApqrf0xtwD3\n",
       "g+PJQ5nm84wszhIfLD7EG0sxZ6Dy7/gSdHCsV6C7gnQcmaQw+Puc47YqxJL5g5zxBwypYhWZ4Uqy\n",
       "WjrOKtVyNhEZ426PlyMOoSBLZqcRN68rMVESnOYPlINzh/DTOY2xnVKKRSV6bbhmi9lvMNfyvPw7\n",
       "ZT9xPVCa7VeNytsXUJW2Oj6v8F3YzVu6RKv+pW4CWEPxA14no/TuV7SuCD6pS2ztdOaHvrrQWuBW\n",
       "XfvdlbFrFh38bKym2neGfUiA2v9JQtNkn1JIThIIfvVrc6JxD/M6VP0abzDuf3UyZqV251SZkZMM\n",
       "TAo2h8/uF0FfvOY0qiNWqx1EdX6qyz7y9jaDmd/CPZ4vLSQ5lKjg+i6NlkTjZXl6MoEJVEIl5HUZ\n",
       "hACVuPIT8KSQAl3f07/3LYhTXC1Xi51yT5P0OdJLqeFPLp8hGBTMqO5bz134BKzpmQ385FVI5Jt3\n",
       "LVVMIbllk+949Rv4yXkPzeIH8aJ2sFsR4zfIohT7JS4ygOWlly3qFemtJ6AewDXtnwlIi284jgIr\n",
       "pEX4j9ZRetDpkdqXWu+HnzMEWNC8CbNYZz5ktqtSXbXZaY5CMqIxP7fCNKI5d5vcHKRaO38GmmVR\n",
       "H9R4MD33WKFHNP5dLPG6CYKxHZJuLD6Xi0JKzyrcz1cwfYam29DAuROeqIg7azDYk429SOYeCaFK\n",
       "JEm21GTjg3M9GaFY8gc8FVERi8ZiH0eNhL2i7aBIb/PRtUwhHbXkn+8sHMkSxM8+VcZRABIZbLg5\n",
       "u+6ijYSgxv9LGAbDDwUeHj8jW3rvAmuKoYVAIJmoVlYdUvwiBmLjJHn9/Oy8KDjK4FoH9okCuSSZ\n",
       "fkDYUoMjEvYa2p8iQPV0KZCQT+gPRDlidVbeqEMHnlo3zNeERnZ/HaQoBcOrFELr3G07FwvHiGMN\n",
       "qU9JxQFNrEp9j8wnJPUXBanNFKT6Gp3MiWk0LxoQZ2YIlsSIdqPAWts9hVkdii6nd2IMlOaZtS2v\n",
       "sP2itd0n4ktkQCi8EvEExOymOXrOUZ4R5zMd9BAkFceVXXgOS1CkczSocivGZFE79vZq6X9LYW8o\n",
       "8txj86AJ/qciStPqYtsqLd7Vlk2LqUhl0syIJyo3iKU49GnEEou3rLHSyQRW+xR3B7Lq0LbZPVhR\n",
       "q8ebGXhs+7as6qk13DxKP2hfxYWTtoo3B4BGaYQZrdBRyAP9CnZ56HFTPrV+vQVCukxAx+20glnb\n",
       "8pKgix/tUXGZYgc26H6EbU0yakjfoNdqvznaBCZWCRHq0Y2Ad85bGT9wHqFitLKW+Eo4Ej9lZgN/\n",
       "7YCknowcF/v1eDaDkfSG4sL9064q+QEdoJxEPbUUA+6mhB8IAQdMiYGXlXpqDW5VfDTeJ79QbGAt\n",
       "5A0I5gD3+LtRS4seo0fV+8ClwbCL7pLvitUOe/sMrcRjLVaABh7R8GeVmlqnuWTftz/gdAQYYVfp\n",
       "uFw+0m+qo8amU9Fve7EmcSbXBN/aExRghEXhFyXJHSgrQVh7W25FnTpYdhOuZAqCyfXVRJT035Kz\n",
       "Mb7Zz3Kefj+/i3nfNslzHsSX0KU0NpajBphuRVzLFsjABqZ/8kxcjB/ubtro8xYfIshg3QpvuxVf\n",
       "1IH36yZhtdTSkD4ddka9V1tP5p95DqY1UVJUhnouX7PDw0ANTU10I7gJ0tFiwShZHemc5sBnQpwb\n",
       "zDreijWTApGYRIhSdyogO+fs0Cnhmy8UD7Rg0TKSqiWBaBr3i5NZO77oTYlEyvHm7lS7BzGsBMBF\n",
       "4neA0vsDBU6F7htc4OuFfwUI2jwXXbFzt+sj+xk3sGvhXFoFitwvHO6Z9dv4gon4MOeWGDTinnf2\n",
       "k7cB0ZfOrmuDlKO3Ld1BRki0XYtSJfXJIslLhpBpcWhoPwInePJ+pJxPmxrwshwmKryEoPaXSa2q\n",
       "iE3AYylLh5WmNNgYKoKKOS0WHBZ7DwRaa6f89cXj2kE24/6VB6JKmxUbltZmueD71M86EA3onclj\n",
       "mz1qU+7/PuacrsCGNgAEGjOra188gENg0KA9Js/9j+gIiTG8WQLIboAk6p1T/2xyN/TEApBJW9wV\n",
       "ywWOSGhUdhskREkPO0zzeY6/6vblYFCT4wAAAwAZsQAAAwJBmiNsQQ/+qlUAOYNPNYAIiDxt/RIg\n",
       "4Tsl0NwLp6bZW/xfs21rtkMy39rfEcJbPi90rHRXMb90km/Z4wNIapYeWsA5H/gzt764vUgwKhop\n",
       "SYcvIXkz3gVPMUJioiH/9ofaAbqRYSiNXNnvc3FvTzgwF6BIMHbxC2pcRZQ5lngf7hBga6t8+Lf2\n",
       "7qORZV5OOdFqhvYdjK2oWk2eR9R7v8jnIYrMj3RMvY70TZHn6r4HPT9x25NS+RfougBeHSfb2hhO\n",
       "KlpfXC+ttmJtcul4wXrgYCQB5mciVGFl6hp2Ap1HZNUoKB5q3F6UeYCBhkMWzEgl/PYufqklkMVn\n",
       "5HArHIlY4EyPLWqWEAVBIgiAhxxWbWW8HNrNPToPxfbxn4XqiD+1zyRqd0pe+/0Lz82TdGPmeccM\n",
       "ZBeZRBZH7WXiw6xLOLklTdDYsD0cGPYpsOGDbejXW//4ISfw4EKmwZPM+MpRTX3gKaFuD+J+CtT3\n",
       "5Eld/Oj3J+G71PUe1RLhBww3o5Pps7bulqQhV/zJbvXfoAzeL+aTNs7n029SBwA80S3JC0+mGccw\n",
       "aLD9mlBBwYs9WFQwFqVZIy4Fiig+DTIdx6kiVmjAoYQH5KGdk/oo1I7TT/JrlpRYOckZAdIbfieM\n",
       "BntVLmVKLSrVFNnZVgN3lIdYjWkYMRE/pKItXX1SFLX4QsRL8Np65Lvh5O+GYDmmkVeTKZCnGKHn\n",
       "25pZtJFiafKeBQ5ocjree6NTbkdBWHa6hdP21enmFJ8/UdUQTKKQcLlL928ttPoixQXd1yZ+RDVO\n",
       "BtNpN7T0P7bx9X08B88cPjCuH1f4sHx9LC53/IhzUi7nQcR799pajcVPLAbOqTTt4Z3yf2Slmq3D\n",
       "wpZDdAsCHj4aZtEQhIaFT0w99eIzQEz2U6PltI/sA4eY1sKW8utKap5bRFtZ8KzxbGsqkUKlTNPv\n",
       "57QL3o/zRDPLYGDsJ6lJ7wZl+g8I8vAOo1BqsEHzlIgTZV1FdMUADtHAgjUyIQjA9k8FSfXICjf2\n",
       "HG4/3uDUMAAAAFhBnkF4hv8AjvrUqKExHWP/ad5rIbr+Oy6G6BPNbyFHADLMHJqAATt/8+iW9eiN\n",
       "+JnG0VH19No74DDRfkOpL8+15xAf8/0ZysWqhkavq9xxz9SYtF3ZNrXzAAAAKQGeYmpDfwCPRkpo\n",
       "FFcTnS4wgA5x159Et69A75lfzEPv32s8evGLLSLQAAABAkGaZUmoQWiZTBTwR//+tSqAHHP5uIav\n",
       "ADjyBb/+CVgSIJSZIZ8h7pI9yYznhKUmY9UKqx3RKwKKfzsebuBJIv/9uaiZUcPOt0Jk+Kd2je/a\n",
       "nw3dqp7lH8QnNCaNlw4NuKJNU9t2pkMMq7Q6zg2og/9Px8tTpVUsDLy88D/3sBM3kCUAwzQo7pN+\n",
       "PRVXfjkt3hFX0lhAZqL0eEYvYAQFmnpBpvuNC1BM36a3Mr7UclFbbSAiyZIHFoduAtprhf/ma3ZN\n",
       "A4Hl2/Jj0UTKQX+nMfuvkvfmJAC7nVcunZEantuLxDUpgGnFJyJOn4qSZEavBpQh8b0HKFLAKvDJ\n",
       "97qXTUV2gQAAACwBnoRqQ38Aj0ZMHtAAdldD4D8AhEqCCDxiw+f8+iW9egd8yv5iFaRKrPwyOQAA\n",
       "AOBBmodJ4QpSZTBSwR/+tSqAHH9rKAG0jQE0Q2/9hbDvG81sNLygrggHm+Y7etf/TLJxzKhWs8yS\n",
       "D2VCPvt2ABhyZ2n//81UDgUW3jlTkLKQ7/jneBxUo9Us6WxbaMa9cGsEjSbe5a7pkAigfIhy1Aon\n",
       "HSGWzpRNJkLx1Clb3Xp/9QP3zre5sH475FDp0zy2/TfzTxcoB/cekjZhGLUfcs88En+RbtkhcCC2\n",
       "+PwDxcIS7v241DeiHhUZ3M8wWsKIEJOV8gOFoWItaW3TEHWFbN0BZrKrr1iUMInpt8j3gWE5EQAA\n",
       "AC8BnqZqQ38Ai7cJABzV0PgPx7oEYvcbJQrUy0od8/59Et69A75lfzEIVtk+6YoDwQAAAOhBmqtJ\n",
       "4Q6JlMCCP/61KoAbTUMGAFgUNv/v7P7Kt5rrTbAAAnEyBV/ZijPaol5/wBKginsXgJATOve0B2v0\n",
       "IZ1IqsbQXWW0nFtEx+E8VUMxbZXIo8rlX9MAuMNsFQvoCNl6cM5LTsYKlbhG8wQg0T4UfpZ59eoa\n",
       "nyZcrdiL2TXPMb2XOPptTKfe41KaQT9nxva2/bECy6GIdJrapbqhsK3eHcgLzEhrpWr4IPf5FUEh\n",
       "+0WeJCdayhme2wSZlG1iqqtFKCTzsaWbNHbJsb4qQmZBRnEJg6ZLjkPAV2Wq1hj2XnSdd1CaVQUm\n",
       "AAAAWkGeyUUVPDv/AGK2srsDJDJp4gBCmzbxdx7GQMFAkyEWsKnng+D09j7KujRjNu37bMt562xy\n",
       "bYvUEQNKQ5YgwRKf+L9kVfg7uU3/vMSBR1FoW83OpJLvWUNiwAAAACcBnuh0Q38Aiz7KgR0N1tcO\n",
       "oGXGEAHOOvPolvXoHe4/IN5/LDFN2GEAAAAoAZ7qakN/ACOxkpoFFTIYnt16MYQAc468+iW9egd7\n",
       "j8g3oahYHDxK5AAAAOlBmu5JqEFomUwII//+tSqAAz0J5ZgtnUAR80owzs5GoaoTflr28azkK6tf\n",
       "8N5fSizVxcJ/+CVgUPJ5wKL7lX2BEbAPSn8iWg3SZMgkDSyFG/Qzb+S0DfYp/E2+1SFFRIHfTc/m\n",
       "stGqV6dOHKCDBIJc9+CNq1+uUpxzeae+CJpDPa+qUm0hwkPoGDxr0v/6AhK6EtkSlihmbYhNyZLE\n",
       "RK/ZU5p5Ou4fOtkFhYIOgtChXGR8CaNgasTJ5I7tdY6dsN2bk82mOU9bzEzFM/75NR+QZx/Ebj7T\n",
       "uRSYdET6F3RK9eLm/W0JvFpffAAAAGpBnwxFESw3/wAR2MlNMkuAEpzd/nBxm5N6v5Xpn4LYtyIb\n",
       "rwAqGd9F85XmaK/sPH1VzAUpGCdm79lKCyr0t+mnVjawFINqpXsr7jSii9fsutSesKwOn1AY1X0w\n",
       "zqJmqvcZD6n1p3K27+uBAAAAJwGfLWpDfwAI7XlgPNbxE4DmfIwgA5x159Et69A75lfzEUF5BtLr\n",
       "gQAAAQZBmzJJqEFsmUwII//+tSqAAZSNHXjcbugHiNsloAmvuYtas0bypTc4zUi96zO9FYgb3AtJ\n",
       "jVKLF1FPxrX1Yvn3G1nC42EV2jZiHPUI98Uw7amYeSBRNFnrFRh/Bu4yIPxmyTg5unz9kbdzuHRQ\n",
       "U2eRHeQIAKMdjr06g8z/G4FDGUmNy9nO+WFzLy9xC8Ez3Ky91xQX9vEuBo/u8tyM9PQh7FnVIZbm\n",
       "xfIbUIdWjbNuuHFMvoYhqvjN3IdbzciSGm3mD/TPbF52s5AefdjFbN9k8MX8toRmD9uiW7ahMb4h\n",
       "JgWYZ0RVKTidyYD8rNOOcE3uNzhLm2Od04lbXrFmd2VzZmxwyLDBAAAAUUGfUEUVLDv/AAYXG8yD\n",
       "as3eIRpZwAmrLMGUPPQ+y0/EH8/rU6mHSt/8meJHmPC+FJJpYrEWVFY7Nee3jOp/+fObrrcbzbKT\n",
       "xm0eR7dLuD6ISAAAACcBn290Q38ACK3iLjCoY/5xRvikAA7P/1/aei9A73H5BvSUDT/Cg7gAAAAo\n",
       "AZ9xakN/AAitegIi0lpl26+ZGkAAdo68+iW9egd7j8g3rTVp/hKEgQAAAONBm3VJqEFsmUwII//+\n",
       "tSqAAZWxYQQDRd7xy0YuSRfTXAof/1hT8CnaoHzcHHCn/VMD6BN+klb8FaP5yQF0Z+A5gETkYDrr\n",
       "dDQkIBMMh8p7b6Ll0pRSLXNJwnUqgdwg2GVUUUSgRGxanBjY8pXNuJ1Mn+igNcQ4G+gXzBdDRSA1\n",
       "FQJ4pepfOLvh7t5B+mnB5UAG0Cx3SXKwSGOvwwQYLTDQFLCXzuR0UgDrFTUJ3f8B5zDd5uvnkul+\n",
       "ozCIMvRnD3dmo/CPQqF9ArKxBClU4R9qvpBDXY1TFX3hTTvl1a+N53tUwAAAADNBn5NFFSw3/wAE\n",
       "dr0A51XBYEWwHg5ezQmEAJq/+fRLevRG/EzjaPeoaZsfnlkOJxiFitgAAAAmAZ+0akN/AAR2MlIy\n",
       "mBwmqWahy+oAA7R159Et69A73H5BvSFombkAAADjQZu3SahBbJlMFEwR//61KoABlNavQCoezvDq\n",
       "+4KxhWKgWHKt3lTOtk///4DwFsBd+0Zge5kohEMdVSpeh/qqOo4WpUpaC4I4h45MDhtM0fkpGCcv\n",
       "ggorYTD2ctabfyuPu/mZJHV2rqgshEVr5m8alglKQmxvdywonIQP/cahP1lDXvd6YYNbb2RPlgp4\n",
       "2trM7XtH2QjPP3bYy745/M5XG0OagCWf4rOCogRbVmgVSCa0Wx6mn9UcvY24khHdEGR1FxoMxPD+\n",
       "qRRBfjZbEgbdWmqL9s6W7eS63blNY7+n3gUltVAAAAAlAZ/WakN/AAR2MlOu4eSfZxqlPzCADnHX\n",
       "n0S3r0DvmV/MQ0RiJwAAAS9Bm9tJ4QpSZTAgj//+tSqAATD0eMcOQ74AJb8P6z62B/ZFBckKsp7S\n",
       "Pcwwcsq80YnX/XwBgfGbECT9vOIK1OEg1vMP1bu0LBlNDoMJtyp80XFX4zK1+inuH+BMiwWiTDdi\n",
       "pW/w0h5TtnUOaSqoECL67iuWUM2Cv35OB6hnV3Wxf5d839nd/O4+n6cesEuexs7zRAjCZjVJE+rn\n",
       "z873sH6XJ6/4IsqLsIbmfb9oGKKwgAsoj62e+5NyMcgFvFb21LuI788tcxH+rxldFNHZFVSVL3kH\n",
       "6VIbszkMSCTQNbQe6NMh8bdPu39D8f8C+ioio96SUJxx1/IxMjFfyLV0hAQE3CRbzxWYGNeBTlvM\n",
       "ohsezc8KMz6tozmwqoH8O1z/y+uvzV/QS2ByqkxPeIB9+XEAAABkQZ/5RTRMO/8ABJ+/xb77YAQp\n",
       "6cZOCyJiizlbcE+IH8TiKb4m2BwhxW+dSgm5rj+hc5daXiPf4rO/cfjS1LvuWOPoiHHRZFTob/BF\n",
       "MV/NJ07U3UF4frmYujnMdY/Mgqz1TPn9UAAAACUBnhh0Q38ABpkLA/jEMcrW8e0aMIAOcdefRLev\n",
       "QO9x+Qb024XBAAAAIwGeGmpDfwAGmLsI28QkSNdwGoAA7R159Et69A73H5BvR09+AAABJkGaHUmo\n",
       "QWiZTBTwR//+tSqAAmHsBwZz5AALWsJSnMKH/8z3uzeMS9ioZ6iT+BR9W5acvd4tWFH4iaCs6BWW\n",
       "Lj3LynhmdKSxKABidfxI9oeLrBFyWSdXe7JJ0VjWhtTNt4F8uZQAI2pUwodef04U93t6XVm+hkKc\n",
       "ao4zE07BZnbiJDLPtg8VnBX4ci2NYXQRmTWf/O92zgTfiBj/vE3qvyD91bO7gJaGOEmpwFIsnevt\n",
       "/wxInBSPH7MxyNfLJlBpIjlqluszxwfDizJpc/FjobH+cGLXrpGa8sOK2iP/dd5CJOwxDx4zA21y\n",
       "vvm+tsOFayfMndn+KFhmi/q15S2YRuXikVGoLMdkmAWUsUiLT6fp9r9n1HHh/AjWY9s5MD1ZvEJH\n",
       "q/iDgQAAACYBnjxqQ38ADTF2EbFR2myfiQb9N1IAA7R159Et69A75lfzERR9UQAAAVhBmiBJ4QpS\n",
       "ZTAgj//+tSqABMD3RAAJfXEvlIVE0q7yyuAByv/FUIsYjpq69nFLid0u81QTVhGge2y+ZcwdOW/g\n",
       "WaAKKgd7mTlDIDgQyYz+vytkvVM+Zw///T+BQxWVOYoFh8JwoeXjyXfJXTxLCm9DtljuqRqmupu6\n",
       "9Swcpu97r9JGAen4EoSQfa6nh/4UbQAycGd+AZvxehdmm9IQoJBGLf0TN2ibvbYKKAlDiQId49Nc\n",
       "9mQSnRNmHwnijsNuELYnDiS+3MYbPfsx3sEmsdR4RbV+bweJDhnFXohD8NxQGuXCUQbvAUEHqbek\n",
       "qF20fdosIH6yzTDfn+klO1qyGTwp3uAo9U7WhbShR77yu+xnGArW/3Oo8dn4MDzq6KJWCtAZJiKN\n",
       "kAqfncpVrMXV8Em8OcJJCyGls0E7Nccl1D+A7LrAyDoqophGWAYfS14hjh0dVRunXEwJeAAAAF9B\n",
       "nl5FNEw3/wAaYuwjY1BJSTvCEAE7e8zlcWAyIUddQCbgVG8ZgTQ3d/gs4YRSmatpecBq5NI66kyE\n",
       "6kCGFSbRvvl/DmxI1QqvbkTEFo//n03AmXrgDavFaGZPBQtm4AAAACgBnn9qQ38AGmAMLyAhShYr\n",
       "7b7qAZhABzjrz6Jb16B3uPyDegATK9TBAAABN0GaZEmoQWiZTAgj//61KoAJjzN9sM/7mABQg+2p\n",
       "X5fm3aloiPk9qE4ltY0rblE0qcUdSg3kv/gLwCVwyvyQQY5u71r9f7Pz7kU8nHmLiKfn4nxJdpUe\n",
       "IQ0J9oXZCemekzEE3n5MUzu2BxNgSJhBR/B1SFNmjUUGNx3LwtpBqweSCNugZB5I7HTPko/F2bBB\n",
       "9otGlWc6N9LLMcfAzStQjx+jSM5WV+vSbJdNVqkboWLrJzKw62RSZtFwqmk1oB+j2Lfq6Q4ZFg1V\n",
       "/7DCApocVo66jqld3tqX+2BMiNNXlZHQm6qZjvz0wfW203d9nu5Uiw0QqzPOISej8bzgJI6BOwGH\n",
       "O/OvPyCcdqPDwTrDdlRavqBYf5Svrmt4NKHZcegEIhPqSkiP0WgpkesniJdylc1kiOAExiOXAAAA\n",
       "a0GegkURLDv/ACUR/0VX+u2U3nH8IV8ADmy8eGjrqZ9SAAijb1pHFKY+tSbnAIyDr/KgXfO9qXzn\n",
       "Ir41kK0GvK6klvzrY1ob43elKC/KJOeao044tTu7z8hP/IQZlXfHc6MTXZt0zYG/3599AAAAGQGe\n",
       "oXRDfwAaXq/ccrkhf+PTssd5pRGDnLgAAAAqAZ6jakN/ADTAGHS8sAF0OHgp/mxDleDySOac1rVU\n",
       "RFNbKh0l4tYSWuXBAAABHUGaqEmoQWyZTAgj//61KoATHgC48uIG+4AJOuoTl7M/8hcbDT7AQx/N\n",
       "ddwlNhqHPQFIG8ocQl/dfOvahcezAYFaRHUQ0H7EqkVh3VXrSyup/UI1k00aG5skfS3m19b80qXp\n",
       "cb5UKd05DDY75PrhVvtrwZJZ3d1+4ByK4tBvdO3c9BwaP6fHkKoGg1bjCjaa5ViI5iedTHbQA+3/\n",
       "JLUORxzbWaYUSI5s7l1cun3voA/nt+BBx7MTPwB+nYpPBcppXmB6aStls66Vryxr6AWrb7+Gaf1Q\n",
       "u0x9URRN94MP6UbzrgzomdIP1I23ZwvWnH8ZN/Wnv7SMmAWxK/Rf16LqOkcb8k/EL6LsHl/JmzTX\n",
       "d08R1c/Mb3g5O6EjnRlSSQAAAJ1BnsZFFSw7/wCWgksh//hDTgAEQfDSuMU4jyjbXyFeLus2yPIt\n",
       "JPAh+KDdLhYiFig37AQ3fD7P8kyBhBkSj6LunR9R24mDH+L5sfumlnMpw+jO8cPbQay9XpIDXyBF\n",
       "mLr9N0fBbrzzIK5MUztESMqaquNrXXJmtXL6ohzwilAcc6R7TkJlMZR7a7HTgYQeEZ88BtjtHH6w\n",
       "fBmWYLJBAAAAJgGe5XRDfwBpF+3yADnKYyKrf76p83K+bzIIzsAfytl6CtZrbTjRAAAAHQGe52pD\n",
       "fwDX312hp2AC61bsr61k/blpEZmW0ZOAAAABOEGa7EmoQWyZTAgh//6qVQAnO+nnYahgwANxkHpd\n",
       "mP73A8j//5+BME1AHDLHAZkaqBtRvjgGGR52SVyhtBVy5eghf/8SvT24mespqgVYOGSQp4zQijSp\n",
       "rBu6IJygTcK9ouPnG0wlheB6+KLmt/+SAjc3+FsjiRc+9lQHlBqHAOpmLTZWreif2jyH8zTAFq9f\n",
       "Tc1vjjl+YO/4UBdj6MDSXi0FMTBh2Yo4kKxs1Pfnf+M022xNh+d9gWdjfRmVF6lWreSuuzexCQsS\n",
       "5Bv4AEXmKKUzdLcSPSGXt3zmK+xZ2CL5wM64PNhDmhSCOOoxO9Qn2rBK+6u5/ZdyZ4jv8Vu9pcjv\n",
       "pP53+HMEAtKZVHCIZfxwuiU7r+VFqPaSkr2lvWuZJE6Z+qrdCl7avr0NAjYg69o1EYQcVy0XgAAA\n",
       "AIlBnwpFFSw7/wCWbWaJWbHZYAL5s+vP+LodCDlO4/M9Ovu07iCDPMTOwPI/9nWwUDR3rXf8WNlq\n",
       "kHVWSq0khvwsR6eFdqc7RlwbQha97qTWrNmeEPT2LazSvdo13o+IXm/mNU41xu/4CHrf3IGe5wBn\n",
       "eO2J/bINhYJcDlLhiskBBoikeAFgKDSCOQAAABYBnyl0Q38A3zkLt236sErvcq8qgENJAAAAGQGf\n",
       "K2pDfwDe/vyVMAF+7momLrCQB4W1CHgAAADKQZsuSahBbJlMFEwR//61KoAUHYdQAFqkaxcJfHHA\n",
       "VfO//UT/O79t1qz/i9rlHnTxsDQFmEHx2Z/eYXyRG69tJYORSCV2nm3dZVs02BdmslR1JdSdwqGv\n",
       "Dy6uQxYMoL7Lv3L9LU5PSD8dTycZnnUun1Xhelp93IBKVFInwnya9VOf8zHFQP/o8DrgJVyvzqdA\n",
       "Q3RdVzTiFAl5uD1JP+8EHFwI73a9VCnB3ZScIRSAbgCnasJC1t/9ZruQnFchqAhs6eUvSE8y0kUh\n",
       "gQAAABgBn01qQ38AbkAUNb0YEfjmyHH7vQrl/D0AAADzQZtQSeEKUmUwUsEf/rUqgBQYZBDvVb4g\n",
       "ASBqfjYvExhUNMR9oslfBbJlTRvCD5PkACjOqQ+7V//9/gS9tu1WEeATmT9hBAuQ+CTW/1XYr8UA\n",
       "VZDIK/vsa/Xs0aSvZLwA1fwjbIMaaH/aOpfdvZIXZRTqQ3ZdQYMVAeVCihsLqaTvYroLLv8KrVJt\n",
       "MKL80152TTdLFgTtL1N3csqdozcDRRWBas+aI97m/pVerVM1jiJsjxkzm3qz0XvnITFXKZ6cOTer\n",
       "laBgMNngWzz3dtg9uHHoylMjtutx/z8L/1mc5sHG11IAnNpmIf6/Plf6C3fNkdyRAAAAGAGfb2pD\n",
       "fwBtAhn1ulmKRIKLK1/TIh6d6QAAAMpBm3RJ4Q6JlMCCH/6qVQAq2K8sQAbfPM4Z3MidPiG7D4D+\n",
       "A4Twag9L++B3/4ODgTIMWLbdtFeayixPu5KjcI6teIklN8JzFx3EbavvRNqPth/+J+G0t95gE+QM\n",
       "4LCvAbZR3iH/BAZ5xja/97P85Jqi8T3vefKPHtHSFem8GNI3f+qntFHKS2qQcs12Q0VmJ0msOmN0\n",
       "/eoMjvcT282oH4E0is+RM4I+OPNv/x+jyEZafBuXMugSyPH2hkgxdWsTgMfQ5Pcelmz4D4mwAAAA\n",
       "e0GfkkUVPDv/AFKVYz1le2srgOl6WwAAQF1JrDZiVD+gz4yP6/sD+6WUjQcUcONcARjp/nQzH6+6\n",
       "dv/1+Y6Zef/LwJ1QRj4pievaCVOn4X/cleCoQA9dfVhQGInuYNxJuyKllypID4z16xebnLElxXVJ\n",
       "DTUnnbfQ4sHKnQAAABUBn7F0Q38AcPTaX6HbcRXDqOJRTekAAAAiAZ+zakN/AHOVJ/+tVHw/KHe3\n",
       "/u6AGRKgVjV7bgfwUJ0lYAAAALFBm7ZJqEFomUwU8Ef//rUqgBV88bAMAFTig//cYqjqfLmPg3iR\n",
       "fA3Tw783yJoMuqIKv02OJ0bxvUo5wgx7GCT3MywbsNx+ANxYq5/LICKquec8UMeKrsYGx2iz5MTL\n",
       "yEFt98HjizGT9UeZNkZk8yfsbWHY55QG3opgJOfZIfMyMZpeeteXW0BCPUzIjUgV4cqYPfOzUT3P\n",
       "faWlLvCBNeC0m+/f7jvYZT7gvSKhKG6Co0EAAAAcAZ/VakN/AHO7WX1gAvrP0J3hTr/sDjr1xnye\n",
       "gAAAAKRBm9hJ4QpSZTBSwR/+tSqAFWIkkHBoB0uqSTABspeg/pDtwJlvI126E5OdSppgO/wppIYW\n",
       "OCymCFzR1PoHZ14xGTIdwE+T4ya3Bq4H//4MCLsjXnSdLci7Hvtxeq99HQa75AiOHmPYpYR9m1uR\n",
       "ZG/+i0Xh8K5bvMrmzn+T1Sg0O3nUExi1VrpAZ29V6A/Ek0kK1n5iQbyG4Gp78Lsgy/J+bbIzkwAA\n",
       "ABIBn/dqQ38Ac7tYbBsdo8rMotkAAAE0QZv8SeEOiZTAgj/+tSqAFuq3dvAZu1bABbKoxw7CltPM\n",
       "Wv00iX09nmp7df1tQHJJDshG0yRpiCBSK+EHtvChk0HMB5Fu4fsaZmzzJzTFPwPsjTwMLrPnU7oD\n",
       "TlWdbcjDLOWvbfEnRsf//BjuEz6IPgACCVcDizClw4uoosga9lIDsupKMdmPq/+cNvyJtQ32fmB+\n",
       "dAEG51pG+xRHK4mIdtMMPa9k/+a1dE2tLzUp3kkZWDdwXewdcQ9ekXfQ/jpYb/9ccyeXrK79MmD8\n",
       "ekHEUnV1OZhxuXfBjtdkjGZudMDdHxfsVBKIIT/nRGDpfOfsavLFRYSxNPP6eAFOnL/upHhFI+Kd\n",
       "juAE9zxoLiME91BsMS77r5b9jZphuq3f8j7cCryGzPWQMJk/UiTK0NsliNuCQWAAAABSQZ4aRRU8\n",
       "O/8AVxViT/JW6AfsPwAOZQD4p5Bt+N4e6tMavx+hnTH9stiykPKbwgz97ZkiZK88O6jsL4Re3rpW\n",
       "srVXPIB9ZpHgV7ppYFYzN4UzgQAAABQBnjl0Q38AdnTaX94nzEF1AZwkWAAAACsBnjtqQ38AeTrS\n",
       "nfZP5MY7ABegSCVXROg1FwFAUYOF3kwPK/G+1fq21qs5AAABX0GaIEmoQWiZTAgj//61KoAW563W\n",
       "MQA49B2+5liQR/0SHDy7zAvWUnAfp0hsUXiLuoEH/0EWf/iJj2UJ929UfD+XWW8MfKdMOzmg1MC+\n",
       "N65NRVx/UChz/fxKPDBq40EWL8TFYJP5NAhiBvvWKi5IQfXNSeHj+ljW43vYrTDVO451lLRFvrs7\n",
       "xwbvv6TDqoXhvL8jd2zo1rtV/D/ywyR8ED6xzQpGNqC9tagSchfeY+/q6h7RFxesE9tusN261rlj\n",
       "JXBLu834PuxyjCMGgPFrOCMP0Olt8WGZhEGuojPYSIOAX6J24wkX3vM4qey+qq0Nrv7iM6FR2m9m\n",
       "nGWxbL/rLVeDMg3Cqb1KMS33GIg2luMn6YgL+EWc6gySYLRRYDNu2GPp8hPYFrJZgmwJG0ReNeHK\n",
       "r0SrbfxciBpTPavxAtGN6/QPpFWCmPa2hn1eoqEVZ7tiqNRO1fyVmv6KlliiwQAAAE9Bnl5FESw7\n",
       "/wBXDJ9AA2q6y31SseaAQj9pbSFCUIVTkH7ZbtYSQduHktHcnw1ML81CKpalWDifpM8h3jN4B1RZ\n",
       "Hojh0DcvSE6xLj1C4RBAAAAAFwGefXRDfwB5NNpfodtxEwfoHG5L5ZnlAAAAJgGef2pDfwB5O1l9\n",
       "YANpPVBpfcC3+n6CZbUOp3yJ8FAJ+3bguRCBAAAAoEGaYkmoQWyZTBRMEf/+tSqAFhfUkAFatsB2\n",
       "aQnnh9C8T/nzvxGs0f25Gve5izSAeTtTcO9IGlK7QkYPKivrvJkn9tg/QyJqnGeXmvYjAjDZ/5zW\n",
       "SolYrDCiJo2sexl44nHR5hdBlDPNdJEcJpqTGBKi415VCaTykSxMnhdhAwgl953pdjlKkTcGS98n\n",
       "IticK8oSj+rzabziT9idgcYXQYAAAAAVAZ6BakN/AHZ7hbfhYR8QIWvt3taZAAAA70GahknhClJl\n",
       "MCCP//61KoAFm+X17dsJdh3CmwmXUALJL9W+MyVmwVq5JAZVQfAs1fxxP03N4n4sfvnsRJT7FjVW\n",
       "H2u61HeEVAGnChQj+cH0MYLXSl7Av+uHi/sbKBxz2M1RxZJb2C8JOLNPYUxa05jwLHrXmvHi/hx0\n",
       "cEPdRyeseBxMxrXLpL/TCOOui4v0dEUZAuVRXZEuZv/5AKJWXi0wBCt/DNGCzepuXmge1E3s6GdJ\n",
       "X8nf1HTVus11FgozpfWbsFlKWiXu9gERrh5jyMW+/Ckif3EAKaF0vmiPbTr8SsRsD8MK2ktLXbPG\n",
       "EG6gAAAAUUGepEU0TDv/ABW3i89VwAEqa6XYIEVAx7Pp/dx9ibUOS2SWuBU3F+dW2G7404POUIhf\n",
       "uch1RhPYXrP2RXGCteVuS1U+aaN2pireZB17HyTtuQAAABQBnsN0Q38AHl02l+h23EmEA4mR4QAA\n",
       "ABUBnsVqQ38AHl7WGgUVNAOiS4+7UE0AAADBQZrISahBaJlMFPBH//61KoACyk/SABwbV0zdvqBY\n",
       "7cP4c9azne0n/+/zQIBgS+W2aa6u/MAWlih8M3svkw6BKGdcQZuhgBUx8ARs8W99XIU/Z19u76U/\n",
       "W81u3dpCpcsBUZh81CE/T2b0bkMRm/xabuonJqGKeVGPbC6BWxIpU/7njfvYx+iHPO8ArSdEN32J\n",
       "am9khiPbghRbUXOagjrxaWV8oCr8Z5kYeHT51vrC1pQVOcmhRrQCqTMF3b7+oB6dQQAAACIBnudq\n",
       "Q38ADy9rDQKWBoADfL/bkT7wFs4NZ+jKDP26fJaTAAABTUGa7EnhClJlMCCP//61KoABZiRMb18A\n",
       "LSpGkNXmSYu3D0U5FToVp7jg78Pbc/zgCmSmmT4UJPrW+F3sUdz00gF3H99z3zJZkM8HHpHnTQwo\n",
       "UZNvrFa2xxUQpk7yBDNc8qsXOpJhUAx1GZ8T1uclhh+v7HiOoQhG5K2MTXympQSRaQXdDuOSXlN2\n",
       "PQ0JEKbtBBVzLvyUFS2zBRTZ3ve9ZIKy7jCMMi+Nb8lNDLDRxFNTe21BRrgYRWetRYXMeymZe7WC\n",
       "FsTPASHUhg2MIjwLjSV+BjlJlN81SgRv/gINWRnDu55NbElhkK0eqoAENHOlz4VfzIMRnKTOP09x\n",
       "ip1cYsO4k3p69csKCw3IdtuhEjdwHvFGX946eo4QTftQWcEAU9eHP1vA8twIjwhM6yVfYpjx8ZL6\n",
       "6yQHRJvMa2JYIzgxYDQnAWtTPacOiA4J9AAAAKRBnwpFNEw7/wAFcMn0AD+jxEvlKx5pQHTeLsBy\n",
       "u63nvAGyX0PlASY2/wJKqcSegkHrRiTWzCGu2gixTrJT8O6yrGKuP8QCMejbdd+0WkBCPflMDuLL\n",
       "/GD3ee6vJMhiUnfksOg+/2EoInBDr1fbcb5uDYq4BkYKmYSAR4Lda7B47u9Q4PPCVQi8gNr1+uRp\n",
       "/8r9nLSyjnfLQ3HBNZU6uo74zj+FpQAAABcBnyl0Q38AB5dNphK4vh1Xm7ejfiLaQAAAABkBnytq\n",
       "Q38AB5e1htTM4LV/WU+Wx3MMQJrQAAAA8UGbMEmoQWiZTAgh//6qVQABZuGuS2E2EBOdu3pI1Suu\n",
       "4bVsYcj8nTTR9de3ILFMKXATbMU2TIIbRo+geOY4Xh3/z+BfY94r+2/nJSkBleV658tBERKiEuVS\n",
       "rR162sIWXSVWDnyLyjP/nKZX7TeL9K4TtYkWt9lFKJobuBFJ6y/3RadtWPwJ9aQWNagrOjlzJ6qQ\n",
       "0wa2MhWcwWz0T1NaV9XWXXLDtfzro9vgqTdBPMJUlzz0v1KOcOEpuwHKOwbsDIgx1JpvsDVP1vAT\n",
       "dxdmQUmzrKUFO7eLGHvPMYFLZTZgrYFXXQRKfr703oVO4XFGPmUAAABPQZ9ORREsO/8AArhinA1+\n",
       "rzqdLszSt2p63gA2j1z3Nf6Q23aMfkF61cJ+JDrZqQDBcuyf2vgPz+zJz2w2lGGAG5I4OAY7ECGR\n",
       "epB4/odV/QAAABQBn210Q38AA8um0v0O240E9FRt4QAAABQBn29qQ38AAeXtYaBRXODKQ4an4AAA\n",
       "AOtBm3RJqEFsmUwIf//+qZYABW+39oFNDtX/ZhIEcnOA6SRRO5Un8KTLwMMEnRHNZLiFVHWtm624\n",
       "oK9xWNROXKJTkMc04fEe+1bIVH8VDgSwo6roc8hj3LEMXm3yjdaFG5rCOmFJlbmZBS+7NxEJ6DFf\n",
       "vRE4NEt/Ow2oYi6ydRC8D7i0GW/mDkzn5GKy3TKaT+JWls6dgip2ubuAFCwNJI7x5Ty4X7n/fUgf\n",
       "/JAxroy8l1e0OBZ1gOiqtMYxSex46mjEl9blUfKMv0LsyqbZOohhTYgAphMDkhtNveVUF5/tNeO4\n",
       "FC4vISVHUnyYAAAArEGfkkUVLDv/AAFcMU4GCa8lIwACAbsS91fijHsUBM3RVYuHrKqvWX3ad/7A\n",
       "6IuM1urz7s97JAPvfpfNDF9FCVaY0Q17zQpQ2Zx0gYtFd5sXDZtCP4nHPRFm1yF9tjqoKkPbHnm4\n",
       "Z0b8ypgohyZ3Nn7FgxVM2plEC/ZNI4zmixf+xEmDFIr7aBbYT3vEHdcg2hD888LoWa5imBbz9C6y\n",
       "EGt2/Le3GBBjiPaTBYMAAAAVAZ+xdEN/AAHa08tsrxDt98w71DM8AAAAHgGfs2pDfwAA8pn+tjf5\n",
       "4NMPS5kCzgZBnaa2PEOmCAAAAJFBm7dJqEFsmUwIb//+p4QABWt+fm0jPNp7AAXy2I/0ZRoXYBjD\n",
       "edeaju+dNEMbbKGTzVcGKWl7H2euXgclTrI9y5SlDIDh4XNLdbvXSFNYs0fXmlXlcPar3W+gIUun\n",
       "WJuwFEQ99vasEn/TBnoGxx1hVD+AWgZVuUk9AuOjFDrFnqn5AzL0OE7g/eAdn5Ua9vaBAAAAWUGf\n",
       "1UUVLDf/AAHlTDC5/cJQBQAmlUn8+xwnXU57lCe/GmMGZ7WX8PycoO2nILgi/1u/Jrgwovys8K6i\n",
       "pz/7KA9gOpX4SEVVTQ8YhVEpzJXSgSz/+gVztanmAAAAFQGf9mpDfwAB5ih+ONegz4MwIr3dcQAA\n",
       "ByZtb292AAAAbG12aGQAAAAAAAAAAAAAAAAAAAPoAAAiYAABAAABAAAAAAAAAAAAAAAAAQAAAAAA\n",
       "AAAAAAAAAAAAAAEAAAAAAAAAAAAAAAAAAEAAAAAAAAAAAAAAAAAAAAAAAAAAAAAAAAAAAAAAAAAC\n",
       "AAAGUHRyYWsAAABcdGtoZAAAAAMAAAAAAAAAAAAAAAEAAAAAAAAiYAAAAAAAAAAAAAAAAAAAAAAA\n",
       "AQAAAAAAAAAAAAAAAAAAAAEAAAAAAAAAAAAAAAAAAEAAAAABsAAAASAAAAAAACRlZHRzAAAAHGVs\n",
       "c3QAAAAAAAAAAQAAImAAAAgAAAEAAAAABchtZGlhAAAAIG1kaGQAAAAAAAAAAAAAAAAAACgAAAFg\n",
       "AFXEAAAAAAAtaGRscgAAAAAAAAAAdmlkZQAAAAAAAAAAAAAAAFZpZGVvSGFuZGxlcgAAAAVzbWlu\n",
       "ZgAAABR2bWhkAAAAAQAAAAAAAAAAAAAAJGRpbmYAAAAcZHJlZgAAAAAAAAABAAAADHVybCAAAAAB\n",
       "AAAFM3N0YmwAAACzc3RzZAAAAAAAAAABAAAAo2F2YzEAAAAAAAAAAQAAAAAAAAAAAAAAAAAAAAAB\n",
       "sAEgAEgAAABIAAAAAAAAAAEAAAAAAAAAAAAAAAAAAAAAAAAAAAAAAAAAAAAAAAAAAAAY//8AAAAx\n",
       "YXZjQwFkABX/4QAYZ2QAFazZQbCWhAAAAwAEAAADAFA8WLZYAQAGaOvjyyLAAAAAHHV1aWRraEDy\n",
       "XyRPxbo5pRvPAyPzAAAAAAAAABhzdHRzAAAAAAAAAAEAAABYAAAEAAAAABRzdHNzAAAAAAAAAAEA\n",
       "AAABAAACqGN0dHMAAAAAAAAAUwAAAAEAAAgAAAAAAQAAEAAAAAACAAAEAAAAAAEAAAwAAAAAAQAA\n",
       "BAAAAAABAAAMAAAAAAEAAAQAAAAAAQAAFAAAAAABAAAIAAAAAAEAAAAAAAAAAQAABAAAAAABAAAQ\n",
       "AAAAAAIAAAQAAAAAAQAAFAAAAAABAAAIAAAAAAEAAAAAAAAAAQAABAAAAAABAAAQAAAAAAIAAAQA\n",
       "AAAAAQAADAAAAAABAAAEAAAAAAEAABQAAAAAAQAACAAAAAABAAAAAAAAAAEAAAQAAAAAAQAADAAA\n",
       "AAABAAAEAAAAAAEAABAAAAAAAgAABAAAAAABAAAUAAAAAAEAAAgAAAAAAQAAAAAAAAABAAAEAAAA\n",
       "AAEAABQAAAAAAQAACAAAAAABAAAAAAAAAAEAAAQAAAAAAQAAFAAAAAABAAAIAAAAAAEAAAAAAAAA\n",
       "AQAABAAAAAABAAAMAAAAAAEAAAQAAAAAAQAADAAAAAABAAAEAAAAAAEAABQAAAAAAQAACAAAAAAB\n",
       "AAAAAAAAAAEAAAQAAAAAAQAADAAAAAABAAAEAAAAAAEAAAwAAAAAAQAABAAAAAABAAAUAAAAAAEA\n",
       "AAgAAAAAAQAAAAAAAAABAAAEAAAAAAEAABQAAAAAAQAACAAAAAABAAAAAAAAAAEAAAQAAAAAAQAA\n",
       "DAAAAAABAAAEAAAAAAEAABQAAAAAAQAACAAAAAABAAAAAAAAAAEAAAQAAAAAAQAADAAAAAABAAAE\n",
       "AAAAAAEAABQAAAAAAQAACAAAAAABAAAAAAAAAAEAAAQAAAAAAQAAFAAAAAABAAAIAAAAAAEAAAAA\n",
       "AAAAAQAABAAAAAABAAAUAAAAAAEAAAgAAAAAAQAAAAAAAAABAAAEAAAAAAEAABAAAAAAAgAABAAA\n",
       "AAAcc3RzYwAAAAAAAAABAAAAAQAAAFgAAAABAAABdHN0c3oAAAAAAAAAAAAAAFgAABH8AAADBgAA\n",
       "AFwAAAAtAAABBgAAADAAAADkAAAAMwAAAOwAAABeAAAAKwAAACwAAADtAAAAbgAAACsAAAEKAAAA\n",
       "VQAAACsAAAAsAAAA5wAAADcAAAAqAAAA5wAAACkAAAEzAAAAaAAAACkAAAAnAAABKgAAACoAAAFc\n",
       "AAAAYwAAACwAAAE7AAAAbwAAAB0AAAAuAAABIQAAAKEAAAAqAAAAIQAAATwAAACNAAAAGgAAAB0A\n",
       "AADOAAAAHAAAAPcAAAAcAAAAzgAAAH8AAAAZAAAAJgAAALUAAAAgAAAAqAAAABYAAAE4AAAAVgAA\n",
       "ABgAAAAvAAABYwAAAFMAAAAbAAAAKgAAAKQAAAAZAAAA8wAAAFUAAAAYAAAAGQAAAMUAAAAmAAAB\n",
       "UQAAAKgAAAAbAAAAHQAAAPUAAABTAAAAGAAAABgAAADvAAAAsAAAABkAAAAiAAAAlQAAAF0AAAAZ\n",
       "AAAAFHN0Y28AAAAAAAAAAQAAACwAAABidWR0YQAAAFptZXRhAAAAAAAAACFoZGxyAAAAAAAAAABt\n",
       "ZGlyYXBwbAAAAAAAAAAAAAAAAC1pbHN0AAAAJal0b28AAAAdZGF0YQAAAAEAAAAATGF2ZjU4LjMw\n",
       "LjEwMA==\n",
       "\">\n",
       "  Your browser does not support the video tag.\n",
       "</video>"
      ]
     },
     "execution_count": 24,
     "metadata": {},
     "output_type": "execute_result"
    }
   ],
   "source": [
    "TronGame.view_game(game_histories[0])"
   ]
  },
  {
   "cell_type": "code",
   "execution_count": 0,
   "metadata": {
    "id": "yMXZKQI7pt9Y",
    "colab_type": "code",
    "outputId": "3b76d733-a1ff-417c-f81f-28512d0e9976",
    "colab": {
     "base_uri": "https://localhost:8080/",
     "height": 360.0
    }
   },
   "outputs": [
    {
     "ename": "TclError",
     "evalue": "ignored",
     "traceback": [
      "\u001b[0;31m---------------------------------------------------------------------------\u001b[0m",
      "\u001b[0;31mTclError\u001b[0m                                  Traceback (most recent call last)",
      "\u001b[0;32m<ipython-input-10-d6a973906093>\u001b[0m in \u001b[0;36m<module>\u001b[0;34m()\u001b[0m\n\u001b[1;32m     18\u001b[0m         \u001b[0;31m# f1 to f12, shift keys, caps lock, Home, End, Delete ...\u001b[0m\u001b[0;34m\u001b[0m\u001b[0;34m\u001b[0m\u001b[0;34m\u001b[0m\u001b[0m\n\u001b[1;32m     19\u001b[0m         \u001b[0mprint\u001b[0m\u001b[0;34m(\u001b[0m \u001b[0;34m'Special Key %r'\u001b[0m \u001b[0;34m%\u001b[0m \u001b[0mevent\u001b[0m\u001b[0;34m.\u001b[0m\u001b[0mkeysym\u001b[0m \u001b[0;34m)\u001b[0m\u001b[0;34m\u001b[0m\u001b[0;34m\u001b[0m\u001b[0m\n\u001b[0;32m---> 20\u001b[0;31m \u001b[0mroot\u001b[0m \u001b[0;34m=\u001b[0m \u001b[0mtk\u001b[0m\u001b[0;34m.\u001b[0m\u001b[0mTk\u001b[0m\u001b[0;34m(\u001b[0m\u001b[0;34m)\u001b[0m\u001b[0;34m\u001b[0m\u001b[0;34m\u001b[0m\u001b[0m\n\u001b[0m\u001b[1;32m     21\u001b[0m \u001b[0mprint\u001b[0m\u001b[0;34m(\u001b[0m \u001b[0;34m\"Press a key (Escape key to exit):\"\u001b[0m \u001b[0;34m)\u001b[0m\u001b[0;34m\u001b[0m\u001b[0;34m\u001b[0m\u001b[0m\n\u001b[1;32m     22\u001b[0m \u001b[0mroot\u001b[0m\u001b[0;34m.\u001b[0m\u001b[0mbind_all\u001b[0m\u001b[0;34m(\u001b[0m\u001b[0;34m'<Key>'\u001b[0m\u001b[0;34m,\u001b[0m \u001b[0mkey\u001b[0m\u001b[0;34m)\u001b[0m\u001b[0;34m\u001b[0m\u001b[0;34m\u001b[0m\u001b[0m\n",
      "\u001b[0;32m/usr/lib/python3.6/tkinter/__init__.py\u001b[0m in \u001b[0;36m__init__\u001b[0;34m(self, screenName, baseName, className, useTk, sync, use)\u001b[0m\n\u001b[1;32m   2021\u001b[0m                 \u001b[0mbaseName\u001b[0m \u001b[0;34m=\u001b[0m \u001b[0mbaseName\u001b[0m \u001b[0;34m+\u001b[0m \u001b[0mext\u001b[0m\u001b[0;34m\u001b[0m\u001b[0;34m\u001b[0m\u001b[0m\n\u001b[1;32m   2022\u001b[0m         \u001b[0minteractive\u001b[0m \u001b[0;34m=\u001b[0m \u001b[0;36m0\u001b[0m\u001b[0;34m\u001b[0m\u001b[0;34m\u001b[0m\u001b[0m\n\u001b[0;32m-> 2023\u001b[0;31m         \u001b[0mself\u001b[0m\u001b[0;34m.\u001b[0m\u001b[0mtk\u001b[0m \u001b[0;34m=\u001b[0m \u001b[0m_tkinter\u001b[0m\u001b[0;34m.\u001b[0m\u001b[0mcreate\u001b[0m\u001b[0;34m(\u001b[0m\u001b[0mscreenName\u001b[0m\u001b[0;34m,\u001b[0m \u001b[0mbaseName\u001b[0m\u001b[0;34m,\u001b[0m \u001b[0mclassName\u001b[0m\u001b[0;34m,\u001b[0m \u001b[0minteractive\u001b[0m\u001b[0;34m,\u001b[0m \u001b[0mwantobjects\u001b[0m\u001b[0;34m,\u001b[0m \u001b[0museTk\u001b[0m\u001b[0;34m,\u001b[0m \u001b[0msync\u001b[0m\u001b[0;34m,\u001b[0m \u001b[0muse\u001b[0m\u001b[0;34m)\u001b[0m\u001b[0;34m\u001b[0m\u001b[0;34m\u001b[0m\u001b[0m\n\u001b[0m\u001b[1;32m   2024\u001b[0m         \u001b[0;32mif\u001b[0m \u001b[0museTk\u001b[0m\u001b[0;34m:\u001b[0m\u001b[0;34m\u001b[0m\u001b[0;34m\u001b[0m\u001b[0m\n\u001b[1;32m   2025\u001b[0m             \u001b[0mself\u001b[0m\u001b[0;34m.\u001b[0m\u001b[0m_loadtk\u001b[0m\u001b[0;34m(\u001b[0m\u001b[0;34m)\u001b[0m\u001b[0;34m\u001b[0m\u001b[0;34m\u001b[0m\u001b[0m\n",
      "\u001b[0;31mTclError\u001b[0m: no display name and no $DISPLAY environment variable"
     ],
     "output_type": "error"
    }
   ],
   "source": [
    ""
   ]
  },
  {
   "cell_type": "code",
   "execution_count": 0,
   "metadata": {
    "id": "rTYImQo4uLVv",
    "colab_type": "code",
    "colab": {}
   },
   "outputs": [],
   "source": [
    ""
   ]
  }
 ],
 "metadata": {
  "colab": {
   "name": "TRON.ipynb",
   "version": "0.3.2",
   "provenance": [],
   "collapsed_sections": []
  },
  "kernelspec": {
   "name": "python3",
   "display_name": "Python 3"
  }
 },
 "nbformat": 4,
 "nbformat_minor": 0
}
