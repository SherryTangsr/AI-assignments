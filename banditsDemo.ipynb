{
 "cells": [
  {
   "cell_type": "code",
   "execution_count": 1,
   "metadata": {
    "collapsed": true
   },
   "outputs": [],
   "source": [
    "import numpy as np\n",
    "import scipy.stats as sps"
   ]
  },
  {
   "cell_type": "code",
   "execution_count": 2,
   "metadata": {},
   "outputs": [],
   "source": [
    "bandits = []\n",
    "bandits1 = sps.bernoulli(0.3)\n",
    "bandits2 = sps.bernoulli(0.5)\n",
    "bandits = [bandits1,bandits2]"
   ]
  },
  {
   "cell_type": "code",
   "execution_count": 3,
   "metadata": {},
   "outputs": [
    {
     "name": "stdout",
     "output_type": "stream",
     "text": [
      "0\n1\n1\n0\n1\n1\n0\n0\n1\n0\n"
     ]
    }
   ],
   "source": [
    "for _ in range(10):\n",
    "    print(bandits2.rvs())"
   ]
  },
  {
   "cell_type": "code",
   "execution_count": 24,
   "metadata": {},
   "outputs": [],
   "source": [
    "def random_player(bandits,num_trials):\n",
    "    rewards = []\n",
    "    for _ in range(num_trials):\n",
    "        b = np.random.randint(0,2)\n",
    "        reward = bandits[b].rvs()\n",
    "        rewards.append(bandits[b].mean())\n",
    "    rew = np.asarray(rewards)\n",
    "    print(rew)\n",
    "    return np.sum(0.5-rew)"
   ]
  },
  {
   "cell_type": "code",
   "execution_count": 25,
   "metadata": {},
   "outputs": [
    {
     "name": "stdout",
     "output_type": "stream",
     "text": [
      "[0.3 0.3 0.3 0.5 0.5 0.3 0.5 0.5 0.5 0.5]\n[0.5 0.3 0.3 0.5 0.3 0.5 0.5 0.3 0.3 0.3 0.3 0.3 0.5 0.5 0.3 0.3 0.3 0.5\n 0.5 0.3 0.5 0.5 0.3 0.3 0.5 0.5 0.3 0.5 0.5 0.3 0.3 0.5 0.5 0.3 0.5 0.3\n 0.3 0.3 0.3 0.3 0.3 0.3 0.3 0.3 0.3 0.3 0.5 0.5 0.5 0.5 0.3 0.5 0.3 0.3\n 0.3 0.5 0.5 0.3 0.5 0.3 0.3 0.3 0.5 0.5 0.5 0.5 0.5 0.3 0.3 0.5 0.5 0.5\n 0.5 0.5 0.5 0.3 0.3 0.5 0.5 0.3 0.3 0.5 0.3 0.3 0.5 0.5 0.5 0.3 0.3 0.5\n 0.5 0.3 0.3 0.3 0.3 0.5 0.5 0.3 0.3 0.3]\n[0.3 0.3 0.3 0.3 0.5 0.3 0.3 0.3 0.3 0.3 0.3 0.3 0.5 0.3 0.5 0.5 0.5 0.5\n 0.5 0.5 0.5 0.5 0.3 0.5 0.5 0.3 0.3 0.3 0.5 0.3 0.3 0.3 0.5 0.5 0.5 0.5\n 0.5 0.3 0.3 0.3 0.3 0.3 0.5 0.5 0.5 0.3 0.5 0.5 0.5 0.5 0.3 0.5 0.5 0.5\n 0.5 0.3 0.3 0.3 0.5 0.5 0.5 0.3 0.3 0.3 0.5 0.5 0.5 0.3 0.5 0.5 0.5 0.5\n 0.5 0.5 0.3 0.5 0.5 0.5 0.5 0.3 0.3 0.5 0.3 0.3 0.5 0.5 0.5 0.5 0.5 0.3\n 0.3 0.5 0.5 0.5 0.3 0.5 0.5 0.5 0.3 0.5 0.5 0.3 0.5 0.5 0.5 0.5 0.5 0.5\n 0.3 0.5 0.3 0.3 0.3 0.3 0.3 0.3 0.3 0.3 0.5 0.5 0.5 0.3 0.5 0.5 0.3 0.3\n 0.3 0.5 0.5 0.5 0.5 0.5 0.3 0.5 0.3 0.5 0.5 0.3 0.3 0.3 0.5 0.5 0.3 0.3\n 0.3 0.3 0.5 0.5 0.5 0.3 0.3 0.5 0.3 0.3 0.3 0.3 0.5 0.5 0.5 0.5 0.3 0.5\n 0.3 0.5 0.3 0.3 0.3 0.5 0.3 0.5 0.5 0.3 0.3 0.3 0.3 0.5 0.3 0.5 0.3 0.5\n 0.5 0.5 0.3 0.5 0.3 0.3 0.3 0.3 0.5 0.5 0.3 0.5 0.3 0.5 0.5 0.3 0.3 0.3\n 0.3 0.5 0.3 0.3 0.5 0.3 0.3 0.3 0.3 0.5 0.3 0.3 0.3 0.5 0.3 0.3 0.3 0.5\n 0.3 0.5 0.5 0.3 0.3 0.5 0.5 0.3 0.3 0.5 0.5 0.5 0.3 0.3 0.5 0.3 0.5 0.3\n 0.5 0.3 0.5 0.5 0.3 0.3 0.5 0.3 0.3 0.5 0.3 0.3 0.3 0.3 0.5 0.5 0.3 0.5\n 0.3 0.3 0.5 0.5 0.5 0.5 0.5 0.5 0.3 0.5 0.5 0.3 0.3 0.3 0.3 0.5 0.5 0.5\n 0.5 0.3 0.5 0.3 0.5 0.3 0.5 0.3 0.5 0.3 0.3 0.3 0.3 0.3 0.5 0.5 0.3 0.3\n 0.5 0.3 0.5 0.3 0.3 0.5 0.3 0.5 0.5 0.3 0.3 0.5 0.3 0.5 0.3 0.3 0.3 0.5\n 0.3 0.5 0.5 0.3 0.3 0.3 0.5 0.5 0.5 0.5 0.5 0.5 0.3 0.5 0.3 0.5 0.5 0.3\n 0.3 0.3 0.3 0.5 0.3 0.5 0.3 0.3 0.3 0.3 0.5 0.3 0.3 0.5 0.3 0.3 0.3 0.5\n 0.5 0.3 0.5 0.5 0.5 0.5 0.3 0.5 0.5 0.5 0.3 0.3 0.5 0.5 0.3 0.3 0.5 0.5\n 0.3 0.5 0.3 0.5 0.3 0.3 0.3 0.5 0.3 0.3 0.3 0.5 0.5 0.3 0.5 0.5 0.3 0.5\n 0.3 0.5 0.3 0.5 0.3 0.5 0.3 0.5 0.3 0.5 0.5 0.3 0.3 0.3 0.5 0.5 0.3 0.5\n 0.5 0.3 0.3 0.3 0.5 0.3 0.3 0.3 0.5 0.5 0.3 0.5 0.3 0.3 0.3 0.5 0.3 0.3\n 0.3 0.5 0.5 0.5 0.5 0.3 0.5 0.3 0.5 0.5 0.3 0.5 0.3 0.5 0.3 0.5 0.5 0.3\n 0.5 0.5 0.5 0.3 0.5 0.5 0.3 0.3 0.5 0.5 0.3 0.5 0.3 0.5 0.3 0.5 0.3 0.3\n 0.5 0.3 0.3 0.5 0.5 0.5 0.3 0.3 0.3 0.5 0.5 0.3 0.3 0.5 0.3 0.5 0.5 0.5\n 0.3 0.3 0.3 0.3 0.5 0.3 0.3 0.5 0.3 0.3 0.5 0.3 0.3 0.3 0.3 0.3 0.3 0.3\n 0.5 0.3 0.3 0.3 0.5 0.3 0.5 0.3 0.3 0.3 0.3 0.3 0.5 0.5 0.5 0.3 0.3 0.3\n 0.3 0.5 0.5 0.5 0.5 0.5 0.3 0.3 0.3 0.5 0.3 0.5 0.5 0.5 0.5 0.5 0.3 0.3\n 0.3 0.5 0.5 0.3 0.3 0.5 0.5 0.5 0.5 0.3 0.5 0.5 0.3 0.3 0.3 0.5 0.3 0.5\n 0.3 0.5 0.5 0.3 0.5 0.5 0.5 0.5 0.3 0.3 0.3 0.3 0.3 0.3 0.5 0.5 0.5 0.3\n 0.5 0.3 0.5 0.3 0.3 0.3 0.5 0.3 0.3 0.3 0.5 0.3 0.3 0.5 0.5 0.5 0.3 0.5\n 0.3 0.5 0.3 0.3 0.5 0.5 0.3 0.3 0.5 0.5 0.5 0.5 0.5 0.5 0.5 0.5 0.5 0.5\n 0.5 0.3 0.5 0.5 0.5 0.3 0.5 0.5 0.3 0.5 0.3 0.3 0.5 0.5 0.5 0.5 0.5 0.5\n 0.3 0.3 0.3 0.5 0.3 0.3 0.5 0.5 0.3 0.5 0.5 0.5 0.5 0.3 0.3 0.3 0.3 0.5\n 0.5 0.3 0.3 0.3 0.5 0.5 0.5 0.5 0.5 0.5 0.3 0.3 0.3 0.3 0.3 0.3 0.3 0.3\n 0.3 0.5 0.3 0.5 0.3 0.5 0.3 0.3 0.3 0.5 0.5 0.3 0.3 0.5 0.3 0.3 0.3 0.3\n 0.3 0.3 0.3 0.3 0.5 0.5 0.3 0.5 0.3 0.5 0.5 0.3 0.3 0.5 0.5 0.5 0.3 0.3\n 0.5 0.5 0.5 0.3 0.3 0.5 0.3 0.3 0.5 0.3 0.5 0.3 0.5 0.3 0.3 0.5 0.3 0.3\n 0.5 0.3 0.3 0.5 0.5 0.3 0.3 0.5 0.5 0.3 0.3 0.5 0.5 0.3 0.5 0.5 0.3 0.5\n 0.5 0.5 0.5 0.5 0.5 0.3 0.3 0.5 0.5 0.5 0.3 0.5 0.5 0.5 0.3 0.3 0.5 0.3\n 0.3 0.5 0.3 0.3 0.3 0.3 0.3 0.3 0.3 0.3 0.3 0.3 0.3 0.3 0.5 0.3 0.3 0.3\n 0.5 0.3 0.5 0.5 0.5 0.3 0.3 0.3 0.3 0.5 0.5 0.3 0.3 0.5 0.3 0.5 0.3 0.5\n 0.3 0.3 0.5 0.5 0.3 0.3 0.5 0.3 0.3 0.5 0.3 0.5 0.3 0.3 0.3 0.3 0.5 0.3\n 0.5 0.3 0.3 0.5 0.3 0.5 0.5 0.5 0.5 0.5 0.3 0.5 0.5 0.5 0.3 0.5 0.5 0.5\n 0.3 0.5 0.5 0.5 0.5 0.3 0.3 0.3 0.3 0.5 0.5 0.3 0.3 0.3 0.3 0.5 0.3 0.5\n 0.5 0.5 0.3 0.5 0.5 0.3 0.5 0.5 0.3 0.5 0.5 0.5 0.3 0.3 0.5 0.5 0.3 0.3\n 0.5 0.5 0.5 0.5 0.5 0.3 0.3 0.5 0.5 0.3 0.3 0.5 0.3 0.5 0.3 0.5 0.5 0.3\n 0.3 0.3 0.5 0.3 0.5 0.5 0.3 0.5 0.3 0.5 0.3 0.3 0.3 0.5 0.3 0.5 0.5 0.5\n 0.3 0.5 0.5 0.3 0.5 0.3 0.3 0.3 0.5 0.5 0.5 0.3 0.5 0.3 0.5 0.3 0.5 0.3\n 0.5 0.5 0.3 0.3 0.5 0.5 0.3 0.5 0.5 0.3 0.5 0.5 0.3 0.3 0.5 0.3 0.3 0.5\n 0.5 0.3 0.5 0.5 0.3 0.3 0.3 0.3 0.3 0.3 0.5 0.3 0.3 0.3 0.5 0.5 0.5 0.5\n 0.3 0.3 0.5 0.5 0.3 0.3 0.3 0.3 0.5 0.3 0.3 0.5 0.3 0.5 0.3 0.3 0.5 0.3\n 0.3 0.3 0.5 0.3 0.5 0.5 0.5 0.5 0.5 0.3 0.5 0.5 0.5 0.5 0.3 0.3 0.5 0.3\n 0.5 0.3 0.3 0.5 0.3 0.5 0.3 0.5 0.3 0.3 0.3 0.3 0.5 0.3 0.3 0.5 0.3 0.3\n 0.5 0.3 0.5 0.3 0.3 0.5 0.5 0.3 0.5 0.5]\n"
     ]
    },
    {
     "name": "stdout",
     "output_type": "stream",
     "text": [
      "[0.5 0.3 0.3 ... 0.3 0.3 0.5]\n"
     ]
    },
    {
     "data": {
      "text/plain": [
       "[<matplotlib.lines.Line2D at 0x20c53c8ae10>]"
      ]
     },
     "execution_count": 25,
     "metadata": {},
     "output_type": "execute_result"
    },
    {
     "data": {
      "image/png": "[encoded data removed]",
      "text/plain": [
       "<Figure size 432x288 with 1 Axes>"
      ]
     },
     "metadata": {},
     "output_type": "display_data"
    }
   ],
   "source": [
    "samples = [10,100,1000,5000]\n",
    "regrets = []\n",
    "for sample_num in samples:\n",
    "    regrets.append(random_player(bandits,sample_num))\n",
    "import matplotlib.pyplot as plt\n",
    "plt.plot(samples,regrets)"
   ]
  },
  {
   "cell_type": "code",
   "execution_count": 28,
   "metadata": {},
   "outputs": [],
   "source": [
    "def bayesian_player(bandits,num_trials):\n",
    "    rewards = []\n",
    "    betas =[]\n",
    "    wins = [0.1,0.1]\n",
    "    losses = [0.1,0.1]\n",
    "    betas.append(sps.beta(0.1,0.1))\n",
    "    betas.append(sps.beta(0.1,0.1))\n",
    "    for _ in range(num_trials):\n",
    "        b = np.argmax([betas[0].rvs(),betas[1].rvs()])\n",
    "        # b = np.random.randint(0,2)\n",
    "        reward = bandits[b].rvs()\n",
    "        rewards.append(bandits[b].mean())\n",
    "        wins[b]+=reward\n",
    "        losses[b]+=1-reward\n",
    "        betas[b] = sps.beta(wins[b],losses[b])\n",
    "    rew = np.asarray(rewards)\n",
    "    print(rew)\n",
    "    return np.sum(0.5-rew)"
   ]
  },
  {
   "cell_type": "code",
   "execution_count": 29,
   "metadata": {},
   "outputs": [
    {
     "name": "stdout",
     "output_type": "stream",
     "text": [
      "[0.5 0.5 0.5 0.3 0.5 0.5 0.5 0.5 0.5 0.5]\n[0.3 0.3 0.5 0.5 0.5 0.3 0.3 0.3 0.3 0.5 0.5 0.3 0.5 0.3 0.3 0.3 0.5 0.3\n 0.3 0.5 0.3 0.3 0.3 0.3 0.3 0.3 0.3 0.3 0.3 0.3 0.3 0.3 0.3 0.3 0.3 0.3\n 0.3 0.3 0.3 0.3 0.3 0.3 0.3 0.5 0.3 0.3 0.3 0.3 0.3 0.3]\n[0.5 0.3 0.3 0.3 0.3 0.3 0.3 0.3 0.3 0.3 0.5 0.3 0.3 0.3 0.3 0.3 0.3 0.3\n 0.3 0.3 0.3 0.3 0.3 0.3 0.3 0.3 0.3 0.3 0.3 0.5 0.3 0.3 0.3 0.3 0.3 0.3\n 0.3 0.3 0.3 0.3 0.3 0.3 0.3 0.3 0.3 0.3 0.3 0.3 0.3 0.3 0.3 0.3 0.3 0.3\n 0.3 0.3 0.5 0.5 0.5 0.3 0.3 0.5 0.5 0.5 0.5 0.5 0.5 0.5 0.5 0.5 0.5 0.5\n 0.5 0.5 0.5 0.5 0.5 0.5 0.5 0.5 0.5 0.5 0.5 0.5 0.5 0.5 0.5 0.5 0.5 0.5\n 0.5 0.5 0.5 0.5 0.5 0.5 0.5 0.5 0.5 0.5]"
     ]
    },
    {
     "name": "stdout",
     "output_type": "stream",
     "text": [
      "\n"
     ]
    },
    {
     "name": "stdout",
     "output_type": "stream",
     "text": [
      "[0.3 0.3 0.5 0.3 0.5 0.5 0.5 0.3 0.3 0.5 0.3 0.5 0.5 0.3 0.3 0.3 0.3 0.3\n 0.3 0.5 0.5 0.3 0.3 0.3 0.3 0.3 0.5 0.5 0.5 0.5 0.5 0.3 0.3 0.5 0.3 0.3\n 0.3 0.5 0.3 0.5 0.3 0.3 0.3 0.5 0.5 0.3 0.5 0.3 0.5 0.5 0.5 0.5 0.3 0.3\n 0.5 0.5 0.5 0.5 0.5 0.5 0.5 0.5 0.3 0.5 0.5 0.5 0.5 0.5 0.5 0.5 0.5 0.5\n 0.5 0.5 0.5 0.5 0.3 0.3 0.5 0.5 0.5 0.3 0.5 0.3 0.5 0.5 0.5 0.3 0.5 0.3\n 0.5 0.5 0.3 0.3 0.5 0.5 0.3 0.5 0.5 0.5 0.5 0.5 0.5 0.5 0.5 0.5 0.3 0.5\n 0.5 0.5 0.3 0.3 0.5 0.5 0.5 0.5 0.5 0.5 0.5 0.5 0.5 0.5 0.3 0.3 0.5 0.5\n 0.5 0.5 0.5 0.5 0.3 0.5 0.5 0.3 0.5 0.3 0.5 0.5 0.5 0.5 0.5 0.5 0.5 0.5\n 0.5 0.5 0.5 0.5 0.5 0.3 0.5 0.5 0.5 0.5 0.5 0.5 0.3 0.3 0.3 0.5 0.5 0.5\n 0.5 0.3 0.5 0.3 0.3 0.5 0.5 0.5 0.5 0.5 0.5 0.5 0.5 0.5 0.5 0.5 0.5 0.5\n 0.5 0.5 0.5 0.5 0.5 0.5 0.5 0.5 0.5 0.5 0.5 0.5 0.5 0.5 0.5 0.5 0.5 0.5\n 0.5 0.5 0.5 0.5 0.5 0.5 0.5 0.5 0.5 0.5 0.5 0.5 0.5 0.5 0.5 0.5 0.3 0.5\n 0.5 0.5 0.5 0.5 0.5 0.5 0.5 0.5 0.5 0.5 0.5 0.5 0.5 0.5 0.5 0.5 0.5 0.5\n 0.5 0.5 0.5 0.5 0.5 0.5 0.5 0.5 0.5 0.5 0.5 0.5 0.5 0.5 0.5 0.5 0.5 0.5\n 0.3 0.5 0.5 0.5 0.5 0.5 0.5 0.5 0.5 0.5 0.5 0.5 0.5 0.5 0.5 0.5 0.5 0.5\n 0.5 0.5 0.5 0.5 0.5 0.5 0.5 0.5 0.5 0.5 0.5 0.5 0.5 0.5 0.3 0.5 0.5 0.5\n 0.5 0.5 0.5 0.5 0.5 0.5 0.5 0.5 0.5 0.5 0.5 0.5 0.5 0.5 0.5 0.5 0.5 0.5\n 0.5 0.5 0.5 0.5 0.5 0.5 0.5 0.5 0.5 0.5 0.5 0.5 0.5 0.5 0.5 0.5 0.5 0.5\n 0.5 0.5 0.5 0.5 0.5 0.5 0.5 0.5 0.5 0.5 0.5 0.5 0.3 0.5 0.5 0.5 0.5 0.5\n 0.5 0.5 0.5 0.5 0.5 0.5 0.5 0.5 0.5 0.5 0.5 0.5 0.5 0.5 0.5 0.5 0.5 0.3\n 0.5 0.5 0.5 0.5 0.5 0.5 0.5 0.5 0.5 0.5 0.5 0.5 0.5 0.5 0.5 0.5 0.5 0.5\n 0.5 0.5 0.5 0.5 0.5 0.5 0.5 0.5 0.5 0.5 0.5 0.5 0.5 0.5 0.5 0.5 0.5 0.5\n 0.5 0.5 0.5 0.5 0.5 0.5 0.5 0.5 0.5 0.5 0.5 0.5 0.5 0.5 0.5 0.5 0.5 0.5\n 0.5 0.5 0.5 0.5 0.5 0.5 0.3 0.5 0.5 0.5 0.5 0.5 0.5 0.5 0.5 0.5 0.5 0.5\n 0.5 0.5 0.5 0.5 0.5 0.5 0.5 0.5 0.5 0.5 0.5 0.5 0.5 0.5 0.5 0.5 0.5 0.5\n 0.5 0.5 0.5 0.5 0.5 0.5 0.5 0.5 0.5 0.5 0.5 0.5 0.5 0.5 0.5 0.5 0.5 0.5\n 0.5 0.5 0.5 0.5 0.5 0.5 0.5 0.5 0.5 0.5 0.5 0.5 0.5 0.5 0.5 0.5 0.5 0.5\n 0.5 0.5 0.5 0.5 0.5 0.5 0.5 0.5 0.5 0.5 0.5 0.5 0.5 0.5]\n"
     ]
    },
    {
     "name": "stdout",
     "output_type": "stream",
     "text": [
      "[0.3 0.3 0.5 0.3 0.3 0.3 0.3 0.3 0.5 0.5 0.3 0.5 0.3 0.3 0.5 0.3 0.3 0.5\n 0.3 0.3 0.3 0.3 0.5 0.3 0.5 0.5 0.3 0.3 0.5 0.3 0.5 0.3 0.3 0.3 0.3 0.5\n 0.3 0.3 0.3 0.5 0.5 0.3 0.5 0.3 0.5 0.5 0.5 0.5 0.5 0.5 0.3 0.5 0.3 0.3\n 0.5 0.5 0.5 0.5 0.5 0.5 0.5 0.5 0.3 0.3 0.5 0.5 0.5 0.5 0.5 0.5 0.5 0.5\n 0.5 0.5 0.5 0.5 0.5 0.5 0.5 0.5 0.5 0.5 0.5 0.5 0.5 0.5 0.5 0.5 0.5 0.3\n 0.5 0.5 0.5 0.5 0.5 0.5 0.5 0.5 0.5 0.5 0.5 0.5 0.5 0.5 0.5 0.5 0.5 0.5\n 0.5 0.5 0.5 0.5 0.5 0.5 0.5 0.5 0.5 0.5 0.5 0.5 0.5 0.5 0.5 0.5 0.5 0.5\n 0.5 0.5 0.5 0.5 0.5 0.3 0.5 0.5 0.5 0.5 0.5 0.5 0.5 0.5 0.5 0.5 0.5 0.5\n 0.5 0.5 0.5 0.5 0.5 0.5 0.5 0.5 0.5 0.5 0.5 0.5 0.5 0.5 0.5 0.5 0.5 0.5\n 0.5 0.5 0.5 0.5 0.5 0.5 0.5 0.5 0.5 0.5 0.5 0.5 0.5 0.5 0.5 0.5 0.5 0.5\n 0.5 0.5 0.5 0.5 0.5 0.5 0.5 0.5 0.5 0.5 0.5 0.5 0.5 0.5 0.3 0.5 0.5 0.5\n 0.5 0.5 0.5 0.5 0.5 0.5 0.5 0.5 0.5 0.5 0.5 0.5 0.5 0.5 0.5 0.5 0.5 0.5\n 0.5 0.5 0.5 0.5 0.5 0.5 0.5 0.5 0.5 0.5 0.5 0.5 0.5 0.5 0.5 0.5 0.5 0.5\n 0.5 0.5 0.5 0.5 0.5 0.5 0.5 0.5 0.5 0.5 0.5 0.5 0.5 0.5 0.5 0.5 0.5 0.5\n 0.5 0.5 0.5 0.5 0.5 0.5 0.5 0.5 0.5 0.5 0.5 0.5 0.5 0.5 0.5 0.5 0.5 0.5\n 0.5 0.5 0.5 0.5 0.5 0.5 0.5 0.5 0.5 0.5 0.5 0.5 0.5 0.5 0.5 0.5 0.5 0.5\n 0.5 0.5 0.5 0.5 0.5 0.5 0.5 0.5 0.5 0.5 0.5 0.5 0.5 0.5 0.3 0.5 0.5 0.5\n 0.5 0.5 0.5 0.5 0.5 0.5 0.5 0.5 0.5 0.5 0.5 0.5 0.5 0.5 0.5 0.5 0.5 0.5\n 0.5 0.5 0.5 0.5 0.5 0.5 0.5 0.5 0.5 0.5 0.5 0.5 0.5 0.5 0.5 0.5 0.5 0.5\n 0.5 0.5 0.5 0.5 0.5 0.5 0.5 0.5 0.5 0.5 0.5 0.5 0.5 0.5 0.5 0.5 0.5 0.5\n 0.5 0.5 0.5 0.5 0.5 0.5 0.5 0.5 0.5 0.5 0.5 0.5 0.5 0.5 0.5 0.5 0.5 0.3\n 0.5 0.5 0.5 0.5 0.5 0.3 0.5 0.5 0.5 0.5 0.5 0.5 0.5 0.5 0.5 0.5 0.5 0.5\n 0.3 0.5 0.5 0.5 0.3 0.5 0.5 0.5 0.5 0.5 0.5 0.5 0.5 0.5 0.5 0.5 0.5 0.5\n 0.5 0.5 0.5 0.5 0.5 0.5 0.5 0.5 0.5 0.5 0.5 0.5 0.5 0.5 0.5 0.5 0.5 0.5\n 0.5 0.5 0.5 0.5 0.5 0.5 0.5 0.5 0.5 0.5 0.5 0.5 0.3 0.5 0.5 0.5 0.5 0.5\n 0.5 0.5 0.5 0.5 0.5 0.5 0.5 0.5 0.5 0.5 0.5 0.5 0.5 0.5 0.5 0.5 0.5 0.5\n 0.5 0.5 0.5 0.5 0.5 0.3 0.5 0.5 0.5 0.5 0.5 0.5 0.5 0.5 0.5 0.5 0.5 0.5\n 0.5 0.5 0.5 0.5 0.5 0.5 0.5 0.5 0.5 0.5 0.5 0.5 0.5 0.5 0.5 0.5 0.5 0.3\n 0.3 0.5 0.5 0.5 0.3 0.5 0.5 0.5 0.5 0.5 0.5 0.5 0.5 0.5 0.5 0.5 0.3 0.5\n 0.5 0.5 0.5 0.5 0.5 0.5 0.5 0.5 0.5 0.5 0.5 0.5 0.5 0.5 0.5 0.5 0.5 0.3\n 0.5 0.5 0.5 0.5 0.5 0.3 0.5 0.3 0.5 0.5 0.5 0.5 0.5 0.5 0.5 0.5 0.5 0.5\n 0.5 0.5 0.5 0.5 0.5 0.5 0.5 0.5 0.5 0.5 0.5 0.5 0.5 0.5 0.5 0.5 0.5 0.5\n 0.5 0.5 0.5 0.5 0.5 0.5 0.5 0.5 0.5 0.3 0.5 0.5 0.3 0.5 0.5 0.5 0.5 0.5\n 0.5 0.5 0.3 0.5 0.5 0.5 0.5 0.5 0.5 0.3 0.5 0.5 0.5 0.5 0.5 0.5 0.5 0.5\n 0.5 0.5 0.5 0.5 0.5 0.5 0.5 0.5 0.5 0.5 0.5 0.5 0.5 0.5 0.5 0.5 0.5 0.5\n 0.5 0.3 0.3 0.5 0.5 0.5 0.5 0.5 0.5 0.5 0.5 0.5 0.5 0.5 0.5 0.5 0.5 0.5\n 0.5 0.5 0.5 0.5 0.5 0.5 0.5 0.5 0.5 0.5 0.5 0.5 0.5 0.5 0.5 0.5 0.5 0.5\n 0.5 0.5 0.5 0.5 0.5 0.5 0.5 0.5 0.5 0.5 0.5 0.5 0.5 0.5 0.5 0.5 0.5 0.5\n 0.5 0.5 0.5 0.3 0.5 0.5 0.5 0.5 0.5 0.5 0.5 0.5 0.5 0.5 0.5 0.5 0.5 0.3\n 0.5 0.5 0.5 0.5 0.5 0.5 0.5 0.5 0.5 0.5 0.5 0.5 0.5 0.5 0.5 0.5 0.5 0.5\n 0.5 0.5 0.5 0.5 0.5 0.5 0.5 0.5 0.5 0.5 0.5 0.5 0.5 0.5 0.5 0.5 0.5 0.5\n 0.5 0.5 0.5 0.5 0.5 0.5 0.5 0.5 0.5 0.5 0.5 0.5 0.5 0.5 0.5 0.5 0.5 0.5\n 0.5 0.5 0.5 0.5 0.5 0.5 0.5 0.5 0.5 0.5 0.5 0.5 0.5 0.5 0.5 0.5 0.5 0.5\n 0.5 0.5 0.5 0.5 0.5 0.5 0.5 0.5 0.5 0.5 0.5 0.5 0.5 0.5 0.5 0.5 0.5 0.5\n 0.5 0.5 0.5 0.5 0.5 0.5 0.5 0.5 0.5 0.5 0.5 0.3 0.5 0.5 0.5 0.5 0.5 0.5\n 0.5 0.5 0.5 0.5 0.5 0.5 0.5 0.5 0.5 0.5 0.5 0.5 0.5 0.5 0.5 0.5 0.5 0.5\n 0.5 0.5 0.5 0.5 0.5 0.5 0.5 0.5 0.5 0.5 0.5 0.5 0.5 0.5 0.5 0.5 0.5 0.5\n 0.5 0.5 0.5 0.5 0.5 0.5 0.5 0.5 0.5 0.5 0.5 0.5 0.5 0.5 0.5 0.5 0.5 0.5\n 0.5 0.5 0.5 0.5 0.5 0.5 0.3 0.5 0.5 0.5 0.5 0.5 0.5 0.5 0.5 0.5 0.5 0.5\n 0.5 0.5 0.5 0.5 0.5 0.5 0.5 0.5 0.5 0.5 0.5 0.5 0.5 0.5 0.5 0.5 0.5 0.5\n 0.5 0.5 0.5 0.5 0.5 0.5 0.5 0.5 0.5 0.5 0.5 0.5 0.5 0.5 0.5 0.5 0.5 0.5\n 0.5 0.5 0.5 0.5 0.5 0.5 0.5 0.5 0.5 0.5 0.5 0.5 0.5 0.5 0.5 0.5 0.5 0.5\n 0.5 0.5 0.5 0.5 0.5 0.5 0.5 0.5 0.5 0.5 0.5 0.5 0.5 0.5 0.5 0.5 0.5 0.5\n 0.5 0.5 0.5 0.5 0.5 0.5 0.5 0.5 0.5 0.5 0.5 0.5 0.5 0.5 0.5 0.5 0.5 0.5\n 0.5 0.5 0.5 0.5 0.5 0.5 0.5 0.5 0.5 0.5 0.5 0.5 0.5 0.5 0.5 0.5 0.5 0.5\n 0.5 0.5 0.5 0.5 0.5 0.5 0.5 0.5 0.5 0.5]\n"
     ]
    },
    {
     "name": "stdout",
     "output_type": "stream",
     "text": [
      "[0.5 0.5 0.5 ... 0.5 0.5 0.5]\n"
     ]
    },
    {
     "data": {
      "text/plain": [
       "[<matplotlib.lines.Line2D at 0x20c53deb860>]"
      ]
     },
     "execution_count": 29,
     "metadata": {},
     "output_type": "execute_result"
    },
    {
     "data": {
      "image/png": "[encoded data removed]",
      "text/plain": [
       "<Figure size 432x288 with 1 Axes>"
      ]
     },
     "metadata": {},
     "output_type": "display_data"
    }
   ],
   "source": [
    "samples = [10,50,100,500,1000,5000]\n",
    "regrets = []\n",
    "for sample_num in samples:\n",
    "    regrets.append(bayesian_player(bandits,sample_num))\n",
    "import matplotlib.pyplot as plt\n",
    "plt.plot(samples,regrets)"
   ]
  },
  {
   "cell_type": "code",
   "execution_count": null,
   "metadata": {},
   "outputs": [],
   "source": []
  }
 ],
 "metadata": {
  "kernelspec": {
   "display_name": "Python 2",
   "language": "python",
   "name": "python2"
  },
  "language_info": {
   "codemirror_mode": {
    "name": "ipython",
    "version": 2
   },
   "file_extension": ".py",
   "mimetype": "text/x-python",
   "name": "python",
   "nbconvert_exporter": "python",
   "pygments_lexer": "ipython2",
   "version": "2.7.6"
  }
 },
 "nbformat": 4,
 "nbformat_minor": 0
}
